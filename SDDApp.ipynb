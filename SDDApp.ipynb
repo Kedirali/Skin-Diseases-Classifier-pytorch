{
 "cells": [
  {
   "cell_type": "code",
   "execution_count": 1,
   "metadata": {},
   "outputs": [],
   "source": [
    "import os\n",
    "import time\n",
    "import torch\n",
    "import torchvision\n",
    "import logging\n",
    "import warnings\n",
    "import datetime\n",
    "import itertools\n",
    "import numpy as np\n",
    "import pandas as pd\n",
    "from glob import glob\n",
    "from PIL import Image\n",
    "import torch.nn as nn\n",
    "from tqdm import tqdm\n",
    "from random import seed\n",
    "import torch.optim as optim\n",
    "from torch.utils import data\n",
    "from torchvision import models\n",
    "import pretrainedmodels as ptm\n",
    "import sklearn.metrics as skmet\n",
    "import matplotlib.pyplot as plt\n",
    "import torch.nn.functional as nnF\n",
    "from imgaug import augmenters as iaa\n",
    "from torch.utils.data import DataLoader\n",
    "#from tensorboardX import SummaryWriter\n",
    "import torchvision.transforms as transforms\n",
    "from sklearn.model_selection import StratifiedKFold\n",
    "from torch.utils.tensorboard import SummaryWriter"
   ]
  },
  {
   "cell_type": "code",
   "execution_count": 2,
   "metadata": {},
   "outputs": [
    {
     "name": "stdout",
     "output_type": "stream",
     "text": [
      "The model will run on cpu\n"
     ]
    },
    {
     "name": "stderr",
     "output_type": "stream",
     "text": [
      "C:\\Users\\user\\anaconda3\\lib\\site-packages\\torch\\cuda\\__init__.py:52: UserWarning: CUDA initialization: Found no NVIDIA driver on your system. Please check that you have an NVIDIA GPU and installed a driver from http://www.nvidia.com/Download/index.aspx (Triggered internally at  ..\\c10\\cuda\\CUDAFunctions.cpp:100.)\n",
      "  return torch._C._cuda_getDeviceCount() > 0\n"
     ]
    }
   ],
   "source": [
    "# On GPU or on CPU \n",
    "device = torch.device(\"cuda\" if torch.cuda.is_available() else \"cpu\") \n",
    "print('The model will run on', device)"
   ]
  },
  {
   "cell_type": "code",
   "execution_count": 3,
   "metadata": {},
   "outputs": [],
   "source": [
    "class MyDataset (data.Dataset):\n",
    "    \"\"\"\n",
    "    This is the standard way to implement a dataset pipeline in PyTorch. We need to extend the torch.utils.data.Dataset\n",
    "    class and implement the following methods: __len__, __getitem__ and the constructor __init__\n",
    "    \"\"\"\n",
    "\n",
    "    def __init__(self, imgs_path, labels, meta_data=None, transform=None):\n",
    "        \"\"\"\n",
    "        The constructor gets the images path and their respective labels and meta-data (if applicable).\n",
    "        In addition, you can specify some transform operation to be carry out on the images.\n",
    "        It's important to note the images must match with the labels (and meta-data if applicable). For example, the\n",
    "        imgs_path[x]'s label must take place on labels[x].\n",
    "        Parameters:\n",
    "        :param imgs_path (list): a list of string containing the image paths\n",
    "        :param labels (list) a list of labels for each image\n",
    "        :param meta_data (list): a list of meta-data regarding each image. If None, there is no information.\n",
    "        Defaul is None.\n",
    "        :param transform (torchvision.transforms.Compose): transform operations to be carry out on the images\n",
    "\n",
    "\n",
    "\n",
    "        The self parameter is a reference to the current instance of the class, and is used to access variables that belongs to the class.\n",
    "\n",
    "        It does not have to be named self , you can call it whatever you like, but it has to be the first parameter of any function in the class:\n",
    "        \"\"\"\n",
    "\n",
    "        super().__init__()\n",
    "        self.imgs_path = imgs_path\n",
    "        self.labels = labels\n",
    "        self.meta_data = meta_data\n",
    "\n",
    "        # if transform is None, we need to ensure that the PIL image will be transformed to tensor, otherwise we'll get\n",
    "        # an exception\n",
    "        if transform is not None:\n",
    "            self.transform = transform\n",
    "        else:\n",
    "            self.transform = transforms.ToTensor()\n",
    "\n",
    "\n",
    "    def __len__(self):\n",
    "        \"\"\" This method just returns the dataset size \"\"\"\n",
    "        return len(self.imgs_path)\n",
    "\n",
    "\n",
    "    def __getitem__(self, item):\n",
    "        \"\"\"\n",
    "        It gets the image, labels and meta-data (if applicable) according to the index informed in `item`.\n",
    "        It also performs the transform on the image.\n",
    "        :param item (int): an index in the interval [0, ..., len(img_paths)-1]\n",
    "        :return (tuple): a tuple containing the image, its label and meta-data (if applicable)\n",
    "        \"\"\"\n",
    "\n",
    "        image = Image.open(self.imgs_path[item]).convert(\"RGB\")\n",
    "\n",
    "        # Applying the transformations\n",
    "        image = self.transform(image)\n",
    "\n",
    "        img_id = self.imgs_path[item].split('/')[-1].split('.')[0]\n",
    "\n",
    "        if self.meta_data is None:\n",
    "            meta_data = []\n",
    "        else:\n",
    "            meta_data = self.meta_data[item]\n",
    "\n",
    "        if self.labels is None:\n",
    "            labels = []\n",
    "        else:\n",
    "            labels = self.labels[item]\n",
    "\n",
    "        return image, labels, meta_data, img_id"
   ]
  },
  {
   "cell_type": "code",
   "execution_count": 4,
   "metadata": {},
   "outputs": [],
   "source": [
    "def get_data_loader (imgs_path, labels, meta_data=None, transform=None, batch_size=32, shuf=False, num_workers=0,\n",
    "                     pin_memory=True):\n",
    "    \"\"\"\n",
    "    This function gets a list of images path, their labels and meta-data (if applicable) and returns a DataLoader\n",
    "    for these files. You also can set some transformations using torchvision.transforms in order to perform data\n",
    "    augmentation. Lastly, params is a dictionary that you can set the following parameters:\n",
    "    batch_size (int): the batch size for the dataset. If it's not informed the default is 32\n",
    "    shuf (bool): set it true if wanna shuffe the dataset. If it's not informed the default is True\n",
    "    :param imgs_path (list): a list of string containing the images path\n",
    "    :param labels (list): a list of labels for each image\n",
    "    :param meta_data (list, optional): a list of meta-data regarding each image. If it's None, it means there's\n",
    "    no meta-data. Default is None\n",
    "    :param transform (torchvision.transforms, optional): use the torchvision.transforms.compose to perform the data\n",
    "    augmentation for the dataset. Alternatively, you can use the jedy.pytorch.utils.augmentation to perform the\n",
    "    augmentation. If it's None, none augmentation will be perform. Default is None\n",
    "    :param num_workers (int): the number of threads to be used in CPU. If the key is not informed or params = None, the\n",
    "    default value will be  4\n",
    "    :param pin_memory (bool): set it to True to Pytorch preload the images on GPU. If the key is not informed or\n",
    "    params = None, the default value will be True\n",
    "    :return (torch.utils.data.DataLoader): a dataloader with the dataset and the chose params\n",
    "    \"\"\"\n",
    "\n",
    "    dt = MyDataset(imgs_path, labels, meta_data, transform)\n",
    "    dl = DataLoader (dataset=dt, batch_size=batch_size, shuffle=shuf, num_workers=num_workers,\n",
    "                          pin_memory=pin_memory)\n",
    "    return dl"
   ]
  },
  {
   "cell_type": "code",
   "execution_count": 33,
   "metadata": {},
   "outputs": [],
   "source": [
    "def parse_metadata(data_csv, replace_nan=None, cols_to_parse=None, replace_rules=None, save_path=None):\n",
    "    \"\"\"\n",
    "    This function parses the metadata within a csv/dataframe in order to transform string data in one_hot_encode\n",
    "    information. For example, if you have a column Gender that assume values as 'Female' or 'Male', this code will\n",
    "    create a new dataframe that replaces the column Gender to two columns: 'Female' and 'Male', in which will assume 1\n",
    "    or 0, depending on the gender.\n",
    "\n",
    "    :param data_csv (string or pandas.dataframe): the path for a csv or a dataframe already loaded\n",
    "    :param replace_nan (string or int or float or boolean or None): if you have NaN or missing data in your dataset you\n",
    "    can use this variable to replace them to a value. However, if you set it as None, the missing/NaN data will be\n",
    "    removed from the dataset. Default is None.\n",
    "    :param cols_to_parse (list, optional): a list of strings containing the column names to be parsed. If it's None,\n",
    "    none column will be parsed to hot encode. Default is None.\n",
    "    :param replace_rules (dict, optional): If you'd like to replace data in any column of your dataset, you can define\n",
    "    this rules here. For example, supose I have a column call 'A' that assume values as 1 or 'b'. If you'd like to\n",
    "    replace every incidence of 'b' to 2, you must do: replace_rules = {'A': {'b':2}}. Obviously, if you wanna insert\n",
    "    more rules for the same column or for a different one, you just need to follow the pattern. If None, none rule will\n",
    "    be carried out. Default is None.\n",
    "    :param save_path (string, optional): if you want to save the final dataframe, just set the path. If None, the\n",
    "    dataframe won't be save. Default is None.\n",
    "    :return: a parsed pandas.dataframe\n",
    "    \"\"\"\n",
    "\n",
    "    print(\"=\" * 30)\n",
    "    print(\" Parsing the input csv ***\")\n",
    "\n",
    "    # Reading the csv\n",
    "    if isinstance(data_csv, str):\n",
    "        data = pd.read_csv(data_csv)\n",
    "    else:\n",
    "        data = data_csv\n",
    "\n",
    "    # Checking if we need to remove any possible NaN\n",
    "    if replace_nan is None:\n",
    "        data = data.dropna()\n",
    "    else:\n",
    "        data = data.fillna(replace_nan)\n",
    "\n",
    "\n",
    "    # If replace rules is true, we'll just replace the values by the given\n",
    "    # rules dictionary\n",
    "    if replace_rules is not None:\n",
    "        cols_rules_keys = list(replace_rules.keys())\n",
    "        for col in cols_rules_keys:\n",
    "            col_rules = list(replace_rules[col].keys())\n",
    "            col_values = list(replace_rules[col].values())\n",
    "            try:\n",
    "                data[col] = data[col].replace(col_rules, col_values)\n",
    "            except TypeError:\n",
    "                pass\n",
    "\n",
    "    # If cols_to_handle is None the function will return the data without do anything\n",
    "    new_col_names = list()\n",
    "    if cols_to_parse is not None:\n",
    "\n",
    "        for col in cols_to_parse:\n",
    "            # Getting the unique values\n",
    "            col_values = list(data[col].unique())\n",
    "\n",
    "            # Removing all elements containing the replace_nan\n",
    "            if replace_nan is not None:\n",
    "                try:\n",
    "                    col_values.remove(replace_nan)\n",
    "                except ValueError:\n",
    "                    pass\n",
    "\n",
    "            # Sorting the values and saving them in new_col_names\n",
    "            col_values.sort()\n",
    "            new_col_names += col_values\n",
    "\n",
    "        # Now, let's train to compose the new dataframe:\n",
    "        # Getting the original col values and removing the handle ones\n",
    "        original_col_names = list(data.columns.values)\n",
    "        for c in cols_to_parse:\n",
    "            original_col_names.remove(c)\n",
    "            # Putting together the original and new columns. Now we have our final dataframe names\n",
    "        data_col_names = original_col_names + new_col_names\n",
    "        original_col_names = list(data.columns.values)\n",
    "\n",
    "        # Now, let's iterate through the old data and get all values for each sample, replacing\n",
    "        # for the one_hot encode if applicable\n",
    "        values = list()\n",
    "        for idx, row in data.iterrows():\n",
    "\n",
    "            row_dict = {c: 0 for c in data_col_names}\n",
    "            for col in original_col_names:\n",
    "                if col in data_col_names:\n",
    "                    row_dict[col] = row[col]\n",
    "                else:\n",
    "                    if replace_nan is not None:\n",
    "                        if row[col] == replace_nan:\n",
    "                            row_dict[row[col]] = 0\n",
    "                        else:\n",
    "                            row_dict[row[col]] = 1\n",
    "                    else:\n",
    "                        row_dict[row[col]] = 1\n",
    "\n",
    "            values.append(row_dict)\n",
    "\n",
    "        data = pd.DataFrame(values, columns=data_col_names)\n",
    "\n",
    "    if save_path is not None:\n",
    "        data.to_csv(save_path, columns=data_col_names, index=False)\n",
    "\n",
    "    print(\"- csv parsed!\")\n",
    "    print(\"=\" * 30)\n",
    "    return data"
   ]
  },
  {
   "cell_type": "code",
   "execution_count": 34,
   "metadata": {},
   "outputs": [],
   "source": [
    "def label_categorical_to_number (data_csv, col_target, col_target_number=None, save_path=None):\n",
    "    \"\"\"\n",
    "    This function converts a label from categorical to number. The values are converted to code in alphabetic ordem.\n",
    "    Example: for a set of labels ['A', 'B', 'C'] it converts to [0, 1, 2].\n",
    "    :param data_csv (string or pd.DataFrame): the path for a csv or a dataframe already loaded\n",
    "    :param col_target (string): the name of the target/label column\n",
    "    :param col_target_number (string): if you want to control the name of the column with the convert number, just set\n",
    "    the name here, otherwise it will set <col_target>_number\n",
    "    :param save_path (string): the path to save the result of this function. Default is None\n",
    "    return: it returns the same dataframe with an additional column called <col_target>_number or col_target_number\n",
    "    \"\"\"\n",
    "\n",
    "    # Loading the data_csv\n",
    "    if isinstance(data_csv, str):\n",
    "        data_csv = pd.read_csv(data_csv)\n",
    "\n",
    "    data_csv[col_target] = data_csv[col_target].astype('category')\n",
    "    if col_target_number is None:\n",
    "        data_csv[col_target + '_number'] = data_csv[col_target].cat.codes\n",
    "    else:\n",
    "        data_csv[col_target_number] = data_csv[col_target].cat.codes\n",
    "\n",
    "    if save_path is not None:\n",
    "        data_csv.to_csv(save_path, index=False)\n",
    "\n",
    "    return data_csv"
   ]
  },
  {
   "cell_type": "code",
   "execution_count": 35,
   "metadata": {},
   "outputs": [],
   "source": [
    "def get_labels_frequency (data_csv, col_target, col_single_id, verbose=False):\n",
    "    \"\"\"\n",
    "    This function returns the frequency of each label in the dataset\n",
    "    :param data_csv (string or pd.DataFrame): the path for a csv or a dataframe already loaded\n",
    "    :param col_target (string): the name of the target/label column\n",
    "    :param col_single_id (string): the name any column that is present for all rows in the dataframe\n",
    "    :param verbose (boolean): a boolean to print or not the frequencies\n",
    "    return (pd.DataFrame): a dataframe containing the frequency of each label\n",
    "    \"\"\"\n",
    "\n",
    "    # Loading the data_csv\n",
    "    if isinstance(data_csv, str):\n",
    "        data_csv = pd.read_csv(data_csv)\n",
    "\n",
    "    data_ = data_csv.groupby([col_target])[col_single_id].count()\n",
    "    if (verbose):\n",
    "        print('### Data summary: ###')\n",
    "        print(data_)\n",
    "        print(\">> Total samples: {} <<\".format(data_.sum()))\n",
    "\n",
    "    return data_"
   ]
  },
  {
   "cell_type": "code",
   "execution_count": 67,
   "metadata": {},
   "outputs": [],
   "source": [
    "class ImgTrainTransform:\n",
    "\n",
    "    def __init__(self, size=(224,224), normalization=([0.485, 0.456, 0.406], [0.229, 0.224, 0.225])):\n",
    "\n",
    "        self.normalization = normalization\n",
    "        self.aug = iaa.Sequential([\n",
    "            iaa.Sometimes(0.25, iaa.Affine(scale={\"x\": (1.0, 2.0), \"y\": (1.0, 2.0)})),\n",
    "            iaa.Scale(size),\n",
    "            iaa.Fliplr(1.0),\n",
    "            iaa.Flipud(1.0),  # vertically flip 20% of all images\n",
    "            iaa.Sometimes(1.0, iaa.Affine(rotate=(-90, 90), mode='symmetric')),\n",
    "            iaa.Sometimes(1.0, iaa.Affine(rotate=(-180, 180), mode='symmetric')),\n",
    "            iaa.Sometimes(1.0, iaa.Affine(rotate=(-270, 270), mode='symmetric')),\n",
    "            iaa.Sometimes(0.25, iaa.GaussianBlur(sigma=(0, 1.5))),\n",
    "\n",
    "            # noise\n",
    "            iaa.Sometimes(0.1,\n",
    "                          iaa.OneOf([\n",
    "                              iaa.Dropout(p=(0, 0.05)),\n",
    "                              iaa.CoarseDropout(0.02, size_percent=0.25)\n",
    "                          ])),\n",
    "\n",
    "            iaa.Sometimes(0.25,\n",
    "                          iaa.OneOf([\n",
    "                              iaa.Add((-15, 15), per_channel=0.5), # brightness\n",
    "                              iaa.AddToHueAndSaturation(value=(-10, 10), per_channel=True)\n",
    "                          ])),\n",
    "\n",
    "        ])\n",
    "\n",
    "    def __call__(self, img):\n",
    "        img = self.aug.augment_image(np.array(img)).copy()\n",
    "        transforms = torchvision.transforms.Compose([\n",
    "            torchvision.transforms.ToTensor(),\n",
    "            torchvision.transforms.Normalize(self.normalization[0], self.normalization[1]),\n",
    "        ])\n",
    "        return transforms(img)\n",
    "\n",
    "\n",
    "class ImgEvalTransform:\n",
    "\n",
    "    def __init__(self, size=(224,224), normalization=([0.485, 0.456, 0.406], [0.229, 0.224, 0.225])):\n",
    "\n",
    "        self.normalization = normalization\n",
    "        self.size = size\n",
    "\n",
    "    def __call__(self, img):\n",
    "        transforms = torchvision.transforms.Compose([\n",
    "            torchvision.transforms.Resize(self.size),\n",
    "            torchvision.transforms.ToTensor(),\n",
    "            torchvision.transforms.Normalize(self.normalization[0], self.normalization[1]),\n",
    "        ])\n",
    "        return transforms(img)"
   ]
  },
  {
   "cell_type": "code",
   "execution_count": 68,
   "metadata": {},
   "outputs": [],
   "source": [
    "def one_hot_encoding(ind, N=None):\n",
    "    \"\"\"\n",
    "    This function binarizes a vector (one hot enconding).\n",
    "    For example:\n",
    "    Input: v = [1,2,3]\n",
    "    Output: v = [[1,0,0;\n",
    "                0,1,0;\n",
    "                0,0,1]]\n",
    "\n",
    "    :param ind (numpy array): an numpy array 1 x n in which each position is a label\n",
    "    :param N (int, optional): the number of indices. If None, the code get is from the shape. Default is None.\n",
    "\n",
    "    :return (numpy.array): the one hot enconding array n x N\n",
    "    \"\"\"\n",
    "\n",
    "    ind = np.asarray(ind)\n",
    "    if ind is None:\n",
    "        return None\n",
    "\n",
    "    if N is None:\n",
    "        N = ind.max() + 1\n",
    "\n",
    "    return (np.arange(N) == ind[:, None]).astype(int)"
   ]
  },
  {
   "cell_type": "code",
   "execution_count": 69,
   "metadata": {},
   "outputs": [],
   "source": [
    "def _check_dim (lab_real, lab_pred, mode='labels'):\n",
    "    \"\"\"\n",
    "    This  function checks if y_real and y_pred are 1-d or 2-d. If mode is 'labels', this function returns an 1-d array\n",
    "    ints, for ex: [0, 0, 1, 1, 2], in which each number is a label. If mode is 'scores', this function returns an 2-d\n",
    "    array following the one hot encoding methos. For ex: [[0,0,0], [0,0,0], [0,1,0], [0,1,0], [0,0,1]]\n",
    "\n",
    "    :param lab_real(1d or 2d n.array): the data real labels\n",
    "    :param lab_pred(1d or 2d n.array): the predictions returned by the model\n",
    "    :param mode (string, optional): the operation mode described above. Default is 'labels'\n",
    "    :return (np.array, np.array): returns the lab_real and lab_pred transformed\n",
    "    \"\"\"\n",
    "    if mode == 'labels':\n",
    "        if lab_real.ndim == 2:\n",
    "            lab_real = lab_real.argmax(axis=1)\n",
    "        if lab_pred.ndim == 2:\n",
    "            lab_pred = lab_pred.argmax(axis=1)\n",
    "\n",
    "    elif mode == 'scores':\n",
    "        if lab_real.ndim == 1:\n",
    "            lab_real = one_hot_encoding(lab_real)\n",
    "        if lab_pred.ndim == 1:\n",
    "            lab_pred = one_hot_encoding(lab_pred)\n",
    "\n",
    "    else:\n",
    "        raise Exception ('There is no mode called {}. Please, choose between score or labels'.format(mode))\n",
    "\n",
    "    return lab_real, lab_pred"
   ]
  },
  {
   "cell_type": "code",
   "execution_count": 70,
   "metadata": {},
   "outputs": [],
   "source": [
    "class AVGMetrics (object):\n",
    "    \"\"\"\n",
    "        This is a simple class to control the AVG for a given value. It's used to control loss and accuracy for start\n",
    "        and evaluate partition\n",
    "    \"\"\"\n",
    "    def __init__(self):\n",
    "        self.sum_value = 0\n",
    "        self.avg = 0\n",
    "        self.count = 0\n",
    "        self.values = []\n",
    "\n",
    "    def __call__(self):\n",
    "        return self.avg\n",
    "\n",
    "    def update(self, val):\n",
    "        self.values.append(val)\n",
    "        self.sum_value += val\n",
    "        self.count += 1\n",
    "        self.avg = self.sum_value / float(self.count)\n",
    "\n",
    "    def print (self):\n",
    "        print('\\nsum_value: ', self.sum_value)\n",
    "        print('count: ', self.count)\n",
    "        print('avg: ', self.avg)"
   ]
  },
  {
   "cell_type": "code",
   "execution_count": 71,
   "metadata": {},
   "outputs": [],
   "source": [
    "def accuracy (lab_real, lab_pred, verbose=False):\n",
    "    \"\"\"\n",
    "    Computess the accuracy. Both lab_real and lab_pred can be a labels array or and a array of\n",
    "    scores (one hot encoding) for each class.\n",
    "\n",
    "    :param lab_real(np.array): the data real labels\n",
    "    :param lab_pred(np.array): the predictions returned by the model\n",
    "    :param verbose(bool, optional): if you'd like to print the accuracy. Dafault is False.\n",
    "    :return (float): the accuracy\n",
    "    \"\"\"\n",
    "\n",
    "    # Checkin the array dimension\n",
    "    lab_real, lab_pred = _check_dim (lab_real, lab_pred, mode='labels')\n",
    "\n",
    "    acc = skmet.accuracy_score(lab_real, lab_pred)\n",
    "\n",
    "    if verbose:\n",
    "        print('- Accuracy - {:.3f}'.format(acc))\n",
    "\n",
    "    return acc"
   ]
  },
  {
   "cell_type": "code",
   "execution_count": 72,
   "metadata": {},
   "outputs": [],
   "source": [
    "class TrainHistory:\n",
    "    \n",
    "    def __init__(self):\n",
    "        self.val_loss = list()\n",
    "        self.val_acc = list()\n",
    "        self.train_loss = list()\n",
    "        self.train_acc = list()\n",
    "        \n",
    "    \n",
    "    def update (self, loss_train, loss_val, acc_train, acc_val):\n",
    "        \"\"\"\n",
    "        This function appends a new value to the loss/train loss and acc. These values are stored by epoch\n",
    "        :param loss_train: the train loss of the ith epoch\n",
    "        :param loss_val: the val loss of the ith epoch\n",
    "        :param acc_train: the train accuracy of the ith epoch\n",
    "        :param acc_val: the val accuracy of the ith epoch\n",
    "        \"\"\"\n",
    "\n",
    "        self.train_loss.append(loss_train)\n",
    "        self.val_loss.append(loss_val)\n",
    "        self.train_acc.append(acc_train)\n",
    "        self.val_acc.append(acc_val)\n",
    "\n",
    "\n",
    "    def save (self, folder_path):\n",
    "        \"\"\"\n",
    "        This function saves the loss and accuracy history as csv files\n",
    "        :param folder_path: a string with the base folder path\n",
    "        \"\"\"\n",
    "\n",
    "        path = os.path.join(folder_path, 'history')\n",
    "        if not os.path.isdir(path):\n",
    "            os.mkdir(path)\n",
    "\n",
    "        print (\"Saving history CSVs in {}\".format(path))\n",
    "\n",
    "        np.savetxt(os.path.join(path, \"train_loss.csv\"), np.asarray(self.train_loss), fmt='%.3f', delimiter=',')\n",
    "        np.savetxt(os.path.join(path, \"val_loss.csv\"), np.asarray(self.val_loss), fmt='%.3f', delimiter=',')\n",
    "\n",
    "        np.savetxt(os.path.join(path, \"train_acc.csv\"), np.asarray(self.train_acc), fmt='%.3f', delimiter=',')\n",
    "        np.savetxt(os.path.join(path, \"val_acc.csv\"), np.asarray(self.val_acc), fmt='%.3f', delimiter=',')\n",
    "\n",
    "\n",
    "\n",
    "    def save_plot (self, folder_path):\n",
    "        \"\"\"\n",
    "        This function saves a plot of the loss and accuracy history\n",
    "        :param folder_path: a string with the base folder path\n",
    "        \"\"\"\n",
    "\n",
    "        path = os.path.join(folder_path, 'history')\n",
    "        if not os.path.isdir(path):\n",
    "            os.mkdir(path)\n",
    "\n",
    "        epochs = [i + 1 for i in range(len(self.train_loss))]\n",
    "\n",
    "        print(\"Saving history plots in {}\".format(path))\n",
    "\n",
    "        plt.plot(epochs, self.train_loss, color='r', linestyle='solid')\n",
    "        plt.plot(epochs, self.val_loss, color='b', linestyle='solid')\n",
    "        plt.grid(color='black', linestyle='dotted', linewidth=0.7)\n",
    "        plt.legend(['Train', 'Validation'], loc='upper right')\n",
    "        plt.xlabel(\"Epoch\")\n",
    "        plt.ylabel(\"Loss\")\n",
    "        plt.title(\"Training Loss\")\n",
    "        plt.tight_layout()\n",
    "        plt.savefig(os.path.join(path, \"loss_history.jpg\"), dpi=300)\n",
    "\n",
    "        plt.figure()\n",
    "\n",
    "        plt.plot(epochs, self.train_acc, color='r', linestyle='solid')\n",
    "        plt.plot(epochs, self.val_acc, color='b', linestyle='solid')\n",
    "        plt.grid(color='black', linestyle='dotted', linewidth=0.7)\n",
    "        plt.legend(['Train', 'Validation'], loc='upper left')\n",
    "        plt.xlabel(\"Epoch\")\n",
    "        plt.ylabel(\"Accuracy\")\n",
    "        plt.title(\"Training Accuracy\")\n",
    "        plt.tight_layout()\n",
    "        plt.savefig(os.path.join(path, \"acc_history.jpg\"), dpi=200)\n",
    "\n",
    "        plt.figure()"
   ]
  },
  {
   "cell_type": "code",
   "execution_count": 73,
   "metadata": {},
   "outputs": [],
   "source": [
    "def conf_matrix (lab_real, lab_pred, normalize=True):\n",
    "    \"\"\"\n",
    "    This function computes the confusion matrix. Both lab_real and lab_pred can be a labels array or and a array of\n",
    "    scores (one hot encoding) for each class.\n",
    "\n",
    "    :param lab_real(np.array): the data real labels\n",
    "    :param lab_pred(np.array): the predictions returned by the model\n",
    "    :param class_names (list): the name of each label. For example: ['l1','l2']. If you pass a list with a different\n",
    "    number of labels that provided in lad_pred or real, you're gonna have an exception. If None, the labels will not\n",
    "    be considered. Default is None.\n",
    "    :param normalize (bool, optional): set it True if you'd like to normalize the cm. Default is False.\n",
    "    :return (2d np array: an np array containing the confusion matrix\n",
    "    \"\"\"\n",
    "\n",
    "    # Checkin the array dimension\n",
    "    lab_real, lab_pred = _check_dim(lab_real, lab_pred, mode='labels')\n",
    "\n",
    "    cm = skmet.confusion_matrix(lab_real, lab_pred)\n",
    "\n",
    "    if normalize:\n",
    "        cm = cm.astype('float') / cm.sum(axis=1)[:, np.newaxis]\n",
    "\n",
    "    return cm"
   ]
  },
  {
   "cell_type": "code",
   "execution_count": 74,
   "metadata": {},
   "outputs": [],
   "source": [
    "def plot_conf_matrix(cm, class_names, normalize=True, save_path=None, title='Confusion matrix', cmap=plt.cm.GnBu):\n",
    "    \"\"\"\n",
    "    This function makes a plot for a given confusion matrix. It can plots either the real or normalized one.\n",
    "    Most of this code is provided on:\n",
    "    https://scikit-learn.org/stable/modules/generated/sklearn.metrics.confusion_matrix.html\n",
    "\n",
    "    Please, refers there for any further reference.\n",
    "\n",
    "    :param cm (np.array): An m x m np array containing the confusion matrix\n",
    "    :param class_names (list): a list with the class labels. Ex:['A', 'B'], if you have 2 labels\n",
    "    :param normalize (bool, optional): set it True if you'd like to normalize the cm. Default is True.\n",
    "    :param save_path (string, optional): if you'd like to save your plot instead of show it on the screen, you need to\n",
    "    provide the full path (including image name and format) to do so. Ex: /home/user/cm.png. If None, the plot is not\n",
    "    save but showed in the screen. Default is None.\n",
    "    :param title (string, optional): the plot's title. Default is 'Confusion matrix'\n",
    "    :param cmap (plt.cm.color, option): a color pallete provided by pyplot. Default is GnBu.\n",
    "    \"\"\"\n",
    "\n",
    "    if normalize:\n",
    "        cm = cm.astype('float') / cm.sum(axis=1)[:, np.newaxis]\n",
    "\n",
    "    plt.imshow(cm, interpolation='nearest', cmap=cmap)\n",
    "    plt.title(title)\n",
    "    plt.colorbar()\n",
    "    tick_marks = np.arange(len(class_names))\n",
    "    plt.xticks(tick_marks, class_names, rotation=0)\n",
    "    plt.yticks(tick_marks, class_names)\n",
    "\n",
    "    fmt = '.2f' if normalize else 'd'\n",
    "    thresh = cm.max() / 2.\n",
    "    for i, j in itertools.product(range(cm.shape[0]), range(cm.shape[1])):\n",
    "        plt.text(j, i, format(cm[i, j], fmt),\n",
    "                 horizontalalignment=\"center\",\n",
    "                 color=\"white\" if cm[i, j] > thresh else \"black\")\n",
    "\n",
    "    plt.ylabel('True label')\n",
    "    plt.xlabel('Predicted label')\n",
    "    plt.tight_layout()\n",
    "\n",
    "    if isinstance(save_path, str):\n",
    "        plt.savefig(save_path, dpi=200)\n",
    "        plt.clf()\n",
    "    elif save_path:\n",
    "        plt.show()\n",
    "    else:\n",
    "        plt.clf()"
   ]
  },
  {
   "cell_type": "code",
   "execution_count": 75,
   "metadata": {},
   "outputs": [],
   "source": [
    "def precision_recall_report (lab_real, lab_pred, class_names=None, verbose=False, output_dict=False):\n",
    "    \"\"\"\n",
    "    Computes the precision, recall, F1 score and support for each class. Both lab_real and lab_pred can be a labels\n",
    "    array or and a array of scores (one hot encoding) for each class.\n",
    "\n",
    "    :param lab_real (np.array): the data real labels\n",
    "    :param lab_pred (np.array): the predictions returned by the model\n",
    "    :param class_names (list): the name of each label. For example: ['l1','l2']. If you pass a list with a different\n",
    "    number of labels that provided in lad_pred or real, you're gonna have an exception. If None, the labels will not\n",
    "    be considered. Default is None.\n",
    "    :return (string): a string containing the repost regarding each metric\n",
    "    \"\"\"\n",
    "\n",
    "    # Checking the array dimension\n",
    "    lab_real, lab_pred = _check_dim(lab_real, lab_pred, mode='labels')\n",
    "\n",
    "    report = skmet.classification_report(lab_real, lab_pred, target_names=class_names, output_dict=output_dict)\n",
    "\n",
    "    if verbose:\n",
    "         print(report)\n",
    "\n",
    "    return report"
   ]
  },
  {
   "cell_type": "code",
   "execution_count": 76,
   "metadata": {},
   "outputs": [],
   "source": [
    "def get_metrics_from_csv (csv, class_names=None, conf_mat=False, conf_mat_path=None, verbose=True):\n",
    "\n",
    "    if isinstance(csv, str):\n",
    "        data = pd.read_csv(csv)\n",
    "    else:\n",
    "        data = csv\n",
    "\n",
    "    if class_names is None:\n",
    "        class_names = data.columns.values[1:]\n",
    "\n",
    "    class_names_dict = {name: pos for pos, name in enumerate(class_names)}\n",
    "    preds = data[class_names].values\n",
    "\n",
    "    try:\n",
    "        labels_str = data['REAL'].values\n",
    "    except KeyError:\n",
    "        print (\"Warning: There is no ground truth in this file! The code will return None\")\n",
    "        return None\n",
    "\n",
    "    labels = [class_names_dict[lstr] for lstr in labels_str]\n",
    "    labels = np.array(labels)\n",
    "\n",
    "    acc = accuracy(labels, preds)\n",
    "    rep =  precision_recall_report(labels, preds, class_names, output_dict=True)\n",
    "    loss = skmet.log_loss(labels, preds)\n",
    "\n",
    "    if conf_mat:\n",
    "        plt.figure()\n",
    "        cm = conf_matrix(labels, preds, normalize=True)\n",
    "        if conf_mat_path is None:\n",
    "            p = \"./conf.jpg\"\n",
    "        else:\n",
    "            p = conf_mat_path\n",
    "        plot_conf_matrix(cm, class_names, title='Confusion matrix', cmap=plt.cm.GnBu, save_path=p)\n",
    "\n",
    "    if verbose:\n",
    "        print(\"-\" * 50)\n",
    "        print(\"- Metrics:\")\n",
    "        print(\"- Loss: {:.3f}\".format(loss))\n",
    "        print(\"- Accuracy: {:.3f}\".format(acc))\n",
    "        print(\"- Classification Report: {:.3f}\".format(rep))\n",
    "\n",
    "    return acc, rep, loss, fpr, tpr"
   ]
  },
  {
   "cell_type": "code",
   "execution_count": 77,
   "metadata": {},
   "outputs": [],
   "source": [
    "def save_model (model, folder_path, epoch, opt_fn, loss_fn, is_best, multi_gpu=False, verbose=False):\n",
    "    \"\"\"\n",
    "    This function saves the parameters of a model. It saves the last and best model (if it's the best).\n",
    "\n",
    "    :param model (nn.Model): the model you wanna save the parameters\n",
    "    :param folder_path (string): the folder you wanna save the checkpoints\n",
    "    :param name_last (string): the file's name of the last checkpoint. Considers using epoch in the name\n",
    "    :param name_best (bool, optional): the file's name of the best checkpoint. If it's False, it means this checkpoint\n",
    "    :param verbose (bool, optional): If you'd like to print information on the screen. Default is False.\n",
    "    is not the best one. Default is false.\n",
    "    \"\"\"\n",
    "\n",
    "    last_check_path = os.path.join(folder_path, 'last-checkpoint')\n",
    "    best_check_path = os.path.join(folder_path, 'best-checkpoint')\n",
    "\n",
    "    if not os.path.exists(last_check_path):\n",
    "        if verbose:\n",
    "            print ('last-checkpoint folder does not exist. I am creating it!')\n",
    "        os.mkdir(last_check_path)\n",
    "    else:\n",
    "        if verbose:\n",
    "            print ('last-checkpoint folder exist! Perfect, I will just use it.')\n",
    "\n",
    "    if not os.path.exists(best_check_path):\n",
    "        if verbose:\n",
    "            print('best-checkpoint folder does not exist. I am creating it!')\n",
    "        os.mkdir(best_check_path)\n",
    "    else:\n",
    "        if verbose:\n",
    "            print('best-checkpoint folder exist! Perfect, I will just use it.')\n",
    "\n",
    "    info_to_save = {\n",
    "        'epoch': epoch,\n",
    "        'model_state_dict': model.module.state_dict() if multi_gpu else model.state_dict(),\n",
    "        'optimizer_state_dict': opt_fn.state_dict(),\n",
    "        'loss': loss_fn,\n",
    "    }\n",
    "\n",
    "    torch.save(info_to_save, os.path.join(last_check_path, \"last-checkpoint.pth\"))\n",
    "\n",
    "    if is_best:\n",
    "        torch.save(info_to_save, os.path.join(best_check_path, 'best-checkpoint.pth'))"
   ]
  },
  {
   "cell_type": "code",
   "execution_count": 78,
   "metadata": {},
   "outputs": [],
   "source": [
    "def load_model (checkpoint_path, model, opt_fn=None, loss_fn=None, epoch=None):\n",
    "    \"\"\"\n",
    "    This function loads a model from a given checkpoint.\n",
    "\n",
    "    :param checkpoint_path (string): the full path to de checkpoint\n",
    "    :param model (nn.Model): the model that you wanna load the parameters\n",
    "    :return (nn.Model): the loaded model\n",
    "    \"\"\"\n",
    "\n",
    "    if not os.path.exists(checkpoint_path):\n",
    "        raise Exception (\"The {} does not exist!\".format(checkpoint_path))\n",
    "\n",
    "    ckpt = torch.load(checkpoint_path)\n",
    "    model.load_state_dict(ckpt['model_state_dict'])\n",
    "\n",
    "    if opt_fn is not None and loss_fn is not None:\n",
    "        opt_fn.load_state_dict(ckpt['optimizer_state_dict'])\n",
    "        epoch = ckpt['epoch']\n",
    "        loss_fn = ckpt['loss']\n",
    "        return model, opt_fn, loss_fn, epoch\n",
    "    else:\n",
    "        return model"
   ]
  },
  {
   "cell_type": "code",
   "execution_count": 79,
   "metadata": {},
   "outputs": [],
   "source": [
    "def split_k_folder_csv (data_csv, col_target, save_path=None, k_folder=10, seed_number=None):\n",
    "    \"\"\"\n",
    "    This function gets a csv/dataframe and creates a new column called 'folder' that represents the k-folder cross\n",
    "    validation\n",
    "    :param data_csv (string or pd.DataFrame): the path for a csv or a dataframe already loaded\n",
    "    :param col_target (string): the name of the target/label column\n",
    "    :param k_folder(int): the number of folders for the cross validation\n",
    "    :param save_path (string): the path to save the result of this function. Default is None\n",
    "    :param seed_number (number, optional): a seed number to guarantee reproducibility\n",
    "    return (pd.DataFrame): the dataframe with the new column\n",
    "    \"\"\"\n",
    "\n",
    "    print(\"=\" * 30)\n",
    "    print(\"- Generating the {}-foders***\".format(k_folder))\n",
    "\n",
    "    # Loading the data_csv\n",
    "    if isinstance(data_csv, str):\n",
    "        data_csv = pd.read_csv(data_csv)\n",
    "\n",
    "    skf = StratifiedKFold(k_folder, True, seed_number)\n",
    "    target = data_csv[col_target]\n",
    "    data_csv['folder'] = None\n",
    "    for folder_number, (train_idx, val_idx) in enumerate(skf.split(np.zeros(len(target)), target)):\n",
    "        data_csv.loc[val_idx, 'folder'] = folder_number + 1\n",
    "\n",
    "    if save_path is not None:\n",
    "        data_csv.to_csv(save_path, index=False)\n",
    "\n",
    "    print(\" Done!\")\n",
    "    print(\"=\" * 30)\n",
    "\n",
    "    return data_csv"
   ]
  },
  {
   "cell_type": "code",
   "execution_count": 80,
   "metadata": {},
   "outputs": [
    {
     "name": "stdout",
     "output_type": "stream",
     "text": [
      "==============================\n",
      " Parsing the input csv ***\n",
      "- csv parsed!\n",
      "==============================\n",
      "==============================\n",
      "- Generating the 10-foders***\n",
      " Done!\n",
      "==============================\n"
     ]
    }
   ],
   "source": [
    "BASE_PATH = \"E:/Skin_App/Drive\"\n",
    "\n",
    "\n",
    "data = parse_metadata (os.path.join(BASE_PATH, \"train_meta_data.csv\"), replace_nan=\"missing\",\n",
    "           cols_to_parse=['Gender', 'Anatomical_Site'], replace_rules={\"Approximated_Age\": {\"missing\": 0}})\n",
    "\n",
    "\n",
    "data = split_k_folder_csv(data, \"Diagnosis\", save_path=None, k_folder=10, seed_number=8)\n",
    "data = label_categorical_to_number (data, \"Diagnosis\", col_target_number=\"Diagnosis_number\")\n",
    "data_test = data[ data['folder'] == 10]\n",
    "data_train = data[ data['folder'] != 10]\n",
    "data_train.to_csv(os.path.join(BASE_PATH, \"ked_parsed_train.csv\"), index=False)\n",
    "data_test.to_csv(os.path.join(BASE_PATH, \"ked_parsed_test.csv\"), index=False)"
   ]
  },
  {
   "cell_type": "code",
   "execution_count": 81,
   "metadata": {},
   "outputs": [],
   "source": [
    "class Metrics:\n",
    "\n",
    "    def __init__(self, metrics_names, class_names=None, options=None):\n",
    "        \"\"\"\n",
    "        Construction method. You must inform the metrics you'd like to compute. Optionally, you may set some options \n",
    "        and the classes names. Each parameter is better described bellow:\n",
    "        \n",
    "        :param metrics_name (list, tuple or string): it's the variable that receives the metrics you'd like to compute.\n",
    "        The following metrics are available: \"accuracy\", \"conf_matrix\", \"plot_conf_matrix\", \"precision_recall_report\". \n",
    "        \n",
    "        To understand them, please, go to jedy.utils.classification_metrics.py.\n",
    "        \n",
    "        You should pass one or more of these metrics in a list or a tuple, \n",
    "        for ex: m = [\"accuracy\", \"conf_matrix\"]. If you'd like to compute all of them, just set it as 'all', i.e., \n",
    "        m = 'all'\n",
    "        \n",
    "        Important: if you'd like to compute either 'plot_conf_matrix' or 'auc_and_roc_curve', you must inform the\n",
    "        class_names. If not, you'll get an exception. The remaining metrics, except 'accuracy', also use the class_name,\n",
    "        however, it's not demanded for them\n",
    "        \n",
    "        :param class_names (list, tuple): a list or tuple containing the classes names in the same order you use in the\n",
    "        label. For ex: ['C1', 'C2']\n",
    "\n",
    "        :param options (dict): this is a dict containing some options to compute the metrics. The following options are\n",
    "        available:\n",
    "        - For all:\n",
    "            - save_all_path: a string with the path to save all metrics and images. In this case, the conf matrix will be\n",
    "            called by conf_mat.jpg\n",
    "\n",
    "\n",
    "        - For 'conf_matrix': \n",
    "            - 'normalize_conf_matrix' (bool): inform if you'd like to normalize the confusion matrix\n",
    "        \n",
    "        - For 'plot_conf_matrix':\n",
    "            - 'save_path_conf_matrix' (string): the complete file path if you'd like to save instead show the plot\n",
    "            - 'normalize_conf_matrix' (bool): inform if you'd like to normalize the confusion matrix\n",
    "            - 'title_conf_matrix' (string): the plot's title\n",
    "\n",
    "        - For 'save_scores':\n",
    "            - 'save_path_scores' (string): the complete file path if to save the scores\n",
    "            - 'pred_name_scores' (string): the names of the predictions .csv. If it's not informed, it's going to be\n",
    "            predictions.csv\n",
    "            \n",
    "        For more information about the options, please, refers to jedy.utils.classification_metrics.py\n",
    "         \n",
    "        \"\"\"\n",
    "        self.metrics_names = metrics_names\n",
    "        self.metrics_values = dict()        \n",
    "        self.options = options\n",
    "        \n",
    "        self.pred_scores = None\n",
    "        self.label_scores = None\n",
    "        self.img_names = None\n",
    "        \n",
    "        self.class_names = class_names\n",
    "\n",
    "\n",
    "    def compute_metrics (self):\n",
    "        \"\"\"\n",
    "        This method computes all metrics defined in metrics_name.\n",
    "        :return: it saves in self.metric_values all computed metrics\n",
    "        \"\"\"\n",
    "\n",
    "        save_all_path = None\n",
    "        # Checking if save_all is informed\n",
    "        if self.options is not None:\n",
    "            if \"save_all_path\" in self.options.keys():\n",
    "                # Checking if the folder doesn't exist. If True, we must create it.\n",
    "                if not os.path.isdir(self.options[\"save_all_path\"]):\n",
    "                    os.mkdir(self.options[\"save_all_path\"])\n",
    "                save_all_path = self.options[\"save_all_path\"]\n",
    "\n",
    "        if self.metrics_names is None:\n",
    "            return None\n",
    "        \n",
    "        if self.metrics_names == \"all\":\n",
    "            self.metrics_names = [\"accuracy\", \"conf_matrix\", \"plot_conf_matrix\", \"precision_recall_report\"]\n",
    "        \n",
    "        \n",
    "        for mets in self.metrics_names:\n",
    "            if mets == \"accuracy\":\n",
    "                self.metrics_values[\"accuracy\"] = accuracy(self.label_scores, self.pred_scores)\n",
    "\n",
    "            \n",
    "            elif mets == \"conf_matrix\":\n",
    "                \n",
    "                # Checking the options\n",
    "                normalize = True\n",
    "                if self.options is not None:\n",
    "                    if \"normalize_conf_matrix\" in self.options.keys():\n",
    "                        normalize = self.options[\"normalize_conf_matrix\"]\n",
    "                \n",
    "                self.metrics_values[\"conf_matrix\"] = conf_matrix(self.label_scores, self.pred_scores, normalize)\n",
    "            elif mets == \"plot_conf_matrix\":\n",
    "                \n",
    "                # Checking if the class names are defined\n",
    "                if self.class_names is None:\n",
    "                    raise Exception (\"You are trying to plot the confusion matrix without defining the classes name\")\n",
    "                \n",
    "                # Checking the options\n",
    "                save_path = None\n",
    "                normalize = True\n",
    "                title = \"Confusion Matrix\"   \n",
    "                \n",
    "                if self.options is not None:\n",
    "                    if save_all_path is not None:\n",
    "                        save_path = os.path.join(save_all_path, \"confusion_matrix.jpg\")\n",
    "                    if \"save_path_conf_matrix\" in self.options.keys():\n",
    "                        save_path = self.options[\"save_path_conf_matrix\"]\n",
    "                    if \"normalize_conf_matrix\" in self.options.keys():\n",
    "                        normalize = self.options[\"normalize_conf_matrix\"]\n",
    "                    if \"title_conf_matrix\" in self.options.keys():\n",
    "                        title = self.options[\"title_conf_matrix\"]\n",
    "                        \n",
    "                if \"conf_matrix\" in self.metrics_values.keys():\n",
    "                    cm = self.metrics_values[\"conf_matrix\"]\n",
    "                else:\n",
    "                    cm = conf_matrix(self.label_scores, self.pred_scores, normalize)\n",
    "                \n",
    "                plot_conf_matrix(cm, self.class_names, normalize, save_path, title)\n",
    "                \n",
    "                \n",
    "            elif mets == \"precision_recall_report\":\n",
    "                \n",
    "                self.metrics_values[\"precision_recall_report\"] = precision_recall_report(self.label_scores,\n",
    "                                                                                              self.pred_scores,\n",
    "                                                                                              self.class_names)\n",
    "\n",
    "            \n",
    "    def print (self):\n",
    "        \"\"\"\n",
    "        This method just prints the metrics on the screen\n",
    "        \"\"\"\n",
    "        \n",
    "        if self.metrics_names is None:\n",
    "            print (\"Since metrics name is None, there is no metric to print\")\n",
    "            \n",
    "        else:        \n",
    "            for met in self.metrics_values.keys():\n",
    "                if met == \"loss\":\n",
    "                    print ('- Loss: {:.3f}'.format(self.metrics_values[met]))\n",
    "                elif met == \"accuracy\":\n",
    "                    print ('- Accuracy: {:.3f}'.format(self.metrics_values[met]))\n",
    "                elif met == \"conf_matrix\":\n",
    "                    print('- Confusion Matrix: \\n{}'.format(self.metrics_values[met]))\n",
    "                elif met == \"precision_recall_report\":\n",
    "                    print('- Precision and Recall report: \\n{}'.format(self.metrics_values[met]))\n",
    "\n",
    "    def add_metric_value (self, value_name, value):\n",
    "        \"\"\"\n",
    "        Adding a new value from a external source into the metrics\n",
    "        :param value_name (string): the key for the dict\n",
    "        :param value: the value to be saved in the self.metrics_values\n",
    "        \"\"\"\n",
    "        self.metrics_values[value_name] = value\n",
    "\n",
    "\n",
    "    def update_scores (self, label_batch, pred_batch, img_name_batch=None):\n",
    "        \"\"\"\n",
    "        The evaluation is made using batchs. So, every batch we get just a piece of the prediction. This method\n",
    "        concatenate all prediction and labels in order to compute the metrics\n",
    "        :param pred (np.array): an array containing part of the predictions outputed by the model\n",
    "        :param label (np.array): an array contaning the true labels\n",
    "        \"\"\"\n",
    "\n",
    "        if self.label_scores is None and self.pred_scores is None:\n",
    "            self.label_scores = label_batch\n",
    "            self.pred_scores = pred_batch\n",
    "            self.img_names = img_name_batch\n",
    "        else:\n",
    "            if pred_batch is not None:\n",
    "                self.pred_scores = np.concatenate((self.pred_scores, pred_batch))\n",
    "            if label_batch is not None:\n",
    "                self.label_scores = np.concatenate((self.label_scores, label_batch))\n",
    "            if img_name_batch is not None:\n",
    "                self.img_names = np.concatenate((self.img_names, img_name_batch))\n",
    "\n",
    "\n",
    "    def save_metrics (self, folder_path, name=\"metrics.txt\"):\n",
    "        \"\"\"\n",
    "        This method saves the computed metrics\n",
    "        :param folder_path (string): the folder you'd like to save the metrics\n",
    "        :param name (string): the file name. Default is metrics.txt\n",
    "        \"\"\"\n",
    "        \n",
    "        if self.metrics_names is None:\n",
    "            print (\"Since metrics name is None, there is no metric to save\")\n",
    "            \n",
    "        else:        \n",
    "            with open(os.path.join(folder_path, name), \"w\") as f:\n",
    "    \n",
    "                f.write(\"- METRICS REPORT -\\n\\n\")\n",
    "    \n",
    "                for met in self.metrics_values.keys():\n",
    "                    if met == \"loss\":\n",
    "                        f.write('- Loss: {:.3f}\\n'.format(self.metrics_values[met]))\n",
    "                    elif met == \"accuracy\":\n",
    "                        f.write('- Accuracy: {:.3f}\\n'.format(self.metrics_values[met]))\n",
    "                    elif met == \"conf_matrix\":\n",
    "                        f.write('- Confusion Matrix: \\n{}\\n'.format(self.metrics_values[met]))\n",
    "                    elif met == \"precision_recall_report\":\n",
    "                        f.write('- Precision and Recall report: \\n{}\\n'.format(self.metrics_values[met]))\n",
    "\n",
    "\n",
    "    def save_scores (self, folder_path=None, pred_name=\"predictions.csv\"):\n",
    "        \"\"\"\n",
    "        This method saves the concatenated scores in the disk\n",
    "        :param folder_path (string): the folder you'd like to save the scores\n",
    "        :param pred_name (string): the predictions' score file name. Default is predictions.csv\n",
    "        :param labels_name (string): the labels' score file name. Default is labels.csv\n",
    "        \"\"\"\n",
    "\n",
    "        if folder_path is not None:\n",
    "            # Checking if the folder doesn't exist. If True, we must create it.\n",
    "            if not os.path.isdir(folder_path):\n",
    "                os.mkdir(folder_path)\n",
    "        elif self.options is not None:\n",
    "            if \"save_all_path\" in self.options.keys():\n",
    "                folder_path = self.options[\"save_all_path\"]\n",
    "            elif \"save_path_scores\" in self.options.keys():\n",
    "                folder_path = self.options[\"save_path_scores\"]\n",
    "            else:\n",
    "                raise (\"The options doesnt have any folder to save the scores\")\n",
    "\n",
    "            if 'pred_name_scores' in self.options.keys():\n",
    "                pred_name = self.options['pred_name_scores']\n",
    "        else:\n",
    "            raise (\"You must set the path to save the score eithe in options or in folder_path parameter\")\n",
    "\n",
    "\n",
    "        # Getting the list of classications and predict labels\n",
    "        if self.class_names is not None:\n",
    "            if self.label_scores is not None:\n",
    "                real_labels = [self.class_names[int(l)] for l in self.label_scores]\n",
    "                real_labels = np.asarray(real_labels)\n",
    "                real_labels = real_labels.reshape(real_labels.shape[0], 1)\n",
    "\n",
    "            if self.img_names is not None:\n",
    "                img_names = np.asarray(self.img_names)\n",
    "                img_names = img_names.reshape(img_names.shape[0], 1)\n",
    "\n",
    "            pred_labels = [self.class_names[ps.argmax()] for ps in self.pred_scores]\n",
    "            pred_labels = np.asarray(pred_labels)\n",
    "            pred_labels = pred_labels.reshape(pred_labels.shape[0], 1)\n",
    "        else:\n",
    "            raise (\"You need to inform the class names to use this function\")\n",
    "\n",
    "        if self.img_names is not None and self.label_scores is not None:\n",
    "            both_data = np.concatenate((img_names, real_labels, pred_labels, self.pred_scores), axis=1)\n",
    "            cols = ['image', 'REAL', 'PRED', *self.class_names]\n",
    "        elif self.img_names is None and self.label_scores is not None:\n",
    "            both_data = np.concatenate((real_labels, pred_labels, self.pred_scores), axis=1)\n",
    "            cols = ['REAL', 'PRED', *self.class_names]\n",
    "        elif self.img_names is not None and self.label_scores is None:\n",
    "            both_data = np.concatenate((img_names, pred_labels, self.pred_scores), axis=1)\n",
    "            cols = ['image', 'PRED', *self.class_names]\n",
    "        else:\n",
    "            both_data = np.concatenate((real_labels, pred_labels, self.pred_scores), axis=1)\n",
    "            cols = ['REAL', 'PRED', *self.class_names]\n",
    "\n",
    "        df = pd.DataFrame(both_data, columns=cols)\n",
    "        print (\"Saving the scores in {}\".format(folder_path))\n",
    "\n",
    "        df.to_csv(os.path.join(folder_path, pred_name), index=False)"
   ]
  },
  {
   "cell_type": "code",
   "execution_count": 82,
   "metadata": {},
   "outputs": [],
   "source": [
    "class MyMobilenet (nn.Module):\n",
    "\n",
    "    def __init__(self, mobilenet, num_class, freeze_conv=False, p_dropout=0.5,\n",
    "                 comb_method=None, comb_config=None, n_feat_conv=1280):\n",
    "\n",
    "        super(MyMobilenet, self).__init__()\n",
    "\n",
    "        _n_meta_data = 0\n",
    "        if comb_method is not None:\n",
    "            \n",
    "            if comb_method == 'concat':\n",
    "                if not isinstance(comb_config, int):\n",
    "                    raise Exception(\"comb_config must be int for 'concat' method\")\n",
    "                _n_meta_data = comb_config\n",
    "                self.comb = 'concat'\n",
    "            else:\n",
    "                raise Exception(\"There is no comb_method called \" + comb_method + \". Please, check this out.\")\n",
    "        else:\n",
    "            self.comb = None\n",
    "\n",
    "        self.features = nn.Sequential(*list(mobilenet.children())[:-1])\n",
    "        # freezing the convolution layers\n",
    "        if freeze_conv:\n",
    "            for param in self.features.parameters():\n",
    "                param.requires_grad = False\n",
    "\n",
    "        self.classifier = nn.Linear(n_feat_conv + _n_meta_data, num_class)\n",
    "\n",
    "    def forward(self, img, meta_data=None):\n",
    "\n",
    "        # Checking if when passing the metadata, the combination method is set\n",
    "        if meta_data is not None and self.comb is None:\n",
    "            raise Exception(\"There is no combination method defined but you passed the metadata to the model!\")\n",
    "        if meta_data is None and self.comb is not None:\n",
    "            raise Exception(\"You must pass meta_data since you're using a combination method!\")\n",
    "\n",
    "        x = self.features(img)\n",
    "        x = x.mean([2, 3])\n",
    "\n",
    "        if self.comb == 'concat':\n",
    "            x = x.view(x.size(0), -1) # flatting\n",
    "            x = torch.cat([x, meta_data], dim=1) # concatenation\n",
    "        return self.classifier(x)"
   ]
  },
  {
   "cell_type": "code",
   "execution_count": 83,
   "metadata": {},
   "outputs": [],
   "source": [
    "_MODELS = ['mobilenet']\n",
    "\n",
    "\n",
    "def set_model (model_name, num_class,comb_method=None, comb_config=None, \n",
    "               pretrained=True,freeze_conv=False):\n",
    "\n",
    "    if pretrained:\n",
    "        pre_torch = True\n",
    "    else:\n",
    "        pre_torch = False\n",
    "\n",
    "    if model_name not in _MODELS:\n",
    "        raise Exception(\"The model {} is not available!\".format(model_name))\n",
    "\n",
    "    model = None\n",
    "    if model_name == 'mobilenet':\n",
    "        model = MyMobilenet(models.mobilenet_v2(pretrained=pre_torch), num_class, freeze_conv,\n",
    "                            comb_method=comb_method, comb_config=comb_config)\n",
    "    return model"
   ]
  },
  {
   "cell_type": "code",
   "execution_count": 84,
   "metadata": {},
   "outputs": [],
   "source": [
    "def _config_logger(save_path, file_name):\n",
    "    \"\"\"\n",
    "        Internal function to configure the logger\n",
    "\n",
    "    \"\"\"\n",
    "    \n",
    "    logger = logging.getLogger(\"Train-Logger\")\n",
    "    # Checking if the folder logs doesn't exist. If True, we must create it.\n",
    "    if not os.path.isdir(save_path):\n",
    "        os.makedirs(save_path)\n",
    "    logger_filename = os.path.join(save_path, f\"{file_name}_{str(time.time()).replace('.','')}.log\")\n",
    "    fhandler = logging.FileHandler(filename=logger_filename, mode='a')\n",
    "    formatter = logging.Formatter('%(asctime)s - %(name)s - %(levelname)s - %(message)s')\n",
    "    fhandler.setFormatter(formatter)\n",
    "    logger.addHandler(fhandler)\n",
    "    logger.setLevel(logging.INFO)\n",
    "    return logger\n",
    "\n",
    "\n",
    "def _train_epoch (model, optimizer, loss_fn, data_loader, c_epoch, t_epoch, device=None):\n",
    "    \"\"\"\n",
    "    This function trains an epoch of the dataset, that is, it goes through all dataset batches once.\n",
    "    :param model (torch.nn.Module): a module to be trained\n",
    "    :param optimizer (torch.optim.optim): an optimizer to fit the model\n",
    "    :param loss_fn (torch.nn.Loss): a loss function to evaluate the model prediction\n",
    "    :param data_loader (torch.utils.DataLoader): a dataloader containing the dataset\n",
    "    :param c_epoch (int): the current epoch\n",
    "    :param t_epoch (int): the total number of epochs\n",
    "    :param device (torch.device): the device to carry out the training \n",
    "    \"\"\"\n",
    "    \n",
    "   \n",
    "    # setting the model to training mode\n",
    "    model.train()\n",
    "\n",
    "    print (\"Training...\")\n",
    "    # Setting tqdm to show some information on the screen\n",
    "    with tqdm(total=len(data_loader), ascii=True, desc='Epoch {}/{}: '.format(c_epoch, t_epoch), ncols=100) as t:\n",
    "\n",
    "\n",
    "        # Variables to store the avg metrics\n",
    "        loss_avg = AVGMetrics()\n",
    "        acc_avg = AVGMetrics()\n",
    "\n",
    "        # Getting the data from the DataLoader generator\n",
    "        for batch, data in enumerate(data_loader, 0):\n",
    "\n",
    "\n",
    "            # In data we may have imgs, labels and extra info. If extra info is [], it means we don't have it\n",
    "            # for the this training case. Imgs came in data[0], labels in data[1] and extra info in data[2]\n",
    "            try:\n",
    "                imgs_batch, labels_batch, metadata_batch, _ = data\n",
    "            except ValueError:\n",
    "                imgs_batch, labels_batch = data\n",
    "                metadata_batch = []\n",
    "\n",
    "            if len(metadata_batch):\n",
    "                # In this case we have extra information and we need to pass this data to the model\n",
    "                # Moving the data to the deviced that we set above\n",
    "                imgs_batch, labels_batch = imgs_batch.to(device), labels_batch.to(device)\n",
    "                metadata_batch = metadata_batch.to(device)\n",
    "                metadata_batch = metadata_batch.float()\n",
    "\n",
    "                # Doing the forward pass\n",
    "                out = model(imgs_batch, metadata_batch)\n",
    "            else:\n",
    "                # In this case we don't have extra info, so the model doesn't expect for it\n",
    "                # Moving the data to the deviced that we set above\n",
    "                imgs_batch, labels_batch = imgs_batch.to(device), labels_batch.to(device)\n",
    "\n",
    "                # Doing the forward pass\n",
    "                out = model(imgs_batch)\n",
    "\n",
    "            # Computing loss function\n",
    "            loss = loss_fn(out, labels_batch)\n",
    "\n",
    "            # Computing the accuracy\n",
    "            acc = accuracy(out, labels_batch)\n",
    "\n",
    "            # Getting the avg metrics\n",
    "            loss_avg.update(loss.item())\n",
    "            acc_avg.update(acc.item())\n",
    "\n",
    "            # Zero the parameters gradient\n",
    "            optimizer.zero_grad()\n",
    "\n",
    "            # Computing gradients and performing the update step\n",
    "            loss.backward()\n",
    "            optimizer.step()\n",
    "\n",
    "            # Updating tqdm\n",
    "            t.set_postfix(loss='{:05.3f}'.format(loss_avg()))\n",
    "            t.update()\n",
    "\n",
    "    return {\"loss\": loss_avg(), \"accuracy\": acc_avg()}\n",
    "\n",
    "def fit_model (model, train_data_loader, val_data_loader, optimizer=None, loss_fn=None, epochs=1,\n",
    "               epochs_early_stop=None, save_folder=None, initial_model=None, best_metric=\"loss\", device=None,\n",
    "               schedule_lr=None, config_bot=None, model_name=\"CNN\", resume_train=False, history_plot=True,\n",
    "               val_metrics=('accuracy'), metric_early_stop=None):\n",
    "    \"\"\"\n",
    "    This is the main function to carry out the training phase.\n",
    "\n",
    "    :param c_epoch (int): the current epoch\n",
    "    :param t_epoch (int): the total number of epochs\n",
    "    :param device (torch.device): the device to carry out the training\n",
    "    :param model (torch.nn.Module): a module to be trained\n",
    "    :param train_data_loader (torch.utils.DataLoader): a dataloader containing the start dataset\n",
    "    :param val_data_loader (torch.utils.DataLoader): a dataloader containing the validation dataset\n",
    "    :param optimizer (torch.optim.optim, optional): an optimizer to fit the model. If None, it will use the\n",
    "     optim.Adam(model.parameters(), lr=0.001). Default is None.\n",
    "    :param loss_fn (torch.nn.Loss, optional): a loss function to evaluate the model prediction. If None, it will use the\n",
    "    nn.CrossEntropyLoss(). Default is None.\n",
    "    :param epochs (int, optional): the number of epochs to start the model. Default is 10.\n",
    "    :param epochs_early_stop (int, optional): if you'd like to check early stop, pass the number of epochs that need to\n",
    "    be achieved to stop the training. It checks if the loss is improving. If it doesn't improve for epochs_early_stop,\n",
    "    training stops. If None, the training is never stopped. Default is None.\n",
    "    :param save_folder (string, optional): if you'd like to save the last and best checkpoints, just pass the folder\n",
    "    path in which the checkpoint will be saved. If None, the model is not saved in the disk. Default is None.\n",
    "    :param initial_model (string, optinal): if you'd like to restart the training from a given saved checkpoint, pass\n",
    "    the path to this file here. If None, the model starts training from scratch. Default is None.\n",
    "    :param resume_train (bool, optional): if you'd like to resume the training using the last values for optimizer and\n",
    "    starting from the last epoch trained, set it True. Default is False.\n",
    "    :param class_names (list, optional): the list of class names.\n",
    "    :param best_metric (string, optional): if you chose save the model, you can inform the metric you'd like to save as\n",
    "    the best. Default is loss.\n",
    "    :param device (torch.device): the device you'd like to start the model. If None, it will check if you have a GPU\n",
    "    available. If not, it use the CPU. Default is None.\n",
    "    :param topk: number of top accuracies to compute\n",
    "    :param schedule_lr (bool, optional): If you're using a schedule for the learning rate you need to pass it using this\n",
    "    variable. If this is None, no schdule will be performed. Default is None.\n",
    "    :param config_bot (string or dictionary, optional): this is a string containing the chat_id for the bot or a dict\n",
    "    containing the chat_id and the token, example: {chat_id: xxx, token: yyy}. If None, the chat_bot will not be used.\n",
    "    Default is None.\n",
    "    :param model_name (string, optional): this is the model's name, ex: ResNet. Defaul is CNN.\n",
    "    \"\"\"\n",
    "\n",
    "    logger = _config_logger(save_folder, model_name)\n",
    "    logger.info(\"Starting the training phase\")\n",
    "\n",
    "    if epochs_early_stop is not None:\n",
    "        logger.info('Early stopping is set using the number of epochs without improvement')\n",
    "    if metric_early_stop is not None:\n",
    "        logger.info('Early stopping is set using the min/max metric as threshold')\n",
    "    if epochs_early_stop is None and metric_early_stop is None:\n",
    "        logger.info('No early stopping is set')\n",
    "\n",
    "    history = TrainHistory()\n",
    "\n",
    "    # Checking if we have a saved model. If we have, load it, otherwise, let's start the model from scratch\n",
    "    epoch_resume = 0\n",
    "    if initial_model is not None:\n",
    "        logger.info(\"Loading the saved model in {} folder\".format(initial_model))\n",
    "\n",
    "        if resume_train:\n",
    "            model, optimizer, loss_fn, epoch_resume = load_model(initial_model, model)\n",
    "            logger.info(\"Resuming the training from epoch {} ...\".format(epoch_resume))\n",
    "        else:\n",
    "            model = load_model(initial_model, model)\n",
    "\n",
    "    else:\n",
    "        logger.info(\"The model will be trained from scratch\")\n",
    "\n",
    "\n",
    "    # Setting the device(s)\n",
    "    # If GPU is available, let's move the model to there. If you have more than one, let's use them!\n",
    "    \"\"\"\n",
    "    m_gpu = 0\n",
    "    if device is None:\n",
    "        if torch.cuda.is_available():\n",
    "\n",
    "            device = torch.device(\"cuda\")\n",
    "            # device = torch.device(\"cuda:\" + str(torch.cuda.current_device()))\n",
    "            m_gpu = torch.cuda.device_count()\n",
    "            if m_gpu > 1:\n",
    "                logger.info(\"The training will be carry out using {} GPUs:\".format(m_gpu))\n",
    "                for g in range(m_gpu):\n",
    "                    logger.info(torch.cuda.get_device_name(g))\n",
    "\n",
    "                model = nn.DataParallel(model)\n",
    "            else:\n",
    "                logger.info(\"The training will be carry out using 1 GPU:\")\n",
    "                logger.info(torch.cuda.get_device_name(0))\n",
    "        else:\n",
    "            logger.info(\"The training will be carry out using CPU\")\n",
    "            device = torch.device(\"cpu\")\n",
    "    else:\n",
    "        logger.info(\"The training will be carry out using 1 GPU:\")\n",
    "        logger.info(torch.cuda.get_device_name(device))\n",
    "        \n",
    "        \"\"\"\n",
    "\n",
    "\n",
    "    # Moving the model to the given device\n",
    "    model.to(device)\n",
    "\n",
    "    # Setting data to store the best mestric\n",
    "    logging.info(\"The best metric to get the best model will be {}\".format(best_metric))\n",
    "    if best_metric == 'loss':\n",
    "        best_metric_value = 1000\n",
    "    else:\n",
    "        best_metric_value = 0\n",
    "    best_flag = False\n",
    "\n",
    "    # Checking if we need to compute the balanced accuracy\n",
    "    if val_metrics is None:\n",
    "        get_bal_acc = False\n",
    "    else:\n",
    "        get_bal_acc = 'balanced_accuracy' in val_metrics\n",
    "\n",
    "    # setting a flag for the early stop\n",
    "    early_stop_count = 0\n",
    "    best_epoch = 0\n",
    "\n",
    "    # writer is used to generate the summary files to be loaded at tensorboard\n",
    "    writer = SummaryWriter (os.path.join(save_folder, 'summaries'))\n",
    "\n",
    "    \n",
    "    # Let's iterate for `epoch` epochs or a tolerance.\n",
    "    # It always start from epoch resume. If it's set, it starts from the last epoch the training phase was stopped,\n",
    "    # otherwise, it starts from 0\n",
    "    epoch = epoch_resume\n",
    "    while epoch < epochs:\n",
    "\n",
    "        # Updating epoch\n",
    "        epoch += 1\n",
    "\n",
    "        # Training and getting the metrics for one epoch\n",
    "        train_metrics = _train_epoch(model, optimizer, loss_fn, train_data_loader, epochs, device)\n",
    "\n",
    "        # After each epoch, we evaluate the model for the training and validation data\n",
    "        val_metrics = metrics_for_eval (model, val_data_loader, device, loss_fn)\n",
    "\n",
    "        # Checking the schedule if applicable\n",
    "        if isinstance(schedule_lr, torch.optim.lr_scheduler.ReduceLROnPlateau):\n",
    "            schedule_lr.step(best_metric_value)\n",
    "        elif isinstance(schedule_lr, torch.optim.lr_scheduler.MultiStepLR):\n",
    "            schedule_lr.step(epoch)\n",
    "\n",
    "        # Getting the current LR\n",
    "        current_LR = None\n",
    "        for param_group in optimizer.param_groups:\n",
    "            current_LR = param_group['lr']\n",
    "\n",
    "\n",
    "        writer.add_scalars('Loss', {'val-loss': val_metrics['loss'],\n",
    "                                                 'start-loss': train_metrics['loss']},\n",
    "                                                 epoch)\n",
    "\n",
    "        writer.add_scalars('Accuracy', {'val-loss': val_metrics['accuracy'],\n",
    "                                    'start-loss': train_metrics['accuracy']},\n",
    "                                    epoch)\n",
    "\n",
    "        history.update(train_metrics['loss'], val_metrics['loss'], train_metrics['accuracy'], val_metrics['accuracy'])\n",
    "\n",
    "\n",
    "        # Getting the metrics for the training partition epoch\n",
    "        train_print = \"-- Loss: {:.3f}\\n-- Acc: {:.3f}\\n\".format(train_metrics[\"loss\"],train_metrics[\"accuracy\"])\n",
    "\n",
    "        # Getting the metrics for the validation partition in this epoch\n",
    "        val_print = \"-- Loss: {:.3f}\\n-- Acc: {:.3f}\\n\".format(val_metrics[\"loss\"],val_metrics[\"accuracy\"])\n",
    "\n",
    "        early_stop_count += 1\n",
    "        new_best_print = None\n",
    "        # Defining the best metric for validation\n",
    "        if best_metric == 'loss':\n",
    "            if val_metrics[best_metric] <= best_metric_value:\n",
    "                best_metric_value = val_metrics[best_metric]\n",
    "                new_best_print = '\\n-- New best {}: {:.3f}'.format(best_metric, best_metric_value)\n",
    "                best_flag = True\n",
    "                best_epoch = epoch\n",
    "                early_stop_count = 0\n",
    "        else:\n",
    "            if val_metrics[best_metric] >= best_metric_value:\n",
    "                best_metric_value = val_metrics[best_metric]\n",
    "                new_best_print = '\\-- New best {}: {:.3f}'.format(best_metric, best_metric_value)\n",
    "                best_flag = True\n",
    "                best_epoch = epoch\n",
    "                early_stop_count = 0\n",
    "\n",
    "        # Check if it's the best model in order to save it\n",
    "        if save_folder is not None:\n",
    "            save_model(model, save_folder, epoch, optimizer, loss_fn, best_flag)\n",
    "        best_flag = False\n",
    "\n",
    "        # Updating the logger\n",
    "        msg = \"Metrics for epoch {} out of {}\\n\".format(epoch, epochs)\n",
    "        msg += \"- Train\\n\"\n",
    "        msg += train_print + \"\\n\"\n",
    "        msg += \"\\n- Validation\\n\"\n",
    "        msg += val_print + \"\\n\"\n",
    "        msg += \"\\n- Training info\"\n",
    "        msg += \"\\n-- Early stopping counting: {} max to stop is {}\".format(early_stop_count, epochs_early_stop)\n",
    "        msg += \"\\n-- Current LR: {}\".format(current_LR)\n",
    "        if new_best_print is not None:\n",
    "            msg += new_best_print\n",
    "        msg += \"\\n-- Best {} so far: {:.3f} on epoch {}\\n\".format(best_metric, best_metric_value, best_epoch)\n",
    "\n",
    "        # Checking the early stop\n",
    "        if epochs_early_stop is not None:\n",
    "            if early_stop_count >= epochs_early_stop:\n",
    "                logger.info(msg)\n",
    "                logger.info(\"The early stop trigger was activated. The validation {} \" .format(best_metric) +\n",
    "                            \"{:.3f} did not improved for {} epochs.\".format(best_metric_value,\n",
    "                                                                            epochs_early_stop) +\n",
    "                            \"The training phase was stopped.\")\n",
    "\n",
    "                break\n",
    "\n",
    "        # Checking the early stop\n",
    "        if metric_early_stop is not None:\n",
    "            stop = False\n",
    "            if best_metric == 'loss':\n",
    "                if metric_early_stop >= best_metric_value:\n",
    "                    stop = True\n",
    "            else:\n",
    "                if metric_early_stop <= best_metric_value:\n",
    "                    stop = True\n",
    "\n",
    "            if stop:\n",
    "                logger.info(msg)\n",
    "                logger.info(\"The early stop trigger was activated. The validation {} \".format(best_metric) +\n",
    "                            \"{:.3f} achieved the defined threshold {:.3f}.\".format(best_metric_value,\n",
    "                                                                            metric_early_stop) +\n",
    "                            \"The training phase was stopped.\")\n",
    "                break\n",
    "\n",
    "        # Sending all message to the logger\n",
    "        logger.info(msg)\n",
    "\n",
    "\n",
    "    if history_plot:\n",
    "        history.save_plot(save_folder)\n",
    "\n",
    "    history.save(save_folder)\n",
    "    print('\\n')\n",
    "\n",
    "    writer.close()"
   ]
  },
  {
   "cell_type": "code",
   "execution_count": 85,
   "metadata": {},
   "outputs": [],
   "source": [
    "def metrics_for_eval (model, data_loader, device, loss_fn):\n",
    "    \"\"\"\n",
    "        This function returns accuracy and loss for the evaluation partition\n",
    "\n",
    "        :param model (nn.Model): the model you' want to evaluate\n",
    "        :param data_loader (DataLoader): the DataLoader containing the data partition\n",
    "        :param checkpoint_path(string, optional): string with a checkpoint to load the model. If None, none checkpoint is\n",
    "        loaded. Default is None.\n",
    "        :param loss_fn (nn.Loss): the loss function used in the training\n",
    "        :return: a instance of the classe metrics\n",
    "    \"\"\"\n",
    "\n",
    "    # setting the model to evaluation mode\n",
    "    model.eval()\n",
    "\n",
    "    print (\"\\nEvaluating...\")\n",
    "    # Setting tqdm to show some information on the screen\n",
    "    \n",
    "    with tqdm(total=len(data_loader), ascii=True, ncols=100) as t:\n",
    "\n",
    "        # Setting require_grad=False in order to dimiss the gradient computation in the graph\n",
    "        with torch.no_grad():\n",
    "\n",
    "            loss_avg = AVGMetrics()\n",
    "            acc_avg = AVGMetrics()\n",
    "\n",
    "\n",
    "            for data in data_loader:\n",
    "\n",
    "                # In data we may have imgs, labels and extra info. If extra info is [], it means we don't have it\n",
    "                # for the this training case. Imgs came in data[0], labels in data[1] and extra info in data[2]\n",
    "                try:\n",
    "                    images_batch, labels_batch, meta_data_batch, _ = data\n",
    "                except ValueError:\n",
    "                    images_batch, labels_batch = data\n",
    "                    meta_data_batch = []\n",
    "\n",
    "                if len(meta_data_batch):\n",
    "                    # Moving the data to the deviced that we set above\n",
    "                    images_batch, labels_batch = images_batch.to(device), labels_batch.to(device)\n",
    "                    meta_data_batch = meta_data_batch.to(device)\n",
    "                    meta_data_batch = meta_data_batch.float()\n",
    "\n",
    "                    # Doing the forward pass using meta_data\n",
    "                    pred_batch = model(images_batch, meta_data_batch)\n",
    "                else:\n",
    "                    # Moving the data to the device that we set above\n",
    "                    images_batch, labels_batch = images_batch.to(device), labels_batch.to(device)\n",
    "\n",
    "                    # Doing the forward pass without using meta-data\n",
    "                    pred_batch = model(images_batch)\n",
    "\n",
    "                # Computing the loss\n",
    "                L = loss_fn(pred_batch, labels_batch)\n",
    "                # Computing the accuracy\n",
    "                acc  = accuracy(pred_batch, labels_batch)\n",
    "\n",
    "                loss_avg.update(L.item())\n",
    "                acc_avg.update(acc.item())\n",
    "\n",
    "                if Metrics is not None:\n",
    "                    try:\n",
    "                        images_batch, labels_batch, meta_data_batch, _ = data\n",
    "                    except ValueError:\n",
    "                        images_batch, labels_batch = data\n",
    "                        meta_data_batch = []\n",
    "\n",
    "                if len(meta_data_batch):\n",
    "                    # Moving the data to the deviced that we set above\n",
    "                    images_batch, labels_batch = images_batch.to(device), labels_batch.to(device)\n",
    "                    meta_data_batch = meta_data_batch.to(device)\n",
    "                    meta_data_batch = meta_data_batch.float()\n",
    "\n",
    "                    # Doing the forward pass using meta_data\n",
    "                    pred_batch = model(images_batch, meta_data_batch)\n",
    "                else:\n",
    "                    # Moving the data to the device that we set above\n",
    "                    images_batch, labels_batch = images_batch.to(device), labels_batch.to(device)\n",
    "\n",
    "                    # Doing the forward pass without using meta-data\n",
    "                    pred_batch = model(images_batch)\n",
    "\n",
    "                    # Moving the data to CPU and converting it to numpy in order to compute the metrics\n",
    "                    pred_batch_np = nnF.softmax(pred_batch, dim=1).cpu().numpy()\n",
    "                    labels_batch_np = labels_batch.cpu().numpy()\n",
    "                    # updating the scores\n",
    "                    Metrics.update_scores(labels_batch_np, pred_batch_np)\n",
    "\n",
    "                # Updating tqdm\n",
    "                t.set_postfix(loss='{:05.3f}'.format(loss_avg()))\n",
    "                t.update()\n",
    "\n",
    "    return {\"loss\": loss_avg(), \"accuracy\": acc_avg()}\n",
    "\n",
    "\n",
    "# Testing the model\n",
    "def test_model (model, data_loader, checkpoint_path=None, loss_fn=None, device=None, save_pred=False,\n",
    "                    partition_name='Test', metrics_to_comp='all', class_names=None, metrics_options=None,\n",
    "                    apply_softmax=True, verbose=True, full_path_pred=None):\n",
    "    \"\"\"\n",
    "    This function evaluates a given model for a given data_loader\n",
    "\n",
    "    :param model (nn.Model): the model you'd like to evaluate\n",
    "    :param data_loader (DataLoader): the DataLoader containing the data partition\n",
    "    :param checkpoint_path(string, optional): string with a checkpoint to load the model. If None, no checkpoint is\n",
    "    loaded. Default is None.\n",
    "    :param loss_fn (nn.Loss): the loss function used in the training\n",
    "    :param partition_name (string): the partition name\n",
    "    :param metrics (list, tuple or string): it's the variable that receives the metrics you'd like to compute.\n",
    "        IMPORTANT: if metrics is None, only the prediction.csv will be generated. Default is only the accuracy.\n",
    "    :param class_names (list, tuple): a list or tuple containing the classes names in the same order you use in the\n",
    "        label. For ex: ['C1', 'C2']. For more information about the options, please, refers to\n",
    "        jedy.pytorch.model.metrics.py\n",
    "    :param metrics_ options (dict): this is a dict containing some options to compute the metrics. Default is None.\n",
    "    For more information about the options, please, refers to jedy.pytorch.model.metrics.py\n",
    "    :param device (torch.device, optional): the device to use. If None, the code will look for a device. Default is\n",
    "    None. For more information about the options, please, refers to jedy.pytorch.model.metrics.py\n",
    "    :param verbose (bool, optional): if you'd like to print information o the screen. Default is True\n",
    "    True. Default is False.\n",
    "\n",
    "    :return: a instance of the classe metrics\n",
    "    \"\"\"\n",
    "\n",
    "    # setting the model to evaluation mode\n",
    "    model.eval()\n",
    "\n",
    "    def _get_predictions (model, images_batch, meta_data_batch=None):        \n",
    "        with torch.no_grad():\n",
    "            if meta_data_batch is None:\n",
    "                pred_batch = model(images_batch)\n",
    "            else:\n",
    "                pred_batch = model(images_batch, meta_data_batch)\n",
    "        return pred_batch\n",
    "\n",
    "    if checkpoint_path is not None:\n",
    "        model = load_model(checkpoint_path, model)\n",
    "\n",
    "    if device is None:\n",
    "        # Setting the device\n",
    "        if torch.cuda.is_available():\n",
    "            device = torch.device(\"cuda:\" + str(torch.cuda.current_device()))\n",
    "        else:\n",
    "            device = torch.device(\"cpu\")\n",
    "\n",
    "    # Moving the model to the given device\n",
    "    model.to(device)\n",
    "\n",
    "    if loss_fn is None:\n",
    "        loss_fn = nn.CrossEntropyLoss()\n",
    "\n",
    "    # Setting the metrics object\n",
    "    metrics = Metrics (metrics_to_comp, class_names, metrics_options)\n",
    "\n",
    "    print(\"Testing...\")\n",
    "    # Setting tqdm to show some information on the screen\n",
    "    with tqdm(total=len(data_loader), ascii=True, ncols=100) as t:\n",
    "\n",
    "        loss_avg = AVGMetrics()\n",
    "        acc_avg = AVGMetrics()\n",
    "\n",
    "        for data in data_loader:\n",
    "            # In data we may have images, labels, meta-data, and image ID. If meta-data is [], it means we don't have it\n",
    "            # for the this training case. Images came in data[0], labels in data[1], meta_data in data[2], and image_id\n",
    "            # in data[3]\n",
    "            try:\n",
    "                images_batch, labels_batch, meta_data_batch, img_id = data\n",
    "            except ValueError:\n",
    "                images_batch, labels_batch = data\n",
    "                meta_data_batch = []\n",
    "                img_id = None\n",
    "\n",
    "            if len(meta_data_batch):\n",
    "                # Moving the data to the device that we set above\n",
    "                images_batch = images_batch.to(device)\n",
    "                if len(labels_batch):\n",
    "                    labels_batch = labels_batch.to(device)\n",
    "                meta_data_batch = meta_data_batch.to(device)\n",
    "                meta_data_batch = meta_data_batch.float()\n",
    "\n",
    "                # Doing the forward pass using meta-data\n",
    "                pred_batch = _get_predictions (model, images_batch, meta_data_batch)\n",
    "            elif len(labels_batch):\n",
    "                # Moving the data to the device that we set above\n",
    "                images_batch, labels_batch = images_batch.to(device), labels_batch.to(device)\n",
    "\n",
    "                # Doing the forward pass without using meta-data\n",
    "                pred_batch = _get_predictions(model, images_batch)\n",
    "            else:\n",
    "                # Moving the data to the deviced that we set above\n",
    "                images_batch = images_batch.to(device)\n",
    "\n",
    "                # Doing the forward pass without using meta_data\n",
    "                pred_batch = _get_predictions(model, images_batch)\n",
    "\n",
    "            # Computing the loss\n",
    "            if len(labels_batch):\n",
    "                L = loss_fn(pred_batch, labels_batch)\n",
    "                acc  = accuracy(pred_batch, labels_batch)\n",
    "                loss_avg.update(L.item())\n",
    "                acc_avg.update(acc.item())\n",
    "                \n",
    "                labels_batch_np = labels_batch.cpu().numpy()\n",
    "            else:\n",
    "                labels_batch_np = None\n",
    "                loss_avg.update(0)\n",
    "                acc_avg.update(0)\n",
    "\n",
    "            # Moving the data to CPU and converting it to numpy in order to compute the metrics\n",
    "            if apply_softmax:\n",
    "                pred_batch_np = nnF.softmax(pred_batch,dim=1).cpu().numpy()\n",
    "            else:\n",
    "                pred_batch_np = pred_batch.cpu().numpy()\n",
    "\n",
    "            # updating the scores\n",
    "            metrics.update_scores(labels_batch_np, pred_batch_np, img_id)\n",
    "\n",
    "            # Updating tqdm\n",
    "            if metrics.metrics_names is None:\n",
    "                t.set_postfix(loss='{:05.3f}'.format(0.0))\n",
    "                t.set_postfix(accuracy='{:05.3f}'.format(0.0))\n",
    "            else:\n",
    "                t.set_postfix(loss='{:05.3f}'.format(loss_avg()))\n",
    "                #t.set_postfix(accuracy='{:05.3f}'.format(acc_avg()))\n",
    "\n",
    "            t.update()\n",
    "\n",
    "    # Adding loss into the metric values\n",
    "    metrics.add_metric_value(\"loss\", loss_avg())\n",
    "\n",
    "    # Getting the metrics\n",
    "    metrics.compute_metrics()\n",
    "\n",
    "    if save_pred or metrics.metrics_names is None:\n",
    "        if full_path_pred is None:\n",
    "            metrics.save_scores()\n",
    "        else:\n",
    "            _spt = full_path_pred.split('/')\n",
    "            _folder = \"/\".join(_spt[0:-1])\n",
    "            _p = _spt[-1]\n",
    "            metrics.save_scores(folder_path=_folder, pred_name=_p)\n",
    "\n",
    "    if verbose:\n",
    "        print('- {} metrics:'.format(partition_name))\n",
    "        metrics.print()\n",
    "\n",
    "\n",
    "    return metrics.metrics_values"
   ]
  },
  {
   "cell_type": "code",
   "execution_count": 86,
   "metadata": {},
   "outputs": [],
   "source": [
    "folder = 1\n",
    "BASE_PATH = \"E:/Skin_App/Drive\"\n",
    "csv_path_train = os.path.join(BASE_PATH, \"ked_parsed_train.csv\")\n",
    "imgs_folder_train = os.path.join(BASE_PATH, \"Images\")\n",
    "\n",
    "csv_path_test = os.path.join(BASE_PATH, \"ked_parsed_test.csv\")\n",
    "imgs_folder_test = os.path.join(BASE_PATH, \"Images\")\n",
    "\n",
    "use_meta_data = True\n",
    "comb_method = 'concat'\n",
    "comb_config = 20\n",
    "batch_size = 32\n",
    "epochs = 70\n",
    "\n",
    "    # Training variables\n",
    "best_metric = \"loss\"\n",
    "pretrained = True\n",
    "lr_init = 0.001\n",
    "sched_factor = 0.1\n",
    "sched_min_lr = 0.00001\n",
    "sched_patience = 5\n",
    "early_stop = 10\n",
    "weights = \"frequency\"\n",
    "\n",
    "model_name = 'mobilenet'\n",
    "save_folder = \"Results/\" + model_name"
   ]
  },
  {
   "cell_type": "code",
   "execution_count": 87,
   "metadata": {},
   "outputs": [],
   "source": [
    "def main (folder,csv_path_train, imgs_folder_train, csv_path_test, imgs_folder_test, lr_init, sched_factor,\n",
    "          sched_min_lr, sched_patience, batch_size, epochs, early_stop, weights, model_name, pretrained,\n",
    "          save_folder, best_metric,comb_method, comb_config, use_meta_data):\n",
    "\n",
    "    meta_data_columns = ['Approximated_Age', 'F', 'M','Abdomain', 'Anterior_Torso','Armpit', 'Chin','Ear', 'Forehead', 'Lateral_Face',\n",
    "                         'Lower_Back', 'Lower_Extremity', 'Nail', 'Navel', 'Neck', 'Nose', 'Perioribital', 'Posterior_Torso', \n",
    "                         'Scalp', 'Upper_Extremity' ]\n",
    "    metric_options = {\n",
    "        'save_all_path': os.path.join(save_folder, \"best_metrics\"),\n",
    "        'pred_name_scores': 'predictions_best_test.csv',\n",
    "        'normalize_conf_matrix': True}\n",
    "    checkpoint_best = os.path.join(save_folder, 'best-checkpoint/best-checkpoint.pth')\n",
    "\n",
    "    # Loading the csv file\n",
    "    csv_all_folders = pd.read_csv(csv_path_train)\n",
    "\n",
    "    print(\"-\" * 50)\n",
    "    print(\"- Loading validation data...\")\n",
    "    val_csv_folder = csv_all_folders[ (csv_all_folders['folder'] == folder) ]\n",
    "    train_csv_folder = csv_all_folders[ csv_all_folders['folder'] != folder ]\n",
    "\n",
    "    # Loading validation data\n",
    "    val_imgs_id = val_csv_folder['Image'].values\n",
    "    val_imgs_path = [\"{}/{}.jpg\".format(imgs_folder_train, Image) for Image in val_imgs_id]\n",
    "    val_labels = val_csv_folder['Diagnosis_number'].values\n",
    "    if use_meta_data:\n",
    "        val_meta_data = val_csv_folder[meta_data_columns].values\n",
    "        print(\"-- Using {} meta-data features\".format(len(meta_data_columns)))\n",
    "    else:\n",
    "        print(\"-- No metadata\")\n",
    "        val_meta_data = None\n",
    "    val_data_loader = get_data_loader (val_imgs_path, val_labels, val_meta_data, transform=ImgEvalTransform(),\n",
    "                                       batch_size=batch_size, shuf=True, num_workers=0, pin_memory=True)\n",
    "    print(\"-- Validation partition loaded with {} images\".format(len(val_data_loader)*batch_size))\n",
    "\n",
    "    print(\"- Loading training data...\")\n",
    "    train_imgs_id = train_csv_folder['Image'].values\n",
    "    train_imgs_path = [\"{}/{}.jpg\".format(imgs_folder_train, Image) for Image in train_imgs_id]\n",
    "    train_labels = train_csv_folder['Diagnosis_number'].values\n",
    "    if use_meta_data:\n",
    "        train_meta_data = train_csv_folder[meta_data_columns].values\n",
    "        print(\"-- Using {} meta-data features\".format(len(meta_data_columns)))\n",
    "    else:\n",
    "        print(\"-- No metadata\")\n",
    "        train_meta_data = None\n",
    "    train_data_loader = get_data_loader (train_imgs_path, train_labels, train_meta_data, transform=ImgTrainTransform(),\n",
    "                                       batch_size=batch_size, shuf=True, num_workers=0, pin_memory=True)\n",
    "    print(\"-- Training partition loaded with {} images\".format(len(train_data_loader)*batch_size))\n",
    "\n",
    "    print(\"-\"*50)\n",
    "    ####################################################################################################################\n",
    "\n",
    "    ser_lab_freq = get_labels_frequency(train_csv_folder, \"Diagnosis\", \"Image\")\n",
    "    labels_name = ser_lab_freq.index.values\n",
    "    freq = ser_lab_freq.values\n",
    "    ####################################################################################################################\n",
    "    print(\"- Loading\", model_name)\n",
    "\n",
    "    model = set_model(model_name, len(labels_name), comb_method=comb_method, \n",
    "                      comb_config=comb_config, pretrained=pretrained)\n",
    "    ####################################################################################################################\n",
    "    if weights == 'frequency':\n",
    "        weights = (freq.sum() / freq).round(3)\n",
    "    loss_fn = nn.CrossEntropyLoss(weight=torch.Tensor(weights))\n",
    "    optimizer = optim.Adam(model.parameters(), lr=lr_init)\n",
    "    scheduler_lr = optim.lr_scheduler.ReduceLROnPlateau(optimizer, factor=sched_factor, min_lr=sched_min_lr,\n",
    "                                                                    patience=sched_patience)\n",
    "    ####################################################################################################################\n",
    "\n",
    "    print(\"- Starting the training phase...\")\n",
    "    print(\"-\" * 50)\n",
    "    fit_model (model, train_data_loader, val_data_loader, optimizer=optimizer, loss_fn=loss_fn, epochs=epochs,\n",
    "               epochs_early_stop=early_stop, save_folder=save_folder, initial_model=None,\n",
    "               device=None, schedule_lr=scheduler_lr, config_bot=None, model_name=\"CNN\", resume_train=False,\n",
    "               history_plot=True, val_metrics=[\"accuracy\"], best_metric=best_metric)\n",
    "    # Testing the validation partition\n",
    "    print(\"- Evaluating the validation partition...\")\n",
    "    test_model (model, val_data_loader, checkpoint_path=checkpoint_best, loss_fn=loss_fn, save_pred=True,\n",
    "                partition_name='eval', metrics_to_comp=['accuracy'], class_names=labels_name, metrics_options=metric_options,\n",
    "                apply_softmax=True, verbose=False)\n",
    "\n",
    "    if csv_path_test is not None:\n",
    "        print(\"- Loading test data...\")\n",
    "        csv_test = pd.read_csv(csv_path_test)\n",
    "        \n",
    "        test_imgs_id = csv_test['Image'].values\n",
    "        test_imgs_path = [\"{}/{}.jpg\".format(imgs_folder_test, Image) for Image in test_imgs_id]\n",
    "        test_labels = csv_test['Diagnosis_number'].values\n",
    "        #csv_test['lateral torso'] = 0\n",
    "        if use_meta_data:\n",
    "            test_meta_data = csv_test[meta_data_columns].values\n",
    "            print(\"-- Using {} meta-data features\".format(len(meta_data_columns)))\n",
    "        else:\n",
    "            test_meta_data = None\n",
    "            print(\"-- No metadata\")\n",
    "\n",
    "        metric_options = {\n",
    "            'save_all_path': os.path.join(save_folder, \"best_metrics\"),\n",
    "            'pred_name_scores': 'predictions.csv',\n",
    "            'plot_conf_matrix': True,\n",
    "            'normalize_conf_matrix': True\n",
    "        }\n",
    "        test_data_loader = get_data_loader(test_imgs_path, test_labels, test_meta_data, transform=ImgEvalTransform(),\n",
    "                                           batch_size=batch_size, shuf=False, num_workers=0, pin_memory=True) \n",
    "        print(\"-- Testing partition loaded with {} images\".format(len(test_data_loader)*batch_size))\n",
    "        print(\"-\" * 50)\n",
    "\n",
    "        # Testing the test partition\n",
    "        print(\"\\n- Evaluating the testing partition...\")\n",
    "        test_model(model, test_data_loader, checkpoint_path=None, metrics_to_comp='all', class_names=labels_name,\n",
    "                   metrics_options=metric_options, save_pred=True, verbose=False)\n",
    "    ####################################################################################################################"
   ]
  },
  {
   "cell_type": "code",
   "execution_count": 88,
   "metadata": {},
   "outputs": [
    {
     "name": "stderr",
     "output_type": "stream",
     "text": [
      "C:\\Users\\user\\anaconda3\\lib\\site-packages\\imgaug\\imgaug.py:184: DeprecationWarning: Function `Scale()` is deprecated. Use `Resize` instead. Resize has the exactly same interface as Scale.\n",
      "  warn_deprecated(msg, stacklevel=3)\n",
      "INFO:Train-Logger:Starting the training phase\n",
      "INFO:Train-Logger:Early stopping is set using the number of epochs without improvement\n",
      "INFO:Train-Logger:The model will be trained from scratch\n"
     ]
    },
    {
     "name": "stdout",
     "output_type": "stream",
     "text": [
      "--------------------------------------------------\n",
      "- Loading validation data...\n",
      "-- Using 20 meta-data features\n",
      "-- Validation partition loaded with 160 images\n",
      "- Loading training data...\n",
      "-- Using 20 meta-data features\n",
      "-- Training partition loaded with 1280 images\n",
      "--------------------------------------------------\n",
      "- Loading mobilenet\n",
      "- Starting the training phase...\n",
      "--------------------------------------------------\n",
      "Training...\n"
     ]
    },
    {
     "name": "stderr",
     "output_type": "stream",
     "text": [
      "Epoch 70/None: 100%|####################################| 40/40 [04:14<00:00,  6.36s/it, loss=0.974]\n",
      "  0%|                                                                         | 0/5 [00:00<?, ?it/s]"
     ]
    },
    {
     "name": "stdout",
     "output_type": "stream",
     "text": [
      "\n",
      "Evaluating...\n"
     ]
    },
    {
     "name": "stderr",
     "output_type": "stream",
     "text": [
      "100%|#####################################################| 5/5 [00:17<00:00,  3.54s/it, loss=1.127]\n",
      "INFO:Train-Logger:Metrics for epoch 1 out of 70\n",
      "- Train\n",
      "-- Loss: 0.974\n",
      "-- Acc: 0.621\n",
      "\n",
      "\n",
      "- Validation\n",
      "-- Loss: 1.127\n",
      "-- Acc: 0.653\n",
      "\n",
      "\n",
      "- Training info\n",
      "-- Early stopping counting: 0 max to stop is 10\n",
      "-- Current LR: 0.001\n",
      "-- New best loss: 1.127\n",
      "-- Best loss so far: 1.127 on epoch 1\n",
      "\n",
      "Epoch 70/None:   0%|                                                         | 0/40 [00:00<?, ?it/s]"
     ]
    },
    {
     "name": "stdout",
     "output_type": "stream",
     "text": [
      "Training...\n"
     ]
    },
    {
     "name": "stderr",
     "output_type": "stream",
     "text": [
      "Epoch 70/None: 100%|####################################| 40/40 [03:39<00:00,  5.49s/it, loss=0.706]\n",
      "  0%|                                                                         | 0/5 [00:00<?, ?it/s]"
     ]
    },
    {
     "name": "stdout",
     "output_type": "stream",
     "text": [
      "\n",
      "Evaluating...\n"
     ]
    },
    {
     "name": "stderr",
     "output_type": "stream",
     "text": [
      "100%|#####################################################| 5/5 [00:17<00:00,  3.52s/it, loss=0.488]\n",
      "INFO:Train-Logger:Metrics for epoch 2 out of 70\n",
      "- Train\n",
      "-- Loss: 0.706\n",
      "-- Acc: 0.745\n",
      "\n",
      "\n",
      "- Validation\n",
      "-- Loss: 0.488\n",
      "-- Acc: 0.836\n",
      "\n",
      "\n",
      "- Training info\n",
      "-- Early stopping counting: 0 max to stop is 10\n",
      "-- Current LR: 0.001\n",
      "-- New best loss: 0.488\n",
      "-- Best loss so far: 0.488 on epoch 2\n",
      "\n",
      "Epoch 70/None:   0%|                                                         | 0/40 [00:00<?, ?it/s]"
     ]
    },
    {
     "name": "stdout",
     "output_type": "stream",
     "text": [
      "Training...\n"
     ]
    },
    {
     "name": "stderr",
     "output_type": "stream",
     "text": [
      "Epoch 70/None: 100%|####################################| 40/40 [03:39<00:00,  5.48s/it, loss=0.533]\n",
      "  0%|                                                                         | 0/5 [00:00<?, ?it/s]"
     ]
    },
    {
     "name": "stdout",
     "output_type": "stream",
     "text": [
      "\n",
      "Evaluating...\n"
     ]
    },
    {
     "name": "stderr",
     "output_type": "stream",
     "text": [
      "100%|#####################################################| 5/5 [00:16<00:00,  3.20s/it, loss=0.578]\n",
      "INFO:Train-Logger:Metrics for epoch 3 out of 70\n",
      "- Train\n",
      "-- Loss: 0.533\n",
      "-- Acc: 0.801\n",
      "\n",
      "\n",
      "- Validation\n",
      "-- Loss: 0.578\n",
      "-- Acc: 0.810\n",
      "\n",
      "\n",
      "- Training info\n",
      "-- Early stopping counting: 1 max to stop is 10\n",
      "-- Current LR: 0.001\n",
      "-- Best loss so far: 0.488 on epoch 2\n",
      "\n",
      "Epoch 70/None:   0%|                                                         | 0/40 [00:00<?, ?it/s]"
     ]
    },
    {
     "name": "stdout",
     "output_type": "stream",
     "text": [
      "Training...\n"
     ]
    },
    {
     "name": "stderr",
     "output_type": "stream",
     "text": [
      "Epoch 70/None: 100%|####################################| 40/40 [03:39<00:00,  5.49s/it, loss=0.451]\n",
      "  0%|                                                                         | 0/5 [00:00<?, ?it/s]"
     ]
    },
    {
     "name": "stdout",
     "output_type": "stream",
     "text": [
      "\n",
      "Evaluating...\n"
     ]
    },
    {
     "name": "stderr",
     "output_type": "stream",
     "text": [
      "100%|#####################################################| 5/5 [00:15<00:00,  3.19s/it, loss=0.488]\n",
      "INFO:Train-Logger:Metrics for epoch 4 out of 70\n",
      "- Train\n",
      "-- Loss: 0.451\n",
      "-- Acc: 0.838\n",
      "\n",
      "\n",
      "- Validation\n",
      "-- Loss: 0.488\n",
      "-- Acc: 0.816\n",
      "\n",
      "\n",
      "- Training info\n",
      "-- Early stopping counting: 0 max to stop is 10\n",
      "-- Current LR: 0.001\n",
      "-- New best loss: 0.488\n",
      "-- Best loss so far: 0.488 on epoch 4\n",
      "\n",
      "Epoch 70/None:   0%|                                                         | 0/40 [00:00<?, ?it/s]"
     ]
    },
    {
     "name": "stdout",
     "output_type": "stream",
     "text": [
      "Training...\n"
     ]
    },
    {
     "name": "stderr",
     "output_type": "stream",
     "text": [
      "Epoch 70/None: 100%|####################################| 40/40 [03:41<00:00,  5.53s/it, loss=0.432]\n",
      "  0%|                                                                         | 0/5 [00:00<?, ?it/s]"
     ]
    },
    {
     "name": "stdout",
     "output_type": "stream",
     "text": [
      "\n",
      "Evaluating...\n"
     ]
    },
    {
     "name": "stderr",
     "output_type": "stream",
     "text": [
      "100%|#####################################################| 5/5 [00:16<00:00,  3.22s/it, loss=0.462]\n",
      "INFO:Train-Logger:Metrics for epoch 5 out of 70\n",
      "- Train\n",
      "-- Loss: 0.432\n",
      "-- Acc: 0.833\n",
      "\n",
      "\n",
      "- Validation\n",
      "-- Loss: 0.462\n",
      "-- Acc: 0.855\n",
      "\n",
      "\n",
      "- Training info\n",
      "-- Early stopping counting: 0 max to stop is 10\n",
      "-- Current LR: 0.001\n",
      "-- New best loss: 0.462\n",
      "-- Best loss so far: 0.462 on epoch 5\n",
      "\n",
      "Epoch 70/None:   0%|                                                         | 0/40 [00:00<?, ?it/s]"
     ]
    },
    {
     "name": "stdout",
     "output_type": "stream",
     "text": [
      "Training...\n"
     ]
    },
    {
     "name": "stderr",
     "output_type": "stream",
     "text": [
      "Epoch 70/None: 100%|####################################| 40/40 [03:39<00:00,  5.50s/it, loss=0.349]\n",
      "  0%|                                                                         | 0/5 [00:00<?, ?it/s]"
     ]
    },
    {
     "name": "stdout",
     "output_type": "stream",
     "text": [
      "\n",
      "Evaluating...\n"
     ]
    },
    {
     "name": "stderr",
     "output_type": "stream",
     "text": [
      "100%|#####################################################| 5/5 [00:15<00:00,  3.18s/it, loss=0.296]\n",
      "INFO:Train-Logger:Metrics for epoch 6 out of 70\n",
      "- Train\n",
      "-- Loss: 0.349\n",
      "-- Acc: 0.868\n",
      "\n",
      "\n",
      "- Validation\n",
      "-- Loss: 0.296\n",
      "-- Acc: 0.899\n",
      "\n",
      "\n",
      "- Training info\n",
      "-- Early stopping counting: 0 max to stop is 10\n",
      "-- Current LR: 0.001\n",
      "-- New best loss: 0.296\n",
      "-- Best loss so far: 0.296 on epoch 6\n",
      "\n",
      "Epoch 70/None:   0%|                                                         | 0/40 [00:00<?, ?it/s]"
     ]
    },
    {
     "name": "stdout",
     "output_type": "stream",
     "text": [
      "Training...\n"
     ]
    },
    {
     "name": "stderr",
     "output_type": "stream",
     "text": [
      "Epoch 70/None: 100%|####################################| 40/40 [03:40<00:00,  5.50s/it, loss=0.338]\n",
      "  0%|                                                                         | 0/5 [00:00<?, ?it/s]"
     ]
    },
    {
     "name": "stdout",
     "output_type": "stream",
     "text": [
      "\n",
      "Evaluating...\n"
     ]
    },
    {
     "name": "stderr",
     "output_type": "stream",
     "text": [
      "100%|#####################################################| 5/5 [00:15<00:00,  3.16s/it, loss=0.315]\n",
      "INFO:Train-Logger:Metrics for epoch 7 out of 70\n",
      "- Train\n",
      "-- Loss: 0.338\n",
      "-- Acc: 0.867\n",
      "\n",
      "\n",
      "- Validation\n",
      "-- Loss: 0.315\n",
      "-- Acc: 0.874\n",
      "\n",
      "\n",
      "- Training info\n",
      "-- Early stopping counting: 1 max to stop is 10\n",
      "-- Current LR: 0.001\n",
      "-- Best loss so far: 0.296 on epoch 6\n",
      "\n",
      "Epoch 70/None:   0%|                                                         | 0/40 [00:00<?, ?it/s]"
     ]
    },
    {
     "name": "stdout",
     "output_type": "stream",
     "text": [
      "Training...\n"
     ]
    },
    {
     "name": "stderr",
     "output_type": "stream",
     "text": [
      "Epoch 70/None: 100%|####################################| 40/40 [03:38<00:00,  5.47s/it, loss=0.344]\n",
      "  0%|                                                                         | 0/5 [00:00<?, ?it/s]"
     ]
    },
    {
     "name": "stdout",
     "output_type": "stream",
     "text": [
      "\n",
      "Evaluating...\n"
     ]
    },
    {
     "name": "stderr",
     "output_type": "stream",
     "text": [
      "100%|#####################################################| 5/5 [00:16<00:00,  3.22s/it, loss=0.381]\n",
      "INFO:Train-Logger:Metrics for epoch 8 out of 70\n",
      "- Train\n",
      "-- Loss: 0.344\n",
      "-- Acc: 0.877\n",
      "\n",
      "\n",
      "- Validation\n",
      "-- Loss: 0.381\n",
      "-- Acc: 0.887\n",
      "\n",
      "\n",
      "- Training info\n",
      "-- Early stopping counting: 2 max to stop is 10\n",
      "-- Current LR: 0.001\n",
      "-- Best loss so far: 0.296 on epoch 6\n",
      "\n",
      "Epoch 70/None:   0%|                                                         | 0/40 [00:00<?, ?it/s]"
     ]
    },
    {
     "name": "stdout",
     "output_type": "stream",
     "text": [
      "Training...\n"
     ]
    },
    {
     "name": "stderr",
     "output_type": "stream",
     "text": [
      "Epoch 70/None: 100%|####################################| 40/40 [03:39<00:00,  5.48s/it, loss=0.329]\n",
      "  0%|                                                                         | 0/5 [00:00<?, ?it/s]"
     ]
    },
    {
     "name": "stdout",
     "output_type": "stream",
     "text": [
      "\n",
      "Evaluating...\n"
     ]
    },
    {
     "name": "stderr",
     "output_type": "stream",
     "text": [
      "100%|#####################################################| 5/5 [00:16<00:00,  3.35s/it, loss=0.313]\n",
      "INFO:Train-Logger:Metrics for epoch 9 out of 70\n",
      "- Train\n",
      "-- Loss: 0.329\n",
      "-- Acc: 0.877\n",
      "\n",
      "\n",
      "- Validation\n",
      "-- Loss: 0.313\n",
      "-- Acc: 0.893\n",
      "\n",
      "\n",
      "- Training info\n",
      "-- Early stopping counting: 3 max to stop is 10\n",
      "-- Current LR: 0.001\n",
      "-- Best loss so far: 0.296 on epoch 6\n",
      "\n",
      "Epoch 70/None:   0%|                                                         | 0/40 [00:00<?, ?it/s]"
     ]
    },
    {
     "name": "stdout",
     "output_type": "stream",
     "text": [
      "Training...\n"
     ]
    },
    {
     "name": "stderr",
     "output_type": "stream",
     "text": [
      "Epoch 70/None: 100%|####################################| 40/40 [03:41<00:00,  5.54s/it, loss=0.325]\n",
      "  0%|                                                                         | 0/5 [00:00<?, ?it/s]"
     ]
    },
    {
     "name": "stdout",
     "output_type": "stream",
     "text": [
      "\n",
      "Evaluating...\n"
     ]
    },
    {
     "name": "stderr",
     "output_type": "stream",
     "text": [
      "100%|#####################################################| 5/5 [00:15<00:00,  3.18s/it, loss=0.323]\n",
      "INFO:Train-Logger:Metrics for epoch 10 out of 70\n",
      "- Train\n",
      "-- Loss: 0.325\n",
      "-- Acc: 0.890\n",
      "\n",
      "\n",
      "- Validation\n",
      "-- Loss: 0.323\n",
      "-- Acc: 0.899\n",
      "\n",
      "\n",
      "- Training info\n",
      "-- Early stopping counting: 4 max to stop is 10\n",
      "-- Current LR: 0.001\n",
      "-- Best loss so far: 0.296 on epoch 6\n",
      "\n",
      "Epoch 70/None:   0%|                                                         | 0/40 [00:00<?, ?it/s]"
     ]
    },
    {
     "name": "stdout",
     "output_type": "stream",
     "text": [
      "Training...\n"
     ]
    },
    {
     "name": "stderr",
     "output_type": "stream",
     "text": [
      "Epoch 70/None: 100%|####################################| 40/40 [03:40<00:00,  5.51s/it, loss=0.295]\n",
      "  0%|                                                                         | 0/5 [00:00<?, ?it/s]"
     ]
    },
    {
     "name": "stdout",
     "output_type": "stream",
     "text": [
      "\n",
      "Evaluating...\n"
     ]
    },
    {
     "name": "stderr",
     "output_type": "stream",
     "text": [
      "100%|#####################################################| 5/5 [00:15<00:00,  3.11s/it, loss=0.422]\n",
      "INFO:Train-Logger:Metrics for epoch 11 out of 70\n",
      "- Train\n",
      "-- Loss: 0.295\n",
      "-- Acc: 0.903\n",
      "\n",
      "\n",
      "- Validation\n",
      "-- Loss: 0.422\n",
      "-- Acc: 0.861\n",
      "\n",
      "\n",
      "- Training info\n",
      "-- Early stopping counting: 5 max to stop is 10\n",
      "-- Current LR: 0.001\n",
      "-- Best loss so far: 0.296 on epoch 6\n",
      "\n",
      "Epoch 70/None:   0%|                                                         | 0/40 [00:00<?, ?it/s]"
     ]
    },
    {
     "name": "stdout",
     "output_type": "stream",
     "text": [
      "Training...\n"
     ]
    },
    {
     "name": "stderr",
     "output_type": "stream",
     "text": [
      "Epoch 70/None: 100%|####################################| 40/40 [03:43<00:00,  5.60s/it, loss=0.263]\n",
      "  0%|                                                                         | 0/5 [00:00<?, ?it/s]"
     ]
    },
    {
     "name": "stdout",
     "output_type": "stream",
     "text": [
      "\n",
      "Evaluating...\n"
     ]
    },
    {
     "name": "stderr",
     "output_type": "stream",
     "text": [
      "100%|#####################################################| 5/5 [00:16<00:00,  3.33s/it, loss=0.374]\n",
      "INFO:Train-Logger:Metrics for epoch 12 out of 70\n",
      "- Train\n",
      "-- Loss: 0.263\n",
      "-- Acc: 0.895\n",
      "\n",
      "\n",
      "- Validation\n",
      "-- Loss: 0.374\n",
      "-- Acc: 0.861\n",
      "\n",
      "\n",
      "- Training info\n",
      "-- Early stopping counting: 6 max to stop is 10\n",
      "-- Current LR: 0.001\n",
      "-- Best loss so far: 0.296 on epoch 6\n",
      "\n",
      "Epoch 70/None:   0%|                                                         | 0/40 [00:00<?, ?it/s]"
     ]
    },
    {
     "name": "stdout",
     "output_type": "stream",
     "text": [
      "Training...\n"
     ]
    },
    {
     "name": "stderr",
     "output_type": "stream",
     "text": [
      "Epoch 70/None: 100%|####################################| 40/40 [03:57<00:00,  5.93s/it, loss=0.295]\n",
      "  0%|                                                                         | 0/5 [00:00<?, ?it/s]"
     ]
    },
    {
     "name": "stdout",
     "output_type": "stream",
     "text": [
      "\n",
      "Evaluating...\n"
     ]
    },
    {
     "name": "stderr",
     "output_type": "stream",
     "text": [
      "100%|#####################################################| 5/5 [00:16<00:00,  3.24s/it, loss=0.223]\n",
      "INFO:Train-Logger:Metrics for epoch 13 out of 70\n",
      "- Train\n",
      "-- Loss: 0.295\n",
      "-- Acc: 0.895\n",
      "\n",
      "\n",
      "- Validation\n",
      "-- Loss: 0.223\n",
      "-- Acc: 0.924\n",
      "\n",
      "\n",
      "- Training info\n",
      "-- Early stopping counting: 0 max to stop is 10\n",
      "-- Current LR: 0.0001\n",
      "-- New best loss: 0.223\n",
      "-- Best loss so far: 0.223 on epoch 13\n",
      "\n",
      "Epoch 70/None:   0%|                                                         | 0/40 [00:00<?, ?it/s]"
     ]
    },
    {
     "name": "stdout",
     "output_type": "stream",
     "text": [
      "Training...\n"
     ]
    },
    {
     "name": "stderr",
     "output_type": "stream",
     "text": [
      "Epoch 70/None: 100%|####################################| 40/40 [03:41<00:00,  5.53s/it, loss=0.210]\n",
      "  0%|                                                                         | 0/5 [00:00<?, ?it/s]"
     ]
    },
    {
     "name": "stdout",
     "output_type": "stream",
     "text": [
      "\n",
      "Evaluating...\n"
     ]
    },
    {
     "name": "stderr",
     "output_type": "stream",
     "text": [
      "100%|#####################################################| 5/5 [00:15<00:00,  3.16s/it, loss=0.202]\n",
      "INFO:Train-Logger:Metrics for epoch 14 out of 70\n",
      "- Train\n",
      "-- Loss: 0.210\n",
      "-- Acc: 0.927\n",
      "\n",
      "\n",
      "- Validation\n",
      "-- Loss: 0.202\n",
      "-- Acc: 0.924\n",
      "\n",
      "\n",
      "- Training info\n",
      "-- Early stopping counting: 0 max to stop is 10\n",
      "-- Current LR: 0.0001\n",
      "-- New best loss: 0.202\n",
      "-- Best loss so far: 0.202 on epoch 14\n",
      "\n",
      "Epoch 70/None:   0%|                                                         | 0/40 [00:00<?, ?it/s]"
     ]
    },
    {
     "name": "stdout",
     "output_type": "stream",
     "text": [
      "Training...\n"
     ]
    },
    {
     "name": "stderr",
     "output_type": "stream",
     "text": [
      "Epoch 70/None: 100%|####################################| 40/40 [03:41<00:00,  5.53s/it, loss=0.173]\n",
      "  0%|                                                                         | 0/5 [00:00<?, ?it/s]"
     ]
    },
    {
     "name": "stdout",
     "output_type": "stream",
     "text": [
      "\n",
      "Evaluating...\n"
     ]
    },
    {
     "name": "stderr",
     "output_type": "stream",
     "text": [
      "100%|#####################################################| 5/5 [00:16<00:00,  3.26s/it, loss=0.186]\n",
      "INFO:Train-Logger:Metrics for epoch 15 out of 70\n",
      "- Train\n",
      "-- Loss: 0.173\n",
      "-- Acc: 0.945\n",
      "\n",
      "\n",
      "- Validation\n",
      "-- Loss: 0.186\n",
      "-- Acc: 0.935\n",
      "\n",
      "\n",
      "- Training info\n",
      "-- Early stopping counting: 0 max to stop is 10\n",
      "-- Current LR: 0.0001\n",
      "-- New best loss: 0.186\n",
      "-- Best loss so far: 0.186 on epoch 15\n",
      "\n",
      "Epoch 70/None:   0%|                                                         | 0/40 [00:00<?, ?it/s]"
     ]
    },
    {
     "name": "stdout",
     "output_type": "stream",
     "text": [
      "Training...\n"
     ]
    },
    {
     "name": "stderr",
     "output_type": "stream",
     "text": [
      "Epoch 70/None: 100%|####################################| 40/40 [03:41<00:00,  5.53s/it, loss=0.173]\n",
      "  0%|                                                                         | 0/5 [00:00<?, ?it/s]"
     ]
    },
    {
     "name": "stdout",
     "output_type": "stream",
     "text": [
      "\n",
      "Evaluating...\n"
     ]
    },
    {
     "name": "stderr",
     "output_type": "stream",
     "text": [
      "100%|#####################################################| 5/5 [00:15<00:00,  3.12s/it, loss=0.184]\n",
      "INFO:Train-Logger:Metrics for epoch 16 out of 70\n",
      "- Train\n",
      "-- Loss: 0.173\n",
      "-- Acc: 0.940\n",
      "\n",
      "\n",
      "- Validation\n",
      "-- Loss: 0.184\n",
      "-- Acc: 0.919\n",
      "\n",
      "\n",
      "- Training info\n",
      "-- Early stopping counting: 0 max to stop is 10\n",
      "-- Current LR: 0.0001\n",
      "-- New best loss: 0.184\n",
      "-- Best loss so far: 0.184 on epoch 16\n",
      "\n",
      "Epoch 70/None:   0%|                                                         | 0/40 [00:00<?, ?it/s]"
     ]
    },
    {
     "name": "stdout",
     "output_type": "stream",
     "text": [
      "Training...\n"
     ]
    },
    {
     "name": "stderr",
     "output_type": "stream",
     "text": [
      "Epoch 70/None: 100%|####################################| 40/40 [03:40<00:00,  5.51s/it, loss=0.146]\n",
      "  0%|                                                                         | 0/5 [00:00<?, ?it/s]"
     ]
    },
    {
     "name": "stdout",
     "output_type": "stream",
     "text": [
      "\n",
      "Evaluating...\n"
     ]
    },
    {
     "name": "stderr",
     "output_type": "stream",
     "text": [
      "100%|#####################################################| 5/5 [00:16<00:00,  3.22s/it, loss=0.194]\n",
      "INFO:Train-Logger:Metrics for epoch 17 out of 70\n",
      "- Train\n",
      "-- Loss: 0.146\n",
      "-- Acc: 0.952\n",
      "\n",
      "\n",
      "- Validation\n",
      "-- Loss: 0.194\n",
      "-- Acc: 0.906\n",
      "\n",
      "\n",
      "- Training info\n",
      "-- Early stopping counting: 1 max to stop is 10\n",
      "-- Current LR: 0.0001\n",
      "-- Best loss so far: 0.184 on epoch 16\n",
      "\n",
      "Epoch 70/None:   0%|                                                         | 0/40 [00:00<?, ?it/s]"
     ]
    },
    {
     "name": "stdout",
     "output_type": "stream",
     "text": [
      "Training...\n"
     ]
    },
    {
     "name": "stderr",
     "output_type": "stream",
     "text": [
      "Epoch 70/None: 100%|####################################| 40/40 [03:40<00:00,  5.50s/it, loss=0.155]\n",
      "  0%|                                                                         | 0/5 [00:00<?, ?it/s]"
     ]
    },
    {
     "name": "stdout",
     "output_type": "stream",
     "text": [
      "\n",
      "Evaluating...\n"
     ]
    },
    {
     "name": "stderr",
     "output_type": "stream",
     "text": [
      "100%|#####################################################| 5/5 [00:15<00:00,  3.15s/it, loss=0.182]\n",
      "INFO:Train-Logger:Metrics for epoch 18 out of 70\n",
      "- Train\n",
      "-- Loss: 0.155\n",
      "-- Acc: 0.945\n",
      "\n",
      "\n",
      "- Validation\n",
      "-- Loss: 0.182\n",
      "-- Acc: 0.919\n",
      "\n",
      "\n",
      "- Training info\n",
      "-- Early stopping counting: 0 max to stop is 10\n",
      "-- Current LR: 0.0001\n",
      "-- New best loss: 0.182\n",
      "-- Best loss so far: 0.182 on epoch 18\n",
      "\n",
      "Epoch 70/None:   0%|                                                         | 0/40 [00:00<?, ?it/s]"
     ]
    },
    {
     "name": "stdout",
     "output_type": "stream",
     "text": [
      "Training...\n"
     ]
    },
    {
     "name": "stderr",
     "output_type": "stream",
     "text": [
      "Epoch 70/None: 100%|####################################| 40/40 [03:39<00:00,  5.49s/it, loss=0.141]\n",
      "  0%|                                                                         | 0/5 [00:00<?, ?it/s]"
     ]
    },
    {
     "name": "stdout",
     "output_type": "stream",
     "text": [
      "\n",
      "Evaluating...\n"
     ]
    },
    {
     "name": "stderr",
     "output_type": "stream",
     "text": [
      "100%|#####################################################| 5/5 [00:15<00:00,  3.14s/it, loss=0.174]\n",
      "INFO:Train-Logger:Metrics for epoch 19 out of 70\n",
      "- Train\n",
      "-- Loss: 0.141\n",
      "-- Acc: 0.952\n",
      "\n",
      "\n",
      "- Validation\n",
      "-- Loss: 0.174\n",
      "-- Acc: 0.924\n",
      "\n",
      "\n",
      "- Training info\n",
      "-- Early stopping counting: 0 max to stop is 10\n",
      "-- Current LR: 0.0001\n",
      "-- New best loss: 0.174\n",
      "-- Best loss so far: 0.174 on epoch 19\n",
      "\n",
      "Epoch 70/None:   0%|                                                         | 0/40 [00:00<?, ?it/s]"
     ]
    },
    {
     "name": "stdout",
     "output_type": "stream",
     "text": [
      "Training...\n"
     ]
    },
    {
     "name": "stderr",
     "output_type": "stream",
     "text": [
      "Epoch 70/None: 100%|####################################| 40/40 [03:39<00:00,  5.48s/it, loss=0.133]\n",
      "  0%|                                                                         | 0/5 [00:00<?, ?it/s]"
     ]
    },
    {
     "name": "stdout",
     "output_type": "stream",
     "text": [
      "\n",
      "Evaluating...\n"
     ]
    },
    {
     "name": "stderr",
     "output_type": "stream",
     "text": [
      "100%|#####################################################| 5/5 [00:15<00:00,  3.17s/it, loss=0.172]\n",
      "INFO:Train-Logger:Metrics for epoch 20 out of 70\n",
      "- Train\n",
      "-- Loss: 0.133\n",
      "-- Acc: 0.952\n",
      "\n",
      "\n",
      "- Validation\n",
      "-- Loss: 0.172\n",
      "-- Acc: 0.930\n",
      "\n",
      "\n",
      "- Training info\n",
      "-- Early stopping counting: 0 max to stop is 10\n",
      "-- Current LR: 0.0001\n",
      "-- New best loss: 0.172\n",
      "-- Best loss so far: 0.172 on epoch 20\n",
      "\n",
      "Epoch 70/None:   0%|                                                         | 0/40 [00:00<?, ?it/s]"
     ]
    },
    {
     "name": "stdout",
     "output_type": "stream",
     "text": [
      "Training...\n"
     ]
    },
    {
     "name": "stderr",
     "output_type": "stream",
     "text": [
      "Epoch 70/None: 100%|####################################| 40/40 [03:39<00:00,  5.50s/it, loss=0.117]\n",
      "  0%|                                                                         | 0/5 [00:00<?, ?it/s]"
     ]
    },
    {
     "name": "stdout",
     "output_type": "stream",
     "text": [
      "\n",
      "Evaluating...\n"
     ]
    },
    {
     "name": "stderr",
     "output_type": "stream",
     "text": [
      "100%|#####################################################| 5/5 [00:15<00:00,  3.16s/it, loss=0.191]\n",
      "INFO:Train-Logger:Metrics for epoch 21 out of 70\n",
      "- Train\n",
      "-- Loss: 0.117\n",
      "-- Acc: 0.964\n",
      "\n",
      "\n",
      "- Validation\n",
      "-- Loss: 0.191\n",
      "-- Acc: 0.905\n",
      "\n",
      "\n",
      "- Training info\n",
      "-- Early stopping counting: 1 max to stop is 10\n",
      "-- Current LR: 0.0001\n",
      "-- Best loss so far: 0.172 on epoch 20\n",
      "\n",
      "Epoch 70/None:   0%|                                                         | 0/40 [00:00<?, ?it/s]"
     ]
    },
    {
     "name": "stdout",
     "output_type": "stream",
     "text": [
      "Training...\n"
     ]
    },
    {
     "name": "stderr",
     "output_type": "stream",
     "text": [
      "Epoch 70/None: 100%|####################################| 40/40 [03:39<00:00,  5.49s/it, loss=0.116]\n",
      "  0%|                                                                         | 0/5 [00:00<?, ?it/s]"
     ]
    },
    {
     "name": "stdout",
     "output_type": "stream",
     "text": [
      "\n",
      "Evaluating...\n"
     ]
    },
    {
     "name": "stderr",
     "output_type": "stream",
     "text": [
      "100%|#####################################################| 5/5 [00:15<00:00,  3.15s/it, loss=0.182]\n",
      "INFO:Train-Logger:Metrics for epoch 22 out of 70\n",
      "- Train\n",
      "-- Loss: 0.116\n",
      "-- Acc: 0.958\n",
      "\n",
      "\n",
      "- Validation\n",
      "-- Loss: 0.182\n",
      "-- Acc: 0.924\n",
      "\n",
      "\n",
      "- Training info\n",
      "-- Early stopping counting: 2 max to stop is 10\n",
      "-- Current LR: 0.0001\n",
      "-- Best loss so far: 0.172 on epoch 20\n",
      "\n",
      "Epoch 70/None:   0%|                                                         | 0/40 [00:00<?, ?it/s]"
     ]
    },
    {
     "name": "stdout",
     "output_type": "stream",
     "text": [
      "Training...\n"
     ]
    },
    {
     "name": "stderr",
     "output_type": "stream",
     "text": [
      "Epoch 70/None: 100%|####################################| 40/40 [03:39<00:00,  5.49s/it, loss=0.133]\n",
      "  0%|                                                                         | 0/5 [00:00<?, ?it/s]"
     ]
    },
    {
     "name": "stdout",
     "output_type": "stream",
     "text": [
      "\n",
      "Evaluating...\n"
     ]
    },
    {
     "name": "stderr",
     "output_type": "stream",
     "text": [
      "100%|#####################################################| 5/5 [00:15<00:00,  3.13s/it, loss=0.187]\n",
      "INFO:Train-Logger:Metrics for epoch 23 out of 70\n",
      "- Train\n",
      "-- Loss: 0.133\n",
      "-- Acc: 0.953\n",
      "\n",
      "\n",
      "- Validation\n",
      "-- Loss: 0.187\n",
      "-- Acc: 0.918\n",
      "\n",
      "\n",
      "- Training info\n",
      "-- Early stopping counting: 3 max to stop is 10\n",
      "-- Current LR: 0.0001\n",
      "-- Best loss so far: 0.172 on epoch 20\n",
      "\n",
      "Epoch 70/None:   0%|                                                         | 0/40 [00:00<?, ?it/s]"
     ]
    },
    {
     "name": "stdout",
     "output_type": "stream",
     "text": [
      "Training...\n"
     ]
    },
    {
     "name": "stderr",
     "output_type": "stream",
     "text": [
      "Epoch 70/None: 100%|####################################| 40/40 [03:40<00:00,  5.50s/it, loss=0.120]\n",
      "  0%|                                                                         | 0/5 [00:00<?, ?it/s]"
     ]
    },
    {
     "name": "stdout",
     "output_type": "stream",
     "text": [
      "\n",
      "Evaluating...\n"
     ]
    },
    {
     "name": "stderr",
     "output_type": "stream",
     "text": [
      "100%|#####################################################| 5/5 [00:15<00:00,  3.13s/it, loss=0.167]\n",
      "INFO:Train-Logger:Metrics for epoch 24 out of 70\n",
      "- Train\n",
      "-- Loss: 0.120\n",
      "-- Acc: 0.959\n",
      "\n",
      "\n",
      "- Validation\n",
      "-- Loss: 0.167\n",
      "-- Acc: 0.930\n",
      "\n",
      "\n",
      "- Training info\n",
      "-- Early stopping counting: 0 max to stop is 10\n",
      "-- Current LR: 0.0001\n",
      "-- New best loss: 0.167\n",
      "-- Best loss so far: 0.167 on epoch 24\n",
      "\n",
      "Epoch 70/None:   0%|                                                         | 0/40 [00:00<?, ?it/s]"
     ]
    },
    {
     "name": "stdout",
     "output_type": "stream",
     "text": [
      "Training...\n"
     ]
    },
    {
     "name": "stderr",
     "output_type": "stream",
     "text": [
      "Epoch 70/None: 100%|####################################| 40/40 [03:39<00:00,  5.49s/it, loss=0.110]\n",
      "  0%|                                                                         | 0/5 [00:00<?, ?it/s]"
     ]
    },
    {
     "name": "stdout",
     "output_type": "stream",
     "text": [
      "\n",
      "Evaluating...\n"
     ]
    },
    {
     "name": "stderr",
     "output_type": "stream",
     "text": [
      "100%|#####################################################| 5/5 [00:15<00:00,  3.13s/it, loss=0.160]\n",
      "INFO:Train-Logger:Metrics for epoch 25 out of 70\n",
      "- Train\n",
      "-- Loss: 0.110\n",
      "-- Acc: 0.965\n",
      "\n",
      "\n",
      "- Validation\n",
      "-- Loss: 0.160\n",
      "-- Acc: 0.910\n",
      "\n",
      "\n",
      "- Training info\n",
      "-- Early stopping counting: 0 max to stop is 10\n",
      "-- Current LR: 0.0001\n",
      "-- New best loss: 0.160\n",
      "-- Best loss so far: 0.160 on epoch 25\n",
      "\n",
      "Epoch 70/None:   0%|                                                         | 0/40 [00:00<?, ?it/s]"
     ]
    },
    {
     "name": "stdout",
     "output_type": "stream",
     "text": [
      "Training...\n"
     ]
    },
    {
     "name": "stderr",
     "output_type": "stream",
     "text": [
      "Epoch 70/None: 100%|####################################| 40/40 [03:40<00:00,  5.50s/it, loss=0.133]\n",
      "  0%|                                                                         | 0/5 [00:00<?, ?it/s]"
     ]
    },
    {
     "name": "stdout",
     "output_type": "stream",
     "text": [
      "\n",
      "Evaluating...\n"
     ]
    },
    {
     "name": "stderr",
     "output_type": "stream",
     "text": [
      "100%|#####################################################| 5/5 [00:15<00:00,  3.15s/it, loss=0.151]\n",
      "INFO:Train-Logger:Metrics for epoch 26 out of 70\n",
      "- Train\n",
      "-- Loss: 0.133\n",
      "-- Acc: 0.950\n",
      "\n",
      "\n",
      "- Validation\n",
      "-- Loss: 0.151\n",
      "-- Acc: 0.931\n",
      "\n",
      "\n",
      "- Training info\n",
      "-- Early stopping counting: 0 max to stop is 10\n",
      "-- Current LR: 0.0001\n",
      "-- New best loss: 0.151\n",
      "-- Best loss so far: 0.151 on epoch 26\n",
      "\n",
      "Epoch 70/None:   0%|                                                         | 0/40 [00:00<?, ?it/s]"
     ]
    },
    {
     "name": "stdout",
     "output_type": "stream",
     "text": [
      "Training...\n"
     ]
    },
    {
     "name": "stderr",
     "output_type": "stream",
     "text": [
      "Epoch 70/None: 100%|####################################| 40/40 [03:38<00:00,  5.47s/it, loss=0.116]\n",
      "  0%|                                                                         | 0/5 [00:00<?, ?it/s]"
     ]
    },
    {
     "name": "stdout",
     "output_type": "stream",
     "text": [
      "\n",
      "Evaluating...\n"
     ]
    },
    {
     "name": "stderr",
     "output_type": "stream",
     "text": [
      "100%|#####################################################| 5/5 [00:15<00:00,  3.13s/it, loss=0.153]\n",
      "INFO:Train-Logger:Metrics for epoch 27 out of 70\n",
      "- Train\n",
      "-- Loss: 0.116\n",
      "-- Acc: 0.955\n",
      "\n",
      "\n",
      "- Validation\n",
      "-- Loss: 0.153\n",
      "-- Acc: 0.936\n",
      "\n",
      "\n",
      "- Training info\n",
      "-- Early stopping counting: 1 max to stop is 10\n",
      "-- Current LR: 0.0001\n",
      "-- Best loss so far: 0.151 on epoch 26\n",
      "\n",
      "Epoch 70/None:   0%|                                                         | 0/40 [00:00<?, ?it/s]"
     ]
    },
    {
     "name": "stdout",
     "output_type": "stream",
     "text": [
      "Training...\n"
     ]
    },
    {
     "name": "stderr",
     "output_type": "stream",
     "text": [
      "Epoch 70/None: 100%|####################################| 40/40 [03:38<00:00,  5.47s/it, loss=0.126]\n",
      "  0%|                                                                         | 0/5 [00:00<?, ?it/s]"
     ]
    },
    {
     "name": "stdout",
     "output_type": "stream",
     "text": [
      "\n",
      "Evaluating...\n"
     ]
    },
    {
     "name": "stderr",
     "output_type": "stream",
     "text": [
      "100%|#####################################################| 5/5 [00:15<00:00,  3.15s/it, loss=0.139]\n",
      "INFO:Train-Logger:Metrics for epoch 28 out of 70\n",
      "- Train\n",
      "-- Loss: 0.126\n",
      "-- Acc: 0.960\n",
      "\n",
      "\n",
      "- Validation\n",
      "-- Loss: 0.139\n",
      "-- Acc: 0.950\n",
      "\n",
      "\n",
      "- Training info\n",
      "-- Early stopping counting: 0 max to stop is 10\n",
      "-- Current LR: 0.0001\n",
      "-- New best loss: 0.139\n",
      "-- Best loss so far: 0.139 on epoch 28\n",
      "\n",
      "Epoch 70/None:   0%|                                                         | 0/40 [00:00<?, ?it/s]"
     ]
    },
    {
     "name": "stdout",
     "output_type": "stream",
     "text": [
      "Training...\n"
     ]
    },
    {
     "name": "stderr",
     "output_type": "stream",
     "text": [
      "Epoch 70/None: 100%|####################################| 40/40 [03:39<00:00,  5.50s/it, loss=0.101]\n",
      "  0%|                                                                         | 0/5 [00:00<?, ?it/s]"
     ]
    },
    {
     "name": "stdout",
     "output_type": "stream",
     "text": [
      "\n",
      "Evaluating...\n"
     ]
    },
    {
     "name": "stderr",
     "output_type": "stream",
     "text": [
      "100%|#####################################################| 5/5 [00:15<00:00,  3.16s/it, loss=0.144]\n",
      "INFO:Train-Logger:Metrics for epoch 29 out of 70\n",
      "- Train\n",
      "-- Loss: 0.101\n",
      "-- Acc: 0.971\n",
      "\n",
      "\n",
      "- Validation\n",
      "-- Loss: 0.144\n",
      "-- Acc: 0.923\n",
      "\n",
      "\n",
      "- Training info\n",
      "-- Early stopping counting: 1 max to stop is 10\n",
      "-- Current LR: 0.0001\n",
      "-- Best loss so far: 0.139 on epoch 28\n",
      "\n",
      "Epoch 70/None:   0%|                                                         | 0/40 [00:00<?, ?it/s]"
     ]
    },
    {
     "name": "stdout",
     "output_type": "stream",
     "text": [
      "Training...\n"
     ]
    },
    {
     "name": "stderr",
     "output_type": "stream",
     "text": [
      "Epoch 70/None: 100%|####################################| 40/40 [03:39<00:00,  5.49s/it, loss=0.089]\n",
      "  0%|                                                                         | 0/5 [00:00<?, ?it/s]"
     ]
    },
    {
     "name": "stdout",
     "output_type": "stream",
     "text": [
      "\n",
      "Evaluating...\n"
     ]
    },
    {
     "name": "stderr",
     "output_type": "stream",
     "text": [
      "100%|#####################################################| 5/5 [00:15<00:00,  3.19s/it, loss=0.138]\n",
      "INFO:Train-Logger:Metrics for epoch 30 out of 70\n",
      "- Train\n",
      "-- Loss: 0.089\n",
      "-- Acc: 0.973\n",
      "\n",
      "\n",
      "- Validation\n",
      "-- Loss: 0.138\n",
      "-- Acc: 0.956\n",
      "\n",
      "\n",
      "- Training info\n",
      "-- Early stopping counting: 0 max to stop is 10\n",
      "-- Current LR: 0.0001\n",
      "-- New best loss: 0.138\n",
      "-- Best loss so far: 0.138 on epoch 30\n",
      "\n",
      "Epoch 70/None:   0%|                                                         | 0/40 [00:00<?, ?it/s]"
     ]
    },
    {
     "name": "stdout",
     "output_type": "stream",
     "text": [
      "Training...\n"
     ]
    },
    {
     "name": "stderr",
     "output_type": "stream",
     "text": [
      "Epoch 70/None: 100%|####################################| 40/40 [04:22<00:00,  6.57s/it, loss=0.087]\n",
      "  0%|                                                                         | 0/5 [00:00<?, ?it/s]"
     ]
    },
    {
     "name": "stdout",
     "output_type": "stream",
     "text": [
      "\n",
      "Evaluating...\n"
     ]
    },
    {
     "name": "stderr",
     "output_type": "stream",
     "text": [
      "100%|#####################################################| 5/5 [00:19<00:00,  3.81s/it, loss=0.135]\n",
      "INFO:Train-Logger:Metrics for epoch 31 out of 70\n",
      "- Train\n",
      "-- Loss: 0.087\n",
      "-- Acc: 0.972\n",
      "\n",
      "\n",
      "- Validation\n",
      "-- Loss: 0.135\n",
      "-- Acc: 0.943\n",
      "\n",
      "\n",
      "- Training info\n",
      "-- Early stopping counting: 0 max to stop is 10\n",
      "-- Current LR: 0.0001\n",
      "-- New best loss: 0.135\n",
      "-- Best loss so far: 0.135 on epoch 31\n",
      "\n",
      "Epoch 70/None:   0%|                                                         | 0/40 [00:00<?, ?it/s]"
     ]
    },
    {
     "name": "stdout",
     "output_type": "stream",
     "text": [
      "Training...\n"
     ]
    },
    {
     "name": "stderr",
     "output_type": "stream",
     "text": [
      "Epoch 70/None: 100%|####################################| 40/40 [04:27<00:00,  6.69s/it, loss=0.098]\n",
      "  0%|                                                                         | 0/5 [00:00<?, ?it/s]"
     ]
    },
    {
     "name": "stdout",
     "output_type": "stream",
     "text": [
      "\n",
      "Evaluating...\n"
     ]
    },
    {
     "name": "stderr",
     "output_type": "stream",
     "text": [
      "100%|#####################################################| 5/5 [00:19<00:00,  3.80s/it, loss=0.120]\n",
      "INFO:Train-Logger:Metrics for epoch 32 out of 70\n",
      "- Train\n",
      "-- Loss: 0.098\n",
      "-- Acc: 0.964\n",
      "\n",
      "\n",
      "- Validation\n",
      "-- Loss: 0.120\n",
      "-- Acc: 0.943\n",
      "\n",
      "\n",
      "- Training info\n",
      "-- Early stopping counting: 0 max to stop is 10\n",
      "-- Current LR: 0.0001\n",
      "-- New best loss: 0.120\n",
      "-- Best loss so far: 0.120 on epoch 32\n",
      "\n",
      "Epoch 70/None:   0%|                                                         | 0/40 [00:00<?, ?it/s]"
     ]
    },
    {
     "name": "stdout",
     "output_type": "stream",
     "text": [
      "Training...\n"
     ]
    },
    {
     "name": "stderr",
     "output_type": "stream",
     "text": [
      "Epoch 70/None: 100%|####################################| 40/40 [04:27<00:00,  6.68s/it, loss=0.080]\n",
      "  0%|                                                                         | 0/5 [00:00<?, ?it/s]"
     ]
    },
    {
     "name": "stdout",
     "output_type": "stream",
     "text": [
      "\n",
      "Evaluating...\n"
     ]
    },
    {
     "name": "stderr",
     "output_type": "stream",
     "text": [
      "100%|#####################################################| 5/5 [00:19<00:00,  3.85s/it, loss=0.143]\n",
      "INFO:Train-Logger:Metrics for epoch 33 out of 70\n",
      "- Train\n",
      "-- Loss: 0.080\n",
      "-- Acc: 0.973\n",
      "\n",
      "\n",
      "- Validation\n",
      "-- Loss: 0.143\n",
      "-- Acc: 0.937\n",
      "\n",
      "\n",
      "- Training info\n",
      "-- Early stopping counting: 1 max to stop is 10\n",
      "-- Current LR: 0.0001\n",
      "-- Best loss so far: 0.120 on epoch 32\n",
      "\n",
      "Epoch 70/None:   0%|                                                         | 0/40 [00:00<?, ?it/s]"
     ]
    },
    {
     "name": "stdout",
     "output_type": "stream",
     "text": [
      "Training...\n"
     ]
    },
    {
     "name": "stderr",
     "output_type": "stream",
     "text": [
      "Epoch 70/None: 100%|####################################| 40/40 [04:26<00:00,  6.67s/it, loss=0.087]\n",
      "  0%|                                                                         | 0/5 [00:00<?, ?it/s]"
     ]
    },
    {
     "name": "stdout",
     "output_type": "stream",
     "text": [
      "\n",
      "Evaluating...\n"
     ]
    },
    {
     "name": "stderr",
     "output_type": "stream",
     "text": [
      "100%|#####################################################| 5/5 [00:19<00:00,  3.85s/it, loss=0.144]\n",
      "INFO:Train-Logger:Metrics for epoch 34 out of 70\n",
      "- Train\n",
      "-- Loss: 0.087\n",
      "-- Acc: 0.968\n",
      "\n",
      "\n",
      "- Validation\n",
      "-- Loss: 0.144\n",
      "-- Acc: 0.930\n",
      "\n",
      "\n",
      "- Training info\n",
      "-- Early stopping counting: 2 max to stop is 10\n",
      "-- Current LR: 0.0001\n",
      "-- Best loss so far: 0.120 on epoch 32\n",
      "\n",
      "Epoch 70/None:   0%|                                                         | 0/40 [00:00<?, ?it/s]"
     ]
    },
    {
     "name": "stdout",
     "output_type": "stream",
     "text": [
      "Training...\n"
     ]
    },
    {
     "name": "stderr",
     "output_type": "stream",
     "text": [
      "Epoch 70/None: 100%|####################################| 40/40 [04:27<00:00,  6.69s/it, loss=0.087]\n",
      "  0%|                                                                         | 0/5 [00:00<?, ?it/s]"
     ]
    },
    {
     "name": "stdout",
     "output_type": "stream",
     "text": [
      "\n",
      "Evaluating...\n"
     ]
    },
    {
     "name": "stderr",
     "output_type": "stream",
     "text": [
      "100%|#####################################################| 5/5 [00:19<00:00,  3.81s/it, loss=0.154]\n",
      "INFO:Train-Logger:Metrics for epoch 35 out of 70\n",
      "- Train\n",
      "-- Loss: 0.087\n",
      "-- Acc: 0.966\n",
      "\n",
      "\n",
      "- Validation\n",
      "-- Loss: 0.154\n",
      "-- Acc: 0.931\n",
      "\n",
      "\n",
      "- Training info\n",
      "-- Early stopping counting: 3 max to stop is 10\n",
      "-- Current LR: 0.0001\n",
      "-- Best loss so far: 0.120 on epoch 32\n",
      "\n",
      "Epoch 70/None:   0%|                                                         | 0/40 [00:00<?, ?it/s]"
     ]
    },
    {
     "name": "stdout",
     "output_type": "stream",
     "text": [
      "Training...\n"
     ]
    },
    {
     "name": "stderr",
     "output_type": "stream",
     "text": [
      "Epoch 70/None: 100%|####################################| 40/40 [04:26<00:00,  6.66s/it, loss=0.080]\n",
      "  0%|                                                                         | 0/5 [00:00<?, ?it/s]"
     ]
    },
    {
     "name": "stdout",
     "output_type": "stream",
     "text": [
      "\n",
      "Evaluating...\n"
     ]
    },
    {
     "name": "stderr",
     "output_type": "stream",
     "text": [
      "100%|#####################################################| 5/5 [00:19<00:00,  3.81s/it, loss=0.137]\n",
      "INFO:Train-Logger:Metrics for epoch 36 out of 70\n",
      "- Train\n",
      "-- Loss: 0.080\n",
      "-- Acc: 0.976\n",
      "\n",
      "\n",
      "- Validation\n",
      "-- Loss: 0.137\n",
      "-- Acc: 0.937\n",
      "\n",
      "\n",
      "- Training info\n",
      "-- Early stopping counting: 4 max to stop is 10\n",
      "-- Current LR: 0.0001\n",
      "-- Best loss so far: 0.120 on epoch 32\n",
      "\n",
      "Epoch 70/None:   0%|                                                         | 0/40 [00:00<?, ?it/s]"
     ]
    },
    {
     "name": "stdout",
     "output_type": "stream",
     "text": [
      "Training...\n"
     ]
    },
    {
     "name": "stderr",
     "output_type": "stream",
     "text": [
      "Epoch 70/None: 100%|####################################| 40/40 [04:27<00:00,  6.70s/it, loss=0.072]\n",
      "  0%|                                                                         | 0/5 [00:00<?, ?it/s]"
     ]
    },
    {
     "name": "stdout",
     "output_type": "stream",
     "text": [
      "\n",
      "Evaluating...\n"
     ]
    },
    {
     "name": "stderr",
     "output_type": "stream",
     "text": [
      "100%|#####################################################| 5/5 [00:19<00:00,  3.80s/it, loss=0.133]\n",
      "INFO:Train-Logger:Metrics for epoch 37 out of 70\n",
      "- Train\n",
      "-- Loss: 0.072\n",
      "-- Acc: 0.975\n",
      "\n",
      "\n",
      "- Validation\n",
      "-- Loss: 0.133\n",
      "-- Acc: 0.949\n",
      "\n",
      "\n",
      "- Training info\n",
      "-- Early stopping counting: 5 max to stop is 10\n",
      "-- Current LR: 0.0001\n",
      "-- Best loss so far: 0.120 on epoch 32\n",
      "\n",
      "Epoch 70/None:   0%|                                                         | 0/40 [00:00<?, ?it/s]"
     ]
    },
    {
     "name": "stdout",
     "output_type": "stream",
     "text": [
      "Training...\n"
     ]
    },
    {
     "name": "stderr",
     "output_type": "stream",
     "text": [
      "Epoch 70/None: 100%|####################################| 40/40 [04:27<00:00,  6.70s/it, loss=0.070]\n",
      "  0%|                                                                         | 0/5 [00:00<?, ?it/s]"
     ]
    },
    {
     "name": "stdout",
     "output_type": "stream",
     "text": [
      "\n",
      "Evaluating...\n"
     ]
    },
    {
     "name": "stderr",
     "output_type": "stream",
     "text": [
      "100%|#####################################################| 5/5 [00:19<00:00,  3.85s/it, loss=0.164]\n",
      "INFO:Train-Logger:Metrics for epoch 38 out of 70\n",
      "- Train\n",
      "-- Loss: 0.070\n",
      "-- Acc: 0.976\n",
      "\n",
      "\n",
      "- Validation\n",
      "-- Loss: 0.164\n",
      "-- Acc: 0.918\n",
      "\n",
      "\n",
      "- Training info\n",
      "-- Early stopping counting: 6 max to stop is 10\n",
      "-- Current LR: 0.0001\n",
      "-- Best loss so far: 0.120 on epoch 32\n",
      "\n",
      "Epoch 70/None:   0%|                                                         | 0/40 [00:00<?, ?it/s]"
     ]
    },
    {
     "name": "stdout",
     "output_type": "stream",
     "text": [
      "Training...\n"
     ]
    },
    {
     "name": "stderr",
     "output_type": "stream",
     "text": [
      "Epoch 70/None: 100%|####################################| 40/40 [04:26<00:00,  6.67s/it, loss=0.084]\n",
      "  0%|                                                                         | 0/5 [00:00<?, ?it/s]"
     ]
    },
    {
     "name": "stdout",
     "output_type": "stream",
     "text": [
      "\n",
      "Evaluating...\n"
     ]
    },
    {
     "name": "stderr",
     "output_type": "stream",
     "text": [
      "100%|#####################################################| 5/5 [00:19<00:00,  3.83s/it, loss=0.123]\n",
      "INFO:Train-Logger:Metrics for epoch 39 out of 70\n",
      "- Train\n",
      "-- Loss: 0.084\n",
      "-- Acc: 0.973\n",
      "\n",
      "\n",
      "- Validation\n",
      "-- Loss: 0.123\n",
      "-- Acc: 0.950\n",
      "\n",
      "\n",
      "- Training info\n",
      "-- Early stopping counting: 7 max to stop is 10\n",
      "-- Current LR: 1e-05\n",
      "-- Best loss so far: 0.120 on epoch 32\n",
      "\n",
      "Epoch 70/None:   0%|                                                         | 0/40 [00:00<?, ?it/s]"
     ]
    },
    {
     "name": "stdout",
     "output_type": "stream",
     "text": [
      "Training...\n"
     ]
    },
    {
     "name": "stderr",
     "output_type": "stream",
     "text": [
      "Epoch 70/None: 100%|####################################| 40/40 [04:27<00:00,  6.69s/it, loss=0.089]\n",
      "  0%|                                                                         | 0/5 [00:00<?, ?it/s]"
     ]
    },
    {
     "name": "stdout",
     "output_type": "stream",
     "text": [
      "\n",
      "Evaluating...\n"
     ]
    },
    {
     "name": "stderr",
     "output_type": "stream",
     "text": [
      "100%|#####################################################| 5/5 [00:19<00:00,  3.80s/it, loss=0.114]\n",
      "INFO:Train-Logger:Metrics for epoch 40 out of 70\n",
      "- Train\n",
      "-- Loss: 0.089\n",
      "-- Acc: 0.966\n",
      "\n",
      "\n",
      "- Validation\n",
      "-- Loss: 0.114\n",
      "-- Acc: 0.956\n",
      "\n",
      "\n",
      "- Training info\n",
      "-- Early stopping counting: 0 max to stop is 10\n",
      "-- Current LR: 1e-05\n",
      "-- New best loss: 0.114\n",
      "-- Best loss so far: 0.114 on epoch 40\n",
      "\n",
      "Epoch 70/None:   0%|                                                         | 0/40 [00:00<?, ?it/s]"
     ]
    },
    {
     "name": "stdout",
     "output_type": "stream",
     "text": [
      "Training...\n"
     ]
    },
    {
     "name": "stderr",
     "output_type": "stream",
     "text": [
      "Epoch 70/None: 100%|####################################| 40/40 [04:25<00:00,  6.65s/it, loss=0.066]\n",
      "  0%|                                                                         | 0/5 [00:00<?, ?it/s]"
     ]
    },
    {
     "name": "stdout",
     "output_type": "stream",
     "text": [
      "\n",
      "Evaluating...\n"
     ]
    },
    {
     "name": "stderr",
     "output_type": "stream",
     "text": [
      "100%|#####################################################| 5/5 [00:18<00:00,  3.79s/it, loss=0.119]\n",
      "INFO:Train-Logger:Metrics for epoch 41 out of 70\n",
      "- Train\n",
      "-- Loss: 0.066\n",
      "-- Acc: 0.979\n",
      "\n",
      "\n",
      "- Validation\n",
      "-- Loss: 0.119\n",
      "-- Acc: 0.950\n",
      "\n",
      "\n",
      "- Training info\n",
      "-- Early stopping counting: 1 max to stop is 10\n",
      "-- Current LR: 1e-05\n",
      "-- Best loss so far: 0.114 on epoch 40\n",
      "\n",
      "Epoch 70/None:   0%|                                                         | 0/40 [00:00<?, ?it/s]"
     ]
    },
    {
     "name": "stdout",
     "output_type": "stream",
     "text": [
      "Training...\n"
     ]
    },
    {
     "name": "stderr",
     "output_type": "stream",
     "text": [
      "Epoch 70/None: 100%|####################################| 40/40 [04:27<00:00,  6.68s/it, loss=0.068]\n",
      "  0%|                                                                         | 0/5 [00:00<?, ?it/s]"
     ]
    },
    {
     "name": "stdout",
     "output_type": "stream",
     "text": [
      "\n",
      "Evaluating...\n"
     ]
    },
    {
     "name": "stderr",
     "output_type": "stream",
     "text": [
      "100%|#####################################################| 5/5 [00:18<00:00,  3.79s/it, loss=0.118]\n",
      "INFO:Train-Logger:Metrics for epoch 42 out of 70\n",
      "- Train\n",
      "-- Loss: 0.068\n",
      "-- Acc: 0.977\n",
      "\n",
      "\n",
      "- Validation\n",
      "-- Loss: 0.118\n",
      "-- Acc: 0.955\n",
      "\n",
      "\n",
      "- Training info\n",
      "-- Early stopping counting: 2 max to stop is 10\n",
      "-- Current LR: 1e-05\n",
      "-- Best loss so far: 0.114 on epoch 40\n",
      "\n",
      "Epoch 70/None:   0%|                                                         | 0/40 [00:00<?, ?it/s]"
     ]
    },
    {
     "name": "stdout",
     "output_type": "stream",
     "text": [
      "Training...\n"
     ]
    },
    {
     "name": "stderr",
     "output_type": "stream",
     "text": [
      "Epoch 70/None: 100%|####################################| 40/40 [04:27<00:00,  6.68s/it, loss=0.075]\n",
      "  0%|                                                                         | 0/5 [00:00<?, ?it/s]"
     ]
    },
    {
     "name": "stdout",
     "output_type": "stream",
     "text": [
      "\n",
      "Evaluating...\n"
     ]
    },
    {
     "name": "stderr",
     "output_type": "stream",
     "text": [
      "100%|#####################################################| 5/5 [00:19<00:00,  3.85s/it, loss=0.113]\n",
      "INFO:Train-Logger:Metrics for epoch 43 out of 70\n",
      "- Train\n",
      "-- Loss: 0.075\n",
      "-- Acc: 0.977\n",
      "\n",
      "\n",
      "- Validation\n",
      "-- Loss: 0.113\n",
      "-- Acc: 0.956\n",
      "\n",
      "\n",
      "- Training info\n",
      "-- Early stopping counting: 0 max to stop is 10\n",
      "-- Current LR: 1e-05\n",
      "-- New best loss: 0.113\n",
      "-- Best loss so far: 0.113 on epoch 43\n",
      "\n",
      "Epoch 70/None:   0%|                                                         | 0/40 [00:00<?, ?it/s]"
     ]
    },
    {
     "name": "stdout",
     "output_type": "stream",
     "text": [
      "Training...\n"
     ]
    },
    {
     "name": "stderr",
     "output_type": "stream",
     "text": [
      "Epoch 70/None: 100%|####################################| 40/40 [04:27<00:00,  6.69s/it, loss=0.071]\n",
      "  0%|                                                                         | 0/5 [00:00<?, ?it/s]"
     ]
    },
    {
     "name": "stdout",
     "output_type": "stream",
     "text": [
      "\n",
      "Evaluating...\n"
     ]
    },
    {
     "name": "stderr",
     "output_type": "stream",
     "text": [
      "100%|#####################################################| 5/5 [00:19<00:00,  3.91s/it, loss=0.130]\n",
      "INFO:Train-Logger:Metrics for epoch 44 out of 70\n",
      "- Train\n",
      "-- Loss: 0.071\n",
      "-- Acc: 0.974\n",
      "\n",
      "\n",
      "- Validation\n",
      "-- Loss: 0.130\n",
      "-- Acc: 0.936\n",
      "\n",
      "\n",
      "- Training info\n",
      "-- Early stopping counting: 1 max to stop is 10\n",
      "-- Current LR: 1e-05\n",
      "-- Best loss so far: 0.113 on epoch 43\n",
      "\n",
      "Epoch 70/None:   0%|                                                         | 0/40 [00:00<?, ?it/s]"
     ]
    },
    {
     "name": "stdout",
     "output_type": "stream",
     "text": [
      "Training...\n"
     ]
    },
    {
     "name": "stderr",
     "output_type": "stream",
     "text": [
      "Epoch 70/None: 100%|####################################| 40/40 [04:27<00:00,  6.68s/it, loss=0.080]\n",
      "  0%|                                                                         | 0/5 [00:00<?, ?it/s]"
     ]
    },
    {
     "name": "stdout",
     "output_type": "stream",
     "text": [
      "\n",
      "Evaluating...\n"
     ]
    },
    {
     "name": "stderr",
     "output_type": "stream",
     "text": [
      "100%|#####################################################| 5/5 [00:19<00:00,  3.82s/it, loss=0.124]\n",
      "INFO:Train-Logger:Metrics for epoch 45 out of 70\n",
      "- Train\n",
      "-- Loss: 0.080\n",
      "-- Acc: 0.974\n",
      "\n",
      "\n",
      "- Validation\n",
      "-- Loss: 0.124\n",
      "-- Acc: 0.943\n",
      "\n",
      "\n",
      "- Training info\n",
      "-- Early stopping counting: 2 max to stop is 10\n",
      "-- Current LR: 1e-05\n",
      "-- Best loss so far: 0.113 on epoch 43\n",
      "\n",
      "Epoch 70/None:   0%|                                                         | 0/40 [00:00<?, ?it/s]"
     ]
    },
    {
     "name": "stdout",
     "output_type": "stream",
     "text": [
      "Training...\n"
     ]
    },
    {
     "name": "stderr",
     "output_type": "stream",
     "text": [
      "Epoch 70/None: 100%|####################################| 40/40 [04:26<00:00,  6.67s/it, loss=0.074]\n",
      "  0%|                                                                         | 0/5 [00:00<?, ?it/s]"
     ]
    },
    {
     "name": "stdout",
     "output_type": "stream",
     "text": [
      "\n",
      "Evaluating...\n"
     ]
    },
    {
     "name": "stderr",
     "output_type": "stream",
     "text": [
      "100%|#####################################################| 5/5 [00:19<00:00,  3.82s/it, loss=0.127]\n",
      "INFO:Train-Logger:Metrics for epoch 46 out of 70\n",
      "- Train\n",
      "-- Loss: 0.074\n",
      "-- Acc: 0.974\n",
      "\n",
      "\n",
      "- Validation\n",
      "-- Loss: 0.127\n",
      "-- Acc: 0.955\n",
      "\n",
      "\n",
      "- Training info\n",
      "-- Early stopping counting: 3 max to stop is 10\n",
      "-- Current LR: 1e-05\n",
      "-- Best loss so far: 0.113 on epoch 43\n",
      "\n",
      "Epoch 70/None:   0%|                                                         | 0/40 [00:00<?, ?it/s]"
     ]
    },
    {
     "name": "stdout",
     "output_type": "stream",
     "text": [
      "Training...\n"
     ]
    },
    {
     "name": "stderr",
     "output_type": "stream",
     "text": [
      "Epoch 70/None: 100%|####################################| 40/40 [04:26<00:00,  6.67s/it, loss=0.059]\n",
      "  0%|                                                                         | 0/5 [00:00<?, ?it/s]"
     ]
    },
    {
     "name": "stdout",
     "output_type": "stream",
     "text": [
      "\n",
      "Evaluating...\n"
     ]
    },
    {
     "name": "stderr",
     "output_type": "stream",
     "text": [
      "100%|#####################################################| 5/5 [00:19<00:00,  3.81s/it, loss=0.125]\n",
      "INFO:Train-Logger:Metrics for epoch 47 out of 70\n",
      "- Train\n",
      "-- Loss: 0.059\n",
      "-- Acc: 0.984\n",
      "\n",
      "\n",
      "- Validation\n",
      "-- Loss: 0.125\n",
      "-- Acc: 0.943\n",
      "\n",
      "\n",
      "- Training info\n",
      "-- Early stopping counting: 4 max to stop is 10\n",
      "-- Current LR: 1e-05\n",
      "-- Best loss so far: 0.113 on epoch 43\n",
      "\n",
      "Epoch 70/None:   0%|                                                         | 0/40 [00:00<?, ?it/s]"
     ]
    },
    {
     "name": "stdout",
     "output_type": "stream",
     "text": [
      "Training...\n"
     ]
    },
    {
     "name": "stderr",
     "output_type": "stream",
     "text": [
      "Epoch 70/None: 100%|####################################| 40/40 [04:27<00:00,  6.69s/it, loss=0.078]\n",
      "  0%|                                                                         | 0/5 [00:00<?, ?it/s]"
     ]
    },
    {
     "name": "stdout",
     "output_type": "stream",
     "text": [
      "\n",
      "Evaluating...\n"
     ]
    },
    {
     "name": "stderr",
     "output_type": "stream",
     "text": [
      "100%|#####################################################| 5/5 [00:19<00:00,  3.87s/it, loss=0.124]\n",
      "INFO:Train-Logger:Metrics for epoch 48 out of 70\n",
      "- Train\n",
      "-- Loss: 0.078\n",
      "-- Acc: 0.970\n",
      "\n",
      "\n",
      "- Validation\n",
      "-- Loss: 0.124\n",
      "-- Acc: 0.955\n",
      "\n",
      "\n",
      "- Training info\n",
      "-- Early stopping counting: 5 max to stop is 10\n",
      "-- Current LR: 1e-05\n",
      "-- Best loss so far: 0.113 on epoch 43\n",
      "\n",
      "Epoch 70/None:   0%|                                                         | 0/40 [00:00<?, ?it/s]"
     ]
    },
    {
     "name": "stdout",
     "output_type": "stream",
     "text": [
      "Training...\n"
     ]
    },
    {
     "name": "stderr",
     "output_type": "stream",
     "text": [
      "Epoch 70/None: 100%|####################################| 40/40 [04:27<00:00,  6.69s/it, loss=0.074]\n",
      "  0%|                                                                         | 0/5 [00:00<?, ?it/s]"
     ]
    },
    {
     "name": "stdout",
     "output_type": "stream",
     "text": [
      "\n",
      "Evaluating...\n"
     ]
    },
    {
     "name": "stderr",
     "output_type": "stream",
     "text": [
      "100%|#####################################################| 5/5 [00:19<00:00,  3.82s/it, loss=0.122]\n",
      "INFO:Train-Logger:Metrics for epoch 49 out of 70\n",
      "- Train\n",
      "-- Loss: 0.074\n",
      "-- Acc: 0.975\n",
      "\n",
      "\n",
      "- Validation\n",
      "-- Loss: 0.122\n",
      "-- Acc: 0.943\n",
      "\n",
      "\n",
      "- Training info\n",
      "-- Early stopping counting: 6 max to stop is 10\n",
      "-- Current LR: 1e-05\n",
      "-- Best loss so far: 0.113 on epoch 43\n",
      "\n",
      "Epoch 70/None:   0%|                                                         | 0/40 [00:00<?, ?it/s]"
     ]
    },
    {
     "name": "stdout",
     "output_type": "stream",
     "text": [
      "Training...\n"
     ]
    },
    {
     "name": "stderr",
     "output_type": "stream",
     "text": [
      "Epoch 70/None: 100%|####################################| 40/40 [04:27<00:00,  6.69s/it, loss=0.059]\n",
      "  0%|                                                                         | 0/5 [00:00<?, ?it/s]"
     ]
    },
    {
     "name": "stdout",
     "output_type": "stream",
     "text": [
      "\n",
      "Evaluating...\n"
     ]
    },
    {
     "name": "stderr",
     "output_type": "stream",
     "text": [
      "100%|#####################################################| 5/5 [00:19<00:00,  3.81s/it, loss=0.130]\n",
      "INFO:Train-Logger:Metrics for epoch 50 out of 70\n",
      "- Train\n",
      "-- Loss: 0.059\n",
      "-- Acc: 0.979\n",
      "\n",
      "\n",
      "- Validation\n",
      "-- Loss: 0.130\n",
      "-- Acc: 0.924\n",
      "\n",
      "\n",
      "- Training info\n",
      "-- Early stopping counting: 7 max to stop is 10\n",
      "-- Current LR: 1e-05\n",
      "-- Best loss so far: 0.113 on epoch 43\n",
      "\n",
      "Epoch 70/None:   0%|                                                         | 0/40 [00:00<?, ?it/s]"
     ]
    },
    {
     "name": "stdout",
     "output_type": "stream",
     "text": [
      "Training...\n"
     ]
    },
    {
     "name": "stderr",
     "output_type": "stream",
     "text": [
      "Epoch 70/None: 100%|####################################| 40/40 [22:28<00:00, 33.72s/it, loss=0.064]\n",
      "  0%|                                                                         | 0/5 [00:00<?, ?it/s]"
     ]
    },
    {
     "name": "stdout",
     "output_type": "stream",
     "text": [
      "\n",
      "Evaluating...\n"
     ]
    },
    {
     "name": "stderr",
     "output_type": "stream",
     "text": [
      "100%|#####################################################| 5/5 [00:28<00:00,  5.62s/it, loss=0.129]\n",
      "INFO:Train-Logger:Metrics for epoch 51 out of 70\n",
      "- Train\n",
      "-- Loss: 0.064\n",
      "-- Acc: 0.980\n",
      "\n",
      "\n",
      "- Validation\n",
      "-- Loss: 0.129\n",
      "-- Acc: 0.924\n",
      "\n",
      "\n",
      "- Training info\n",
      "-- Early stopping counting: 8 max to stop is 10\n",
      "-- Current LR: 1e-05\n",
      "-- Best loss so far: 0.113 on epoch 43\n",
      "\n",
      "Epoch 70/None:   0%|                                                         | 0/40 [00:00<?, ?it/s]"
     ]
    },
    {
     "name": "stdout",
     "output_type": "stream",
     "text": [
      "Training...\n"
     ]
    },
    {
     "name": "stderr",
     "output_type": "stream",
     "text": [
      "Epoch 70/None: 100%|####################################| 40/40 [04:27<00:00,  6.68s/it, loss=0.074]\n",
      "  0%|                                                                         | 0/5 [00:00<?, ?it/s]"
     ]
    },
    {
     "name": "stdout",
     "output_type": "stream",
     "text": [
      "\n",
      "Evaluating...\n"
     ]
    },
    {
     "name": "stderr",
     "output_type": "stream",
     "text": [
      "100%|#####################################################| 5/5 [00:16<00:00,  3.23s/it, loss=0.123]\n",
      "INFO:Train-Logger:Metrics for epoch 52 out of 70\n",
      "- Train\n",
      "-- Loss: 0.074\n",
      "-- Acc: 0.970\n",
      "\n",
      "\n",
      "- Validation\n",
      "-- Loss: 0.123\n",
      "-- Acc: 0.955\n",
      "\n",
      "\n",
      "- Training info\n",
      "-- Early stopping counting: 9 max to stop is 10\n",
      "-- Current LR: 1e-05\n",
      "-- Best loss so far: 0.113 on epoch 43\n",
      "\n",
      "Epoch 70/None:   0%|                                                         | 0/40 [00:00<?, ?it/s]"
     ]
    },
    {
     "name": "stdout",
     "output_type": "stream",
     "text": [
      "Training...\n"
     ]
    },
    {
     "name": "stderr",
     "output_type": "stream",
     "text": [
      "Epoch 70/None: 100%|####################################| 40/40 [03:41<00:00,  5.53s/it, loss=0.069]\n",
      "  0%|                                                                         | 0/5 [00:00<?, ?it/s]"
     ]
    },
    {
     "name": "stdout",
     "output_type": "stream",
     "text": [
      "\n",
      "Evaluating...\n"
     ]
    },
    {
     "name": "stderr",
     "output_type": "stream",
     "text": [
      "100%|#####################################################| 5/5 [00:16<00:00,  3.24s/it, loss=0.124]\n",
      "INFO:Train-Logger:Metrics for epoch 53 out of 70\n",
      "- Train\n",
      "-- Loss: 0.069\n",
      "-- Acc: 0.983\n",
      "\n",
      "\n",
      "- Validation\n",
      "-- Loss: 0.124\n",
      "-- Acc: 0.949\n",
      "\n",
      "\n",
      "- Training info\n",
      "-- Early stopping counting: 10 max to stop is 10\n",
      "-- Current LR: 1e-05\n",
      "-- Best loss so far: 0.113 on epoch 43\n",
      "\n",
      "INFO:Train-Logger:The early stop trigger was activated. The validation loss 0.113 did not improved for 10 epochs.The training phase was stopped.\n"
     ]
    },
    {
     "name": "stdout",
     "output_type": "stream",
     "text": [
      "Saving history plots in Results/mobilenet\\history\n",
      "Saving history CSVs in Results/mobilenet\\history\n",
      "\n",
      "\n",
      "- Evaluating the validation partition...\n"
     ]
    },
    {
     "name": "stderr",
     "output_type": "stream",
     "text": [
      "\r",
      "  0%|                                                                         | 0/5 [00:00<?, ?it/s]"
     ]
    },
    {
     "name": "stdout",
     "output_type": "stream",
     "text": [
      "Testing...\n"
     ]
    },
    {
     "name": "stderr",
     "output_type": "stream",
     "text": [
      "100%|#####################################################| 5/5 [00:15<00:00,  3.04s/it, loss=0.113]\n",
      "  0%|                                                                         | 0/5 [00:00<?, ?it/s]"
     ]
    },
    {
     "name": "stdout",
     "output_type": "stream",
     "text": [
      "Saving the scores in Results/mobilenet\\best_metrics\n",
      "- Loading test data...\n",
      "-- Using 20 meta-data features\n",
      "-- Testing partition loaded with 160 images\n",
      "--------------------------------------------------\n",
      "\n",
      "- Evaluating the testing partition...\n",
      "Testing...\n"
     ]
    },
    {
     "name": "stderr",
     "output_type": "stream",
     "text": [
      "100%|#####################################################| 5/5 [00:11<00:00,  2.33s/it, loss=0.200]\n"
     ]
    },
    {
     "name": "stdout",
     "output_type": "stream",
     "text": [
      "Saving the scores in Results/mobilenet\\best_metrics\n"
     ]
    },
    {
     "data": {
      "image/png": "[encoded data removed]",
      "text/plain": [
       "<Figure size 432x288 with 1 Axes>"
      ]
     },
     "metadata": {
      "needs_background": "light"
     },
     "output_type": "display_data"
    },
    {
     "data": {
      "image/png": "[encoded data removed]",
      "text/plain": [
       "<Figure size 432x288 with 1 Axes>"
      ]
     },
     "metadata": {
      "needs_background": "light"
     },
     "output_type": "display_data"
    },
    {
     "data": {
      "text/plain": [
       "<Figure size 432x288 with 0 Axes>"
      ]
     },
     "metadata": {},
     "output_type": "display_data"
    }
   ],
   "source": [
    "k = main(folder = folder, csv_path_train = csv_path_train, imgs_folder_train = imgs_folder_train, csv_path_test = csv_path_test,\n",
    "         imgs_folder_test = imgs_folder_test, lr_init = lr_init ,sched_factor = sched_factor,\n",
    "         sched_min_lr = sched_min_lr, sched_patience = sched_patience , batch_size = batch_size, epochs = epochs,\n",
    "         early_stop = early_stop, weights = weights, model_name = model_name, pretrained= pretrained, \n",
    "         save_folder = save_folder, best_metric = best_metric,comb_method= comb_method, comb_config= comb_config,\n",
    "         use_meta_data = use_meta_data)"
   ]
  },
  {
   "cell_type": "code",
   "execution_count": null,
   "metadata": {},
   "outputs": [],
   "source": []
  }
 ],
 "metadata": {
  "kernelspec": {
   "display_name": "Python 3",
   "language": "python",
   "name": "python3"
  },
  "language_info": {
   "codemirror_mode": {
    "name": "ipython",
    "version": 3
   },
   "file_extension": ".py",
   "mimetype": "text/x-python",
   "name": "python",
   "nbconvert_exporter": "python",
   "pygments_lexer": "ipython3",
   "version": "3.7.6"
  }
 },
 "nbformat": 4,
 "nbformat_minor": 4
}
