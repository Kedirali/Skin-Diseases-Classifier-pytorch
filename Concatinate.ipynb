{
 "cells": [
  {
   "cell_type": "code",
   "execution_count": 1,
   "metadata": {},
   "outputs": [],
   "source": [
    "import os\n",
    "import time\n",
    "import torch\n",
    "import logging\n",
    "import warnings\n",
    "import datetime\n",
    "import itertools\n",
    "import torchvision\n",
    "import numpy as np\n",
    "import pandas as pd\n",
    "from glob import glob\n",
    "from PIL import Image\n",
    "import torch.nn as nn\n",
    "from tqdm import tqdm\n",
    "from random import seed\n",
    "import torch.optim as optim\n",
    "from torch.utils import data\n",
    "from torchvision import models\n",
    "import pretrainedmodels as ptm\n",
    "import sklearn.metrics as skmet\n",
    "import matplotlib.pyplot as plt\n",
    "import torch.nn.functional as nnF\n",
    "from imgaug import augmenters as iaa\n",
    "from torch.utils.data import DataLoader\n",
    "import torchvision.transforms as transforms\n",
    "from torch.utils.tensorboard import SummaryWriter"
   ]
  },
  {
   "cell_type": "code",
   "execution_count": 3,
   "metadata": {},
   "outputs": [
    {
     "name": "stdout",
     "output_type": "stream",
     "text": [
      "The model will run on cpu\n"
     ]
    }
   ],
   "source": [
    "device = torch.device(\"cuda\" if torch.cuda.is_available() else \"cpu\") \n",
    "print('The model will run on', device)"
   ]
  },
  {
   "cell_type": "code",
   "execution_count": 4,
   "metadata": {},
   "outputs": [],
   "source": [
    "torch.manual_seed(123)\n",
    "np.random.seed(123)"
   ]
  },
  {
   "cell_type": "code",
   "execution_count": 5,
   "metadata": {},
   "outputs": [],
   "source": [
    "class MyDataset (data.Dataset):\n",
    "    \"\"\"\n",
    "    This is the standard way to implement a dataset pipeline in PyTorch. We need to extend the torch.utils.data.Dataset\n",
    "    class and implement the following methods: __len__, __getitem__ and the constructor __init__\n",
    "    \"\"\"\n",
    "\n",
    "    def __init__(self, imgs_path, labels, meta_data=None, transform=None):\n",
    "        \"\"\"\n",
    "        The constructor gets the images path and their respective labels and meta-data (if applicable).\n",
    "        In addition, you can specify some transform operation to be carry out on the images.\n",
    "        It's important to note the images must match with the labels (and meta-data if applicable). For example, the\n",
    "        imgs_path[x]'s label must take place on labels[x].\n",
    "        Parameters:\n",
    "        :param imgs_path (list): a list of string containing the image paths\n",
    "        :param labels (list) a list of labels for each image\n",
    "        :param meta_data (list): a list of meta-data regarding each image. If None, there is no information.\n",
    "        Defaul is None.\n",
    "        :param transform (torchvision.transforms.Compose): transform operations to be carry out on the images\n",
    "\n",
    "\n",
    "\n",
    "        The self parameter is a reference to the current instance of the class, and is used to access variables that belongs to the class.\n",
    "\n",
    "        It does not have to be named self , you can call it whatever you like, but it has to be the first parameter of any function in the class:\n",
    "        \"\"\"\n",
    "\n",
    "        super().__init__()\n",
    "        self.imgs_path = imgs_path\n",
    "        self.labels = labels\n",
    "        self.meta_data = meta_data\n",
    "\n",
    "        # if transform is None, we need to ensure that the PIL image will be transformed to tensor, otherwise we'll get\n",
    "        # an exception\n",
    "        if transform is not None:\n",
    "            self.transform = transform\n",
    "        else:\n",
    "            self.transform = transforms.ToTensor()\n",
    "\n",
    "\n",
    "    def __len__(self):\n",
    "        \"\"\" This method just returns the dataset size \"\"\"\n",
    "        return len(self.imgs_path)\n",
    "\n",
    "\n",
    "    def __getitem__(self, item):\n",
    "        \"\"\"\n",
    "        It gets the image, labels and meta-data (if applicable) according to the index informed in `item`.\n",
    "        It also performs the transform on the image.\n",
    "        :param item (int): an index in the interval [0, ..., len(img_paths)-1]\n",
    "        :return (tuple): a tuple containing the image, its label and meta-data (if applicable)\n",
    "        \"\"\"\n",
    "\n",
    "        image = Image.open(self.imgs_path[item]).convert(\"RGB\")\n",
    "\n",
    "        # Applying the transformations\n",
    "        image = self.transform(image)\n",
    "\n",
    "        img_id = self.imgs_path[item].split('/')[-1].split('.')[0]\n",
    "\n",
    "        if self.meta_data is None:\n",
    "            meta_data = []\n",
    "        else:\n",
    "            meta_data = self.meta_data[item]\n",
    "\n",
    "        if self.labels is None:\n",
    "            labels = []\n",
    "        else:\n",
    "            labels = self.labels[item]\n",
    "\n",
    "        return image, labels, meta_data, img_id"
   ]
  },
  {
   "cell_type": "code",
   "execution_count": 6,
   "metadata": {},
   "outputs": [],
   "source": [
    "def get_data_loader (imgs_path, labels, meta_data=None, transform=None, batch_size=64, shuf=False, num_workers=0,\n",
    "                     pin_memory=True):\n",
    "    \"\"\"\n",
    "    This function gets a list of images path, their labels and meta-data (if applicable) and returns a DataLoader\n",
    "    for these files. You also can set some transformations using torchvision.transforms in order to perform data\n",
    "    augmentation. Lastly, params is a dictionary that you can set the following parameters:\n",
    "    batch_size (int): the batch size for the dataset. If it's not informed the default is 64\n",
    "    shuf (bool): set it true if wanna shuffe the dataset. If it's not informed the default is True\n",
    "    :param imgs_path (list): a list of string containing the images path\n",
    "    :param labels (list): a list of labels for each image\n",
    "    :param meta_data (list, optional): a list of meta-data regarding each image. If it's None, it means there's\n",
    "    no meta-data. Default is None\n",
    "    :param transform (torchvision.transforms, optional): use the torchvision.transforms.compose to perform the data\n",
    "    augmentation for the dataset. Alternatively, you can use the jedy.pytorch.utils.augmentation to perform the\n",
    "    augmentation. If it's None, none augmentation will be perform. Default is None\n",
    "    :param num_workers (int): the number of threads to be used in CPU. If the key is not informed or params = None, the\n",
    "    default value will be  0\n",
    "    :param pin_memory (bool): set it to True to Pytorch preload the images on GPU. If the key is not informed or\n",
    "    params = None, the default value will be True\n",
    "    :return (torch.utils.data.DataLoader): a dataloader with the dataset and the chose params\n",
    "    \"\"\"\n",
    "\n",
    "    dt = MyDataset(imgs_path, labels, meta_data, transform)\n",
    "    dl = DataLoader (dataset=dt, batch_size=batch_size, shuffle=shuf, num_workers=num_workers,\n",
    "                          pin_memory=pin_memory)\n",
    "    return dl"
   ]
  },
  {
   "cell_type": "code",
   "execution_count": 7,
   "metadata": {},
   "outputs": [],
   "source": [
    "def get_labels_frequency (data_csv, col_target, col_single_id, verbose=False):\n",
    "    \"\"\"\n",
    "    This function returns the frequency of each label in the dataset\n",
    "    :param data_csv (string or pd.DataFrame): the path for a csv or a dataframe already loaded\n",
    "    :param col_target (string): the name of the target/label column\n",
    "    :param col_single_id (string): the name any column that is present for all rows in the dataframe\n",
    "    :param verbose (boolean): a boolean to print or not the frequencies\n",
    "    return (pd.DataFrame): a dataframe containing the frequency of each label\n",
    "    \"\"\"\n",
    "\n",
    "    # Loading the data_csv\n",
    "    if isinstance(data_csv, str):\n",
    "        data_csv = pd.read_csv(data_csv)\n",
    "\n",
    "    data_ = data_csv.groupby([col_target])[col_single_id].count()\n",
    "    if (verbose):\n",
    "        print('### Data summary: ###')\n",
    "        print(data_)\n",
    "        print(\">> Total samples: {} <<\".format(data_.sum()))\n",
    "\n",
    "    return data_"
   ]
  },
  {
   "cell_type": "code",
   "execution_count": 8,
   "metadata": {},
   "outputs": [],
   "source": [
    "class ImgTrainTransform:\n",
    "\n",
    "    def __init__(self, size=(224,224), normalization=([0.485, 0.456, 0.406], [0.229, 0.224, 0.225])):\n",
    "\n",
    "        self.normalization = normalization\n",
    "        self.aug = iaa.Sequential([\n",
    "            iaa.Resize(size),\n",
    "            iaa.Fliplr(1.0),\n",
    "            iaa.Flipud(1.0),  # vertically flip 20% of all images\n",
    "            iaa.Sometimes(1.0, iaa.Affine(rotate=(-90, 90), mode='symmetric')),\n",
    "        ])\n",
    "\n",
    "    def __call__(self, img):\n",
    "        img = self.aug.augment_image(np.array(img)).copy()\n",
    "        transforms = torchvision.transforms.Compose([\n",
    "            torchvision.transforms.ToTensor(),\n",
    "            torchvision.transforms.Normalize(self.normalization[0], self.normalization[1]),\n",
    "        ])\n",
    "        return transforms(img)\n",
    "\n",
    "\n",
    "class ImgEvalTransform:\n",
    "\n",
    "    def __init__(self, size=(224,224), normalization=([0.485, 0.456, 0.406], [0.229, 0.224, 0.225])):\n",
    "\n",
    "        self.normalization = normalization\n",
    "        self.size = size\n",
    "\n",
    "    def __call__(self, img):\n",
    "        transforms = torchvision.transforms.Compose([\n",
    "            torchvision.transforms.Resize(self.size),\n",
    "            torchvision.transforms.ToTensor(),\n",
    "            torchvision.transforms.Normalize(self.normalization[0], self.normalization[1]),\n",
    "        ])\n",
    "        return transforms(img)"
   ]
  },
  {
   "cell_type": "code",
   "execution_count": 9,
   "metadata": {},
   "outputs": [],
   "source": [
    "def one_hot_encoding(ind, N=None):\n",
    "\n",
    "    ind = np.asarray(ind)\n",
    "    if ind is None:\n",
    "        return None\n",
    "\n",
    "    if N is None:\n",
    "        N = ind.max() + 1\n",
    "\n",
    "    return (np.arange(N) == ind[:, None]).astype(int)"
   ]
  },
  {
   "cell_type": "code",
   "execution_count": 10,
   "metadata": {},
   "outputs": [],
   "source": [
    "def _check_dim (lab_real, lab_pred, mode='labels'):\n",
    "\n",
    "    if mode == 'labels':\n",
    "        if lab_real.ndim == 2:\n",
    "            lab_real = lab_real.argmax(axis=1)\n",
    "        if lab_pred.ndim == 2:\n",
    "            lab_pred = lab_pred.argmax(axis=1)\n",
    "\n",
    "    elif mode == 'scores':\n",
    "        if lab_real.ndim == 1:\n",
    "            lab_real = one_hot_encoding(lab_real)\n",
    "        if lab_pred.ndim == 1:\n",
    "            lab_pred = one_hot_encoding(lab_pred)\n",
    "\n",
    "    else:\n",
    "        raise Exception ('There is no mode called {}. Please, choose between score or labels'.format(mode))\n",
    "\n",
    "    return lab_real, lab_pred"
   ]
  },
  {
   "cell_type": "code",
   "execution_count": 11,
   "metadata": {},
   "outputs": [],
   "source": [
    "class AVGMetrics (object):\n",
    "\n",
    "    def __init__(self):\n",
    "        self.sum_value = 0\n",
    "        self.avg = 0\n",
    "        self.count = 0\n",
    "        self.values = []\n",
    "\n",
    "    def __call__(self):\n",
    "        return self.avg\n",
    "\n",
    "    def update(self, val):\n",
    "        self.values.append(val)\n",
    "        self.sum_value += val\n",
    "        self.count += 1\n",
    "        self.avg = self.sum_value / float(self.count)\n",
    "\n",
    "    def print (self):\n",
    "        print('\\nsum_value: ', self.sum_value)\n",
    "        print('count: ', self.count)\n",
    "        print('avg: ', self.avg)"
   ]
  },
  {
   "cell_type": "code",
   "execution_count": 12,
   "metadata": {},
   "outputs": [],
   "source": [
    "def accuracy (lab_real, lab_pred, verbose=False):\n",
    "\n",
    "    lab_real, lab_pred = _check_dim (lab_real, lab_pred, mode='labels')\n",
    "    acc = skmet.accuracy_score(lab_real, lab_pred)\n",
    "\n",
    "    if verbose:\n",
    "        print('- Accuracy - {:.3f}'.format(acc))\n",
    "\n",
    "    return acc"
   ]
  },
  {
   "cell_type": "code",
   "execution_count": 13,
   "metadata": {},
   "outputs": [],
   "source": [
    "def conf_matrix (lab_real, lab_pred, normalize=True):\n",
    "\n",
    "    lab_real, lab_pred = _check_dim(lab_real, lab_pred, mode='labels')\n",
    "    cm = skmet.confusion_matrix(lab_real, lab_pred)\n",
    "\n",
    "    if normalize:\n",
    "        cm = cm.astype('float') / cm.sum(axis=1)[:, np.newaxis]\n",
    "\n",
    "    return cm"
   ]
  },
  {
   "cell_type": "code",
   "execution_count": 14,
   "metadata": {},
   "outputs": [],
   "source": [
    "def plot_conf_matrix(cm, class_names, normalize=True, save_path=None, title='Confusion matrix', cmap=plt.cm.GnBu):\n",
    "\n",
    "    if normalize:\n",
    "        cm = cm.astype('float') / cm.sum(axis=1)[:, np.newaxis]\n",
    "\n",
    "    plt.imshow(cm, interpolation='nearest', cmap=cmap)\n",
    "    plt.title(title)\n",
    "    plt.colorbar()\n",
    "    tick_marks = np.arange(len(class_names))\n",
    "    plt.xticks(tick_marks, class_names, rotation=0)\n",
    "    plt.yticks(tick_marks, class_names)\n",
    "\n",
    "    fmt = '.2f' if normalize else 'd'\n",
    "    thresh = cm.max() / 2.\n",
    "    for i, j in itertools.product(range(cm.shape[0]), range(cm.shape[1])):\n",
    "        plt.text(j, i, format(cm[i, j], fmt),\n",
    "                 horizontalalignment=\"center\",\n",
    "                 color=\"white\" if cm[i, j] > thresh else \"black\")\n",
    "\n",
    "    plt.ylabel('True label')\n",
    "    plt.xlabel('Predicted label')\n",
    "    plt.tight_layout()\n",
    "\n",
    "    if isinstance(save_path, str):\n",
    "        plt.savefig(save_path, dpi=200)\n",
    "        plt.clf()\n",
    "    elif save_path:\n",
    "        plt.show()\n",
    "    else:\n",
    "        plt.clf()"
   ]
  },
  {
   "cell_type": "code",
   "execution_count": 15,
   "metadata": {},
   "outputs": [],
   "source": [
    "def precision_recall_report (lab_real, lab_pred, class_names=None, verbose=False, output_dict=False):\n",
    "\n",
    "    lab_real, lab_pred = _check_dim(lab_real, lab_pred, mode='labels')\n",
    "    report = skmet.classification_report(lab_real, lab_pred, target_names=class_names, output_dict=output_dict)\n",
    "\n",
    "    if verbose:\n",
    "         print(report)\n",
    "\n",
    "    return report"
   ]
  },
  {
   "cell_type": "code",
   "execution_count": 16,
   "metadata": {},
   "outputs": [],
   "source": [
    "def roc_auc (lab_real, lab_pred):\n",
    "\n",
    "    lab_real, lab_pred = _check_dim(lab_real, lab_pred, mode='scores')\n",
    "    return skmet.roc_auc_score(lab_real, lab_pred)"
   ]
  },
  {
   "cell_type": "code",
   "execution_count": 17,
   "metadata": {},
   "outputs": [],
   "source": [
    "def auc_and_roc_curve (lab_real, lab_pred, class_names, class_to_compute='all', save_path=None):\n",
    "\n",
    "    # Checkin the array dimension\n",
    "    lab_real, lab_pred = _check_dim(lab_real, lab_pred, mode='scores')\n",
    "\n",
    "    # Computing the ROC curve and AUC for each class\n",
    "    fpr = dict()  # false positive rate\n",
    "    tpr = dict()  # true positive rate\n",
    "    roc_auc = dict()  # area under the curve\n",
    "    for i, name in enumerate(class_names):\n",
    "        # print(i, name)\n",
    "        fpr[name], tpr[name], _ = skmet.roc_curve(lab_real[:, i], lab_pred[:, i])\n",
    "        roc_auc[name] = skmet.auc(fpr[name], tpr[name])\n",
    "\n",
    "    if class_to_compute == 'all':\n",
    "\n",
    "        # Compute macro-average ROC curve and ROC area\n",
    "        # First aggregate all false positive rates\n",
    "        all_fpr = np.unique(np.concatenate([fpr[name] for name in class_names]))\n",
    "\n",
    "        # Then interpolate all ROC curves at this points\n",
    "        mean_tpr = np.zeros_like(all_fpr)\n",
    "        for name in class_names:\n",
    "            mean_tpr += np.interp(all_fpr, fpr[name], tpr[name])\n",
    "\n",
    "        # Finally average it and compute AUC\n",
    "        mean_tpr /= float(len(class_names))\n",
    "\n",
    "        fpr[\"macro\"] = all_fpr\n",
    "        tpr[\"macro\"] = mean_tpr\n",
    "        roc_auc[\"macro\"] = skmet.auc(fpr[\"macro\"], tpr[\"macro\"])\n",
    "\n",
    "        # Computing the micro-average ROC curve and the AUC\n",
    "        fpr[\"micro\"], tpr[\"micro\"], _ = skmet.roc_curve(lab_real.ravel(), lab_pred.ravel())\n",
    "        roc_auc[\"micro\"] = skmet.auc(fpr[\"micro\"], tpr[\"micro\"])\n",
    "\n",
    "        if save_path:\n",
    "            # Ploting all ROC curves\n",
    "            plt.figure()\n",
    "\n",
    "            # Plotting the micro avg\n",
    "            plt.plot(fpr[\"micro\"], tpr[\"micro\"],\n",
    "                     label='MicroAVG - AUC: {0:0.2f}'\n",
    "                           ''.format(roc_auc[\"micro\"]),\n",
    "                     color='deeppink', linestyle=':', linewidth=2)\n",
    "\n",
    "            # Plotting the micro avg\n",
    "            plt.plot(fpr[\"macro\"], tpr[\"macro\"],\n",
    "                     label='MacroAVG - AUC: {0:0.2f}'\n",
    "                           ''.format(roc_auc[\"macro\"]),\n",
    "                     color='navy', linestyle=':', linewidth=2)\n",
    "\n",
    "            # Plottig the curves for each class\n",
    "            for name in class_names:\n",
    "                plt.plot(fpr[name], tpr[name], linewidth=1,\n",
    "                         label='{0} - AUC: {1:0.2f}'\n",
    "                               ''.format(name, roc_auc[name]))\n",
    "\n",
    "    else:\n",
    "\n",
    "        if save_path:\n",
    "            plt.plot(fpr[class_to_compute], tpr[class_to_compute], linewidth=1,\n",
    "                     label='{0} - AUC: {1:0.2f}'\n",
    "                           ''.format(class_to_compute, roc_auc[class_to_compute]))\n",
    "\n",
    "    if save_path:\n",
    "        plt.plot([0, 1], [0, 1], 'k--', linewidth=1)\n",
    "        plt.xlim([0.0, 1.0])\n",
    "        plt.ylim([0.0, 1.05])\n",
    "        plt.xlabel('False Positive Rate')\n",
    "        plt.ylabel('True Positive Rate')\n",
    "        plt.title('ROC curves')\n",
    "        plt.legend(loc=\"lower right\")\n",
    "\n",
    "        if isinstance(save_path, str):\n",
    "            plt.savefig(save_path)\n",
    "            plt.clf()\n",
    "        elif save_path:\n",
    "            plt.show()\n",
    "\n",
    "\n",
    "    return roc_auc, fpr, tpr"
   ]
  },
  {
   "cell_type": "code",
   "execution_count": 18,
   "metadata": {},
   "outputs": [],
   "source": [
    "def get_metrics_from_csv (csv, class_names=None, conf_mat=False, conf_mat_path=None, roc=False, roc_path=None, verbose=True):\n",
    "\n",
    "    if isinstance(csv, str):\n",
    "        data = pd.read_csv(csv)\n",
    "    else:\n",
    "        data = csv\n",
    "\n",
    "    if class_names is None:\n",
    "        class_names = data.columns.values[1:]\n",
    "\n",
    "    class_names_dict = {name: pos for pos, name in enumerate(class_names)}\n",
    "    preds = data[class_names].values\n",
    "\n",
    "    try:\n",
    "        labels_str = data['REAL'].values\n",
    "    except KeyError:\n",
    "        print (\"Warning: There is no ground truth in this file! The code will return None\")\n",
    "        return None\n",
    "\n",
    "    labels = [class_names_dict[lstr] for lstr in labels_str]\n",
    "    labels = np.array(labels)\n",
    "\n",
    "    acc = accuracy(labels, preds)\n",
    "    rep =  precision_recall_report(labels, preds, class_names, output_dict=True)\n",
    "    loss = skmet.log_loss(labels, preds)\n",
    "\n",
    "    if conf_mat:\n",
    "        plt.figure()\n",
    "        cm = conf_matrix(labels, preds, normalize=True)\n",
    "        if conf_mat_path is None:\n",
    "            p = \"./conf.png\"\n",
    "        else:\n",
    "            p = conf_mat_path\n",
    "        plot_conf_matrix(cm, class_names, title='Confusion matrix', cmap=plt.cm.GnBu, save_path=p)\n",
    "\n",
    "    if roc:\n",
    "        plt.figure()\n",
    "        auc, fpr, tpr = auc_and_roc_curve(labels, preds, class_names, save_path=roc_path)\n",
    "    else:\n",
    "        auc, fpr, tpr = auc_and_roc_curve(labels, preds, class_names, save_path=None)\n",
    "\n",
    "\n",
    "    if verbose:\n",
    "        print(\"-\" * 50)\n",
    "        print(\"- Metrics:\")\n",
    "        print(\"- Loss: {:.3f}\".format(loss))\n",
    "        print(\"- Accuracy: {:.3f}\".format(acc))\n",
    "        print(\"- Top {} Accuracy: {:.3f}\".format(topk, topk_acc))\n",
    "        print(\"- Balanced accuracy: {:.3f}\".format(ba))\n",
    "        print(\"- AUC macro: {:.3f}\".format(auc['macro']))\n",
    "\n",
    "    return acc, rep, auc, loss, fpr, tpr"
   ]
  },
  {
   "cell_type": "code",
   "execution_count": 19,
   "metadata": {},
   "outputs": [],
   "source": [
    "def save_model (model, folder_path, epoch, opt_fn, loss_fn, is_best, multi_gpu=False, verbose=False):\n",
    "\n",
    "    last_check_path = os.path.join(folder_path, 'last-checkpoint')\n",
    "    best_check_path = os.path.join(folder_path, 'best-checkpoint')\n",
    "\n",
    "    if not os.path.exists(last_check_path):\n",
    "        if verbose:\n",
    "            print ('last-checkpoint folder does not exist. I am creating it!')\n",
    "        os.mkdir(last_check_path)\n",
    "    else:\n",
    "        if verbose:\n",
    "            print ('last-checkpoint folder exist! Perfect, I will just use it.')\n",
    "\n",
    "    if not os.path.exists(best_check_path):\n",
    "        if verbose:\n",
    "            print('best-checkpoint folder does not exist. I am creating it!')\n",
    "        os.mkdir(best_check_path)\n",
    "    else:\n",
    "        if verbose:\n",
    "            print('best-checkpoint folder exist! Perfect, I will just use it.')\n",
    "\n",
    "    info_to_save = {\n",
    "        'epoch': epoch,\n",
    "        'model_state_dict': model.module.state_dict() if multi_gpu else model.state_dict(),\n",
    "        'optimizer_state_dict': opt_fn.state_dict(),\n",
    "        'loss': loss_fn,\n",
    "    }\n",
    "\n",
    "    torch.save(info_to_save, os.path.join(last_check_path, \"last-checkpoint.pth\"))\n",
    "\n",
    "    if is_best:\n",
    "        torch.save(info_to_save, os.path.join(best_check_path, 'best-checkpoint.pth'))"
   ]
  },
  {
   "cell_type": "code",
   "execution_count": 20,
   "metadata": {},
   "outputs": [],
   "source": [
    "def load_model (checkpoint_path, model, opt_fn=None, loss_fn=None, epoch=None):\n",
    "\n",
    "    if not os.path.exists(checkpoint_path):\n",
    "        raise Exception (\"The {} does not exist!\".format(checkpoint_path))\n",
    "\n",
    "    ckpt = torch.load(checkpoint_path)\n",
    "    model.load_state_dict(ckpt['model_state_dict'])\n",
    "\n",
    "    if opt_fn is not None and loss_fn is not None:\n",
    "        opt_fn.load_state_dict(ckpt['optimizer_state_dict'])\n",
    "        epoch = ckpt['epoch']\n",
    "        loss_fn = ckpt['loss']\n",
    "        return model, opt_fn, loss_fn, epoch\n",
    "    else:\n",
    "        return model"
   ]
  },
  {
   "cell_type": "code",
   "execution_count": 21,
   "metadata": {},
   "outputs": [],
   "source": [
    "class Metrics:\n",
    "\n",
    "    def __init__(self, metrics_names, class_names=None, options=None):\n",
    "\n",
    "        self.metrics_names = metrics_names\n",
    "        self.metrics_values = dict()        \n",
    "        self.options = options\n",
    "        \n",
    "        self.pred_scores = None\n",
    "        self.label_scores = None\n",
    "        self.img_names = None\n",
    "        \n",
    "        self.class_names = class_names\n",
    "        self.topk = None\n",
    "\n",
    "\n",
    "    def compute_metrics (self):\n",
    "\n",
    "        save_all_path = None\n",
    "        # Checking if save_all is informed\n",
    "        if self.options is not None:\n",
    "            if \"save_all_path\" in self.options.keys():\n",
    "                # Checking if the folder doesn't exist. If True, we must create it.\n",
    "                if not os.path.isdir(self.options[\"save_all_path\"]):\n",
    "                    os.mkdir(self.options[\"save_all_path\"])\n",
    "                save_all_path = self.options[\"save_all_path\"]\n",
    "\n",
    "        if self.metrics_names is None:\n",
    "            return None\n",
    "        \n",
    "        if self.metrics_names == \"all\":\n",
    "            self.metrics_names = [\"accuracy\", \"conf_matrix\", \"plot_conf_matrix\", \"precision_recall_report\",\n",
    "                                  \"auc_and_roc_curve\", \"auc\"]\n",
    "        \n",
    "        \n",
    "        for mets in self.metrics_names:\n",
    "            if mets == \"accuracy\":\n",
    "                self.metrics_values[\"accuracy\"] = accuracy(self.label_scores, self.pred_scores)\n",
    "                \n",
    "            elif mets == \"conf_matrix\":\n",
    "                \n",
    "                # Checking the options\n",
    "                normalize = False\n",
    "                if self.options is not None:\n",
    "                    if \"normalize_conf_matrix\" in self.options.keys():\n",
    "                        normalize = self.options[\"normalize_conf_matrix\"]\n",
    "                \n",
    "                self.metrics_values[\"conf_matrix\"] = conf_matrix(self.label_scores, self.pred_scores, normalize)\n",
    "            elif mets == \"plot_conf_matrix\":\n",
    "                \n",
    "                # Checking if the class names are defined\n",
    "                if self.class_names is None:\n",
    "                    raise Exception (\"You are trying to plot the confusion matrix without defining the classes name\")\n",
    "                \n",
    "                # Checking the options\n",
    "                save_path = None\n",
    "                normalize = False\n",
    "                title = \"Confusion Matrix\"   \n",
    "                \n",
    "                if self.options is not None:\n",
    "                    if save_all_path is not None:\n",
    "                        save_path = os.path.join(save_all_path, \"conf_mat.png\")\n",
    "                    if \"save_path_conf_matrix\" in self.options.keys():\n",
    "                        save_path = self.options[\"save_path_conf_matrix\"]\n",
    "                    if \"normalize_conf_matrix\" in self.options.keys():\n",
    "                        normalize = self.options[\"normalize_conf_matrix\"]\n",
    "                    if \"title_conf_matrix\" in self.options.keys():\n",
    "                        title = self.options[\"title_conf_matrix\"]\n",
    "                        \n",
    "                if \"conf_matrix\" in self.metrics_values.keys():\n",
    "                    cm = self.metrics_values[\"conf_matrix\"]\n",
    "                else:\n",
    "                    cm = conf_matrix(self.label_scores, self.pred_scores, normalize)\n",
    "                \n",
    "                plot_conf_matrix(cm, self.class_names, normalize, save_path, title)\n",
    "                \n",
    "                \n",
    "            elif mets == \"precision_recall_report\":\n",
    "\n",
    "                self.metrics_values[\"precision_recall_report\"] = precision_recall_report(self.label_scores,\n",
    "                                                                                              self.pred_scores,\n",
    "                                                                                              self.class_names)\n",
    "\n",
    "            elif mets == 'auc':\n",
    "                self.metrics_values[\"auc\"] = roc_auc(self.label_scores, self.pred_scores)\n",
    "                \n",
    "            elif mets == \"auc_and_roc_curve\":\n",
    "                \n",
    "                # Checking if the class names are defined\n",
    "                if self.class_names is None:\n",
    "                    raise Exception (\"You are trying to plot the confusion matrix without defining the classes name\")\n",
    "\n",
    "                # Checking the options\n",
    "                save_path = None\n",
    "                class_to_compute = \"all\"                \n",
    "\n",
    "                if self.options is not None:\n",
    "                    if save_all_path is not None:\n",
    "                        save_path = os.path.join(save_all_path, \"roc_curve.png\")\n",
    "                    if \"save_path_roc_curve\" in self.options.keys():\n",
    "                        save_path = self.options[\"save_path_roc_curve\"]\n",
    "                    if \"class_to_compute_roc_curve\" in self.options.keys():\n",
    "                        class_to_compute = self.options[\"class_to_compute_roc_curve\"]\n",
    "\n",
    "                self.metrics_values[\"auc_and_roc_curve\"] = auc_and_roc_curve(self.label_scores, self.pred_scores,\n",
    "                                                                                  self.class_names, class_to_compute, \n",
    "                                                                                  save_path)\n",
    "\n",
    "            if save_all_path is not None:\n",
    "                self.save_metrics(save_all_path)\n",
    "\n",
    "    def print (self):\n",
    "        \"\"\"\n",
    "        This method just prints the metrics on the screen\n",
    "        \"\"\"\n",
    "        \n",
    "        if self.metrics_names is None:\n",
    "            print (\"Since metrics name is None, there is no metric to print\")\n",
    "            \n",
    "        else:        \n",
    "            for met in self.metrics_values.keys():\n",
    "                if met == \"loss\":\n",
    "                    print ('- Loss: {:.3f}'.format(self.metrics_values[met]))\n",
    "                elif met == \"accuracy\":\n",
    "                    print ('- Accuracy: {:.3f}'.format(self.metrics_values[met]))\n",
    "                elif met == \"auc\":\n",
    "                    print ('- AUC: {:.3f}'.format(self.metrics_values[met]))\n",
    "                elif met == \"conf_matrix\":\n",
    "                    print('- Confusion Matrix: \\n{}'.format(self.metrics_values[met]))\n",
    "                elif met == \"precision_recall_report\":\n",
    "                    print('- Precision and Recall report: \\n{}'.format(self.metrics_values[met]))\n",
    "                elif met == \"auc_and_roc_curve\":\n",
    "                    resp = self.metrics_values[met]\n",
    "                    print('- AUC: \\n{}'.format(resp[0]))\n",
    "\n",
    "    def add_metric_value (self, value_name, value):\n",
    "        \"\"\"\n",
    "        Adding a new value from a external source into the metrics\n",
    "        :param value_name (string): the key for the dict\n",
    "        :param value: the value to be saved in the self.metrics_values\n",
    "        \"\"\"\n",
    "        self.metrics_values[value_name] = value\n",
    "\n",
    "\n",
    "    def update_scores (self, label_batch, pred_batch, img_name_batch=None):\n",
    "        \"\"\"\n",
    "        The evaluation is made using batchs. So, every batch we get just a piece of the prediction. This method\n",
    "        concatenate all prediction and labels in order to compute the metrics\n",
    "        :param pred (np.array): an array containing part of the predictions outputed by the model\n",
    "        :param label (np.array): an array contaning the true labels\n",
    "        \"\"\"\n",
    "\n",
    "        if self.label_scores is None and self.pred_scores is None:\n",
    "            self.label_scores = label_batch\n",
    "            self.pred_scores = pred_batch\n",
    "            self.img_names = img_name_batch\n",
    "        else:\n",
    "            if pred_batch is not None:\n",
    "                self.pred_scores = np.concatenate((self.pred_scores, pred_batch))\n",
    "            if label_batch is not None:\n",
    "                self.label_scores = np.concatenate((self.label_scores, label_batch))\n",
    "            if img_name_batch is not None:\n",
    "                self.img_names = np.concatenate((self.img_names, img_name_batch))\n",
    "\n",
    "\n",
    "    def save_metrics (self, folder_path, name=\"metrics.txt\"):\n",
    "        \"\"\"\n",
    "        This method saves the computed metrics\n",
    "        :param folder_path (string): the folder you'd like to save the metrics\n",
    "        :param name (string): the file name. Default is metrics.txt\n",
    "        \"\"\"\n",
    "        \n",
    "        if self.metrics_names is None:\n",
    "            print (\"Since metrics name is None, there is no metric to save\")\n",
    "            \n",
    "        else:        \n",
    "            with open(os.path.join(folder_path, name), \"w\") as f:\n",
    "    \n",
    "                f.write(\"- METRICS REPORT -\\n\\n\")\n",
    "    \n",
    "                for met in self.metrics_values.keys():\n",
    "                    if met == \"loss\":\n",
    "                        f.write('- Loss: {:.3f}\\n'.format(self.metrics_values[met]))\n",
    "                    elif met == \"accuracy\":\n",
    "                        f.write('- Accuracy: {:.3f}\\n'.format(self.metrics_values[met]))\n",
    "                    elif met == \"auc\":\n",
    "                        f.write('- AUC: {:.3f}\\n'.format(self.metrics_values[met]))\n",
    "                    elif met == \"conf_matrix\":\n",
    "                        f.write('- Confusion Matrix: \\n{}\\n'.format(self.metrics_values[met]))\n",
    "                    elif met == \"precision_recall_report\":\n",
    "                        f.write('- Precision and Recall report: \\n{}\\n'.format(self.metrics_values[met]))\n",
    "                    elif met == \"auc_and_roc_curve\":\n",
    "                        resp = self.metrics_values[met]\n",
    "                        f.write('- AUC:\\n {}\\n'.format(resp[0]))\n",
    "\n",
    "\n",
    "    def save_scores (self, folder_path=None, pred_name=\"predictions.csv\"):\n",
    "        \"\"\"\n",
    "        This method saves the concatenated scores in the disk\n",
    "        :param folder_path (string): the folder you'd like to save the scores\n",
    "        :param pred_name (string): the predictions' score file name. Default is predictions.csv\n",
    "        :param labels_name (string): the labels' score file name. Default is labels.csv\n",
    "        \"\"\"\n",
    "\n",
    "        if folder_path is not None:\n",
    "            # Checking if the folder doesn't exist. If True, we must create it.\n",
    "            if not os.path.isdir(folder_path):\n",
    "                os.mkdir(folder_path)\n",
    "        elif self.options is not None:\n",
    "            if \"save_all_path\" in self.options.keys():\n",
    "                folder_path = self.options[\"save_all_path\"]\n",
    "            elif \"save_path_scores\" in self.options.keys():\n",
    "                folder_path = self.options[\"save_path_scores\"]\n",
    "            else:\n",
    "                raise (\"The options doesnt have any folder to save the scores\")\n",
    "\n",
    "            if 'pred_name_scores' in self.options.keys():\n",
    "                pred_name = self.options['pred_name_scores']\n",
    "        else:\n",
    "            raise (\"You must set the path to save the score eithe in options or in folder_path parameter\")\n",
    "\n",
    "\n",
    "        # Getting the list of classications and predict labels\n",
    "        if self.class_names is not None:\n",
    "            if self.label_scores is not None:\n",
    "                real_labels = [self.class_names[int(l)] for l in self.label_scores]\n",
    "                real_labels = np.asarray(real_labels)\n",
    "                real_labels = real_labels.reshape(real_labels.shape[0], 1)\n",
    "\n",
    "            if self.img_names is not None:\n",
    "                img_names = np.asarray(self.img_names)\n",
    "                img_names = img_names.reshape(img_names.shape[0], 1)\n",
    "\n",
    "            pred_labels = [self.class_names[ps.argmax()] for ps in self.pred_scores]\n",
    "            pred_labels = np.asarray(pred_labels)\n",
    "            pred_labels = pred_labels.reshape(pred_labels.shape[0], 1)\n",
    "        else:\n",
    "            raise (\"You need to inform the class names to use this function\")\n",
    "\n",
    "        if self.img_names is not None and self.label_scores is not None:\n",
    "            both_data = np.concatenate((img_names, real_labels, pred_labels, self.pred_scores), axis=1)\n",
    "            cols = ['image', 'REAL', 'PRED', *self.class_names]\n",
    "        elif self.img_names is None and self.label_scores is not None:\n",
    "            both_data = np.concatenate((real_labels, pred_labels, self.pred_scores), axis=1)\n",
    "            cols = ['REAL', 'PRED', *self.class_names]\n",
    "        elif self.img_names is not None and self.label_scores is None:\n",
    "            both_data = np.concatenate((img_names, pred_labels, self.pred_scores), axis=1)\n",
    "            cols = ['image', 'PRED', *self.class_names]\n",
    "        else:\n",
    "            both_data = np.concatenate((real_labels, pred_labels, self.pred_scores), axis=1)\n",
    "            cols = ['REAL', 'PRED', *self.class_names]\n",
    "\n",
    "        df = pd.DataFrame(both_data, columns=cols)\n",
    "        print (\"Saving the scores in {}\".format(folder_path))\n",
    "\n",
    "        df.to_csv(os.path.join(folder_path, pred_name), index=False)\n",
    "\n",
    "\n",
    "\n",
    "class TrainHistory:\n",
    "    \n",
    "    def __init__(self):\n",
    "        self.val_loss = list()\n",
    "        self.val_acc = list()\n",
    "        self.train_loss = list()\n",
    "        self.train_acc = list()\n",
    "        \n",
    "    \n",
    "    def update (self, loss_train, loss_val, acc_train, acc_val):\n",
    "        \"\"\"\n",
    "        This function appends a new value to the loss/train loss and acc. These values are stored by epoch\n",
    "        :param loss_train: the train loss of the ith epoch\n",
    "        :param loss_val: the val loss of the ith epoch\n",
    "        :param acc_train: the train accuracy of the ith epoch\n",
    "        :param acc_val: the val accuracy of the ith epoch\n",
    "        \"\"\"\n",
    "\n",
    "        self.train_loss.append(loss_train)\n",
    "        self.val_loss.append(loss_val)\n",
    "        self.train_acc.append(acc_train)\n",
    "        self.val_acc.append(acc_val)\n",
    "\n",
    "\n",
    "    def save (self, folder_path):\n",
    "        \"\"\"\n",
    "        This function saves the loss and accuracy history as csv files\n",
    "        :param folder_path: a string with the base folder path\n",
    "        \"\"\"\n",
    "\n",
    "        path = os.path.join(folder_path, 'history')\n",
    "        if not os.path.isdir(path):\n",
    "            os.mkdir(path)\n",
    "\n",
    "        print (\"Saving history CSVs in {}\".format(path))\n",
    "\n",
    "        np.savetxt(os.path.join(path, \"train_loss.csv\"), np.asarray(self.train_loss), fmt='%.3f', delimiter=',')\n",
    "        np.savetxt(os.path.join(path, \"val_loss.csv\"), np.asarray(self.val_loss), fmt='%.3f', delimiter=',')\n",
    "\n",
    "        np.savetxt(os.path.join(path, \"train_acc.csv\"), np.asarray(self.train_acc), fmt='%.3f', delimiter=',')\n",
    "        np.savetxt(os.path.join(path, \"val_acc.csv\"), np.asarray(self.val_acc), fmt='%.3f', delimiter=',')\n",
    "\n",
    "\n",
    "\n",
    "    def save_plot (self, folder_path):\n",
    "        \"\"\"\n",
    "        This function saves a plot of the loss and accuracy history\n",
    "        :param folder_path: a string with the base folder path\n",
    "        \"\"\"\n",
    "\n",
    "        path = os.path.join(folder_path, 'history')\n",
    "        if not os.path.isdir(path):\n",
    "            os.mkdir(path)\n",
    "\n",
    "        epochs = [i + 1 for i in range(len(self.train_loss))]\n",
    "\n",
    "        print(\"Saving history plots in {}\".format(path))\n",
    "\n",
    "        plt.plot(epochs, self.train_loss, color='r', linestyle='solid')\n",
    "        plt.plot(epochs, self.val_loss, color='b', linestyle='solid')\n",
    "        plt.grid(color='black', linestyle='dotted', linewidth=0.7)\n",
    "        plt.legend(['Train', 'Validation'], loc='upper right')\n",
    "        plt.xlabel(\"Epoch\")\n",
    "        plt.ylabel(\"Loss\")\n",
    "        plt.title(\"Loss throughout epochs\")\n",
    "        plt.tight_layout()\n",
    "        plt.savefig(os.path.join(path, \"loss_history.png\"), dpi=300)\n",
    "\n",
    "        plt.figure()\n",
    "\n",
    "        plt.plot(epochs, self.train_acc, color='r', linestyle='solid')\n",
    "        plt.plot(epochs, self.val_acc, color='b', linestyle='solid')\n",
    "        plt.grid(color='black', linestyle='dotted', linewidth=0.7)\n",
    "        plt.legend(['Train', 'Validation'], loc='upper left')\n",
    "        plt.xlabel(\"Epoch\")\n",
    "        plt.ylabel(\"Accuracy\")\n",
    "        plt.title(\"Accuracy throughout epochs\")\n",
    "        plt.tight_layout()\n",
    "        plt.savefig(os.path.join(path, \"acc_history.png\"), dpi=300)\n",
    "\n",
    "        plt.figure()"
   ]
  },
  {
   "cell_type": "code",
   "execution_count": 22,
   "metadata": {},
   "outputs": [],
   "source": [
    "class MyMobilenet (nn.Module):\n",
    "\n",
    "    def __init__(self, mobilenet, num_class, freeze_conv=False):\n",
    "\n",
    "        super(MyMobilenet, self).__init__()\n",
    "        \n",
    "        self.features = nn.Sequential(*list(mobilenet.children())[:-1])\n",
    "\n",
    "        if freeze_conv:\n",
    "            for param in self.features.parameters():\n",
    "                param.requires_grad = False\n",
    "        self.reducer_block = nn.Sequential(nn.Linear(1280, 128),\n",
    "                                           nn.BatchNorm1d(128),\n",
    "                                           nn.ReLU(),\n",
    "                                           nn.Dropout(p=0.5)\n",
    "                                          )\n",
    "        \n",
    "        self.classifier = nn.Linear(128 + 20, num_class)\n",
    "\n",
    "    def forward(self, img, meta_data=None):\n",
    "        \n",
    "        x = self.features(img)\n",
    "        x = x.mean([2, 3])\n",
    "        x = self.reducer_block(x)\n",
    "        x = x.view(x.size(0), -1) # flatting\n",
    "        x = torch.cat([x, meta_data], dim=1) # concatenation\n",
    "        return self.classifier(x)"
   ]
  },
  {
   "cell_type": "code",
   "execution_count": 23,
   "metadata": {},
   "outputs": [],
   "source": [
    "_MODELS = ['mobilenet']\n",
    "\n",
    "def set_model (model_name, num_class, pretrained=True,freeze_conv=False):\n",
    "\n",
    "    if pretrained:\n",
    "        pre_torch = True\n",
    "    else:\n",
    "        pre_torch = False\n",
    "\n",
    "    model = None\n",
    "    if model_name == 'mobilenet':\n",
    "        model = MyMobilenet(models.mobilenet_v2(pretrained=pre_torch), num_class, freeze_conv)\n",
    "    return model"
   ]
  },
  {
   "cell_type": "code",
   "execution_count": 24,
   "metadata": {},
   "outputs": [],
   "source": [
    "def _config_logger(save_path, file_name):\n",
    "    \"\"\"\n",
    "        Internal function to configure the logger\n",
    "    \"\"\"\n",
    "    logger = logging.getLogger(\"Train-Logger\")\n",
    "    # Checking if the folder logs doesn't exist. If True, we must create it.\n",
    "    if not os.path.isdir(save_path):\n",
    "        os.makedirs(save_path)\n",
    "    logger_filename = os.path.join(save_path, f\"{file_name}_{str(time.time()).replace('.','')}.log\")\n",
    "    fhandler = logging.FileHandler(filename=logger_filename, mode='a')\n",
    "    formatter = logging.Formatter('%(asctime)s - %(name)s - %(levelname)s - %(message)s')\n",
    "    fhandler.setFormatter(formatter)\n",
    "    logger.addHandler(fhandler)\n",
    "    logger.setLevel(logging.INFO)\n",
    "    return logger\n",
    "\n",
    "\n",
    "def _train_epoch (model, optimizer, loss_fn, data_loader, c_epoch, t_epoch, device):\n",
    "\n",
    "    model.train()\n",
    "\n",
    "    print (\"Training...\")\n",
    "    # Setting tqdm to show some information on the screen\n",
    "    with tqdm(total=len(data_loader), ascii=True, desc='Epoch {}/{}: '.format(c_epoch, t_epoch), ncols=100) as t:\n",
    "\n",
    "        # Variables to store the avg metrics\n",
    "        loss_avg = AVGMetrics()\n",
    "        acc_avg = AVGMetrics()\n",
    "\n",
    "        # Getting the data from the DataLoader generator\n",
    "        for batch, data in enumerate(data_loader, 0):\n",
    "            \n",
    "            imgs_batch, labels_batch, metadata_batch, _  = data\n",
    "            imgs_batch, labels_batch = imgs_batch.to(device), labels_batch.to(device)\n",
    "            metadata_batch = metadata_batch.to(device)\n",
    "            metadata_batch = metadata_batch.float()\n",
    "\n",
    "            out = model(imgs_batch, metadata_batch)\n",
    "            loss = loss_fn(out, labels_batch)\n",
    "\n",
    "            acc = accuracy(out, labels_batch)\n",
    "\n",
    "            loss_avg.update(loss.item())\n",
    "            acc_avg.update(acc.item())\n",
    "\n",
    "            # Zero the parameters gradient\n",
    "            optimizer.zero_grad()\n",
    "\n",
    "            # Computing gradients and performing the update step\n",
    "            loss.backward()\n",
    "            optimizer.step()\n",
    "\n",
    "            # Updating tqdm\n",
    "            t.set_postfix(loss='{:05.3f}'.format(loss_avg()))\n",
    "            t.update()\n",
    "\n",
    "    return {\"loss\": loss_avg(), \"accuracy\": acc_avg() }\n",
    "\n",
    "\n",
    "def fit_model (model, train_data_loader, val_data_loader, optimizer=None, loss_fn=None, epochs=100,\n",
    "               epochs_early_stop=None, save_folder=None, initial_model=None, best_metric=\"loss\", device=None,\n",
    "               model_name=\"CNN\", resume_train=False, history_plot=True, val_metrics=('accuracy', 'auc'), \n",
    "               metric_early_stop=None):\n",
    "\n",
    "    logger = _config_logger(save_folder, model_name)\n",
    "    logger.info(\"Starting the training phase\")\n",
    "\n",
    "    if epochs_early_stop is not None:\n",
    "        logger.info('Early stopping is set using the number of epochs without improvement')\n",
    "    if metric_early_stop is not None:\n",
    "        logger.info('Early stopping is set using the min/max metric as threshold')\n",
    "    if epochs_early_stop is None and metric_early_stop is None:\n",
    "        logger.info('No early stopping is set')\n",
    "\n",
    "    history = TrainHistory()\n",
    "\n",
    "    if loss_fn is None:\n",
    "        logger.info('Loss was set as None. Using the CrossEntropy as default')\n",
    "        loss_fn = nn.CrossEntropyLoss()\n",
    "\n",
    "    if optimizer is None:\n",
    "        logger.info('Optimizer was set as None. Using the Adam with lr=0.001 as default')\n",
    "        optimizer = optim.Adam(model.parameters(), lr=0.001)\n",
    "\n",
    "\n",
    "    # Checking if we have a saved model. If we have, load it, otherwise, let's start the model from scratch\n",
    "    epoch_resume = 0\n",
    "    if initial_model is not None:\n",
    "        logger.info(\"Loading the saved model in {} folder\".format(initial_model))\n",
    "\n",
    "        if resume_train:\n",
    "            model, optimizer, loss_fn, epoch_resume = load_model(initial_model, model)\n",
    "            logger.info(\"Resuming the training from epoch {} ...\".format(epoch_resume))\n",
    "        else:\n",
    "            model = load_model(initial_model, model)\n",
    "\n",
    "    else:\n",
    "        logger.info(\"The model will be trained from scratch\")\n",
    "\n",
    "\n",
    "    # Moving the model to the given device\n",
    "    model.to(device)\n",
    "\n",
    "    # Setting data to store the best mestric\n",
    "    logging.info(\"The best metric to get the best model will be {}\".format(best_metric))\n",
    "    if best_metric == 'loss':\n",
    "        best_metric_value = 1000\n",
    "    else:\n",
    "        best_metric_value = 0\n",
    "    best_flag = False\n",
    "\n",
    "    # Checking if we need to compute the balanced accuracy\n",
    "    if val_metrics is None:\n",
    "        get_auc = False\n",
    "    else:\n",
    "        get_auc = 'auc' in val_metrics\n",
    "\n",
    "    # setting a flag for the early stop\n",
    "    early_stop_count = 0\n",
    "    best_epoch = 0\n",
    "\n",
    "    # writer is used to generate the summary files to be loaded at tensorboard\n",
    "    writer = SummaryWriter (os.path.join(save_folder, 'summaries'))\n",
    "\n",
    "    epoch = epoch_resume\n",
    "    while epoch < epochs:\n",
    "\n",
    "        # Updating epoch\n",
    "        epoch += 1\n",
    "\n",
    "        # Training and getting the metrics for one epoch\n",
    "        train_metrics = _train_epoch(model, optimizer, loss_fn, train_data_loader, epoch, epochs, device)\n",
    "\n",
    "        # After each epoch, we evaluate the model for the training and validation data\n",
    "        val_metrics = metrics_for_eval (model, val_data_loader, device, loss_fn, get_auc=get_auc)\n",
    "\n",
    "\n",
    "        # Getting the current LR\n",
    "        current_LR = None\n",
    "        for param_group in optimizer.param_groups:\n",
    "            current_LR = param_group['lr']\n",
    "\n",
    "\n",
    "        writer.add_scalars('Loss', {'val-loss': val_metrics['loss'],\n",
    "                                                 'start-loss': train_metrics['loss']},\n",
    "                                                 epoch)\n",
    "\n",
    "        writer.add_scalars('Accuracy', {'val-loss': val_metrics['accuracy'],\n",
    "                                    'start-loss': train_metrics['accuracy']},\n",
    "                                    epoch)\n",
    "\n",
    "        history.update(train_metrics['loss'], val_metrics['loss'], train_metrics['accuracy'], val_metrics['accuracy'])\n",
    "\n",
    "\n",
    "        # Getting the metrics for the training partition epoch\n",
    "        train_print = \"-- Loss: {:.3f}\\n-- Acc: {:.3f}\".format(train_metrics[\"loss\"],train_metrics[\"accuracy\"])\n",
    "\n",
    "        # Getting the metrics for the validation partition in this epoch\n",
    "        val_print = \"-- Loss: {:.3f}\\n-- Acc: {:.3f}\".format(val_metrics[\"loss\"], val_metrics[\"accuracy\"])\n",
    "        if get_auc:\n",
    "            val_print += \"\\n-- AUC: {:.3f}\".format(val_metrics['auc'])\n",
    "\n",
    "\n",
    "        early_stop_count += 1\n",
    "        new_best_print = None\n",
    "        # Defining the best metric for validation\n",
    "        if best_metric == 'loss':\n",
    "            if val_metrics[best_metric] <= best_metric_value:\n",
    "                best_metric_value = val_metrics[best_metric]\n",
    "                new_best_print = '\\n-- New best {}: {:.3f}'.format(best_metric, best_metric_value)\n",
    "                best_flag = True\n",
    "                best_epoch = epoch\n",
    "                early_stop_count = 0\n",
    "        else:\n",
    "            if val_metrics[best_metric] >= best_metric_value:\n",
    "                best_metric_value = val_metrics[best_metric]\n",
    "                new_best_print = '\\-- New best {}: {:.3f}'.format(best_metric, best_metric_value)\n",
    "                best_flag = True\n",
    "                best_epoch = epoch\n",
    "                early_stop_count = 0\n",
    "\n",
    "        # Check if it's the best model in order to save it\n",
    "        if save_folder is not None:\n",
    "            save_model(model, save_folder, epoch, optimizer, loss_fn, best_flag)\n",
    "        best_flag = False\n",
    "\n",
    "        # Updating the logger\n",
    "        msg = \"Metrics for epoch {} out of {}\\n\".format(epoch, epochs)\n",
    "        msg += \"- Train\\n\"\n",
    "        msg += train_print + \"\\n\"\n",
    "        msg += \"\\n- Validation\\n\"\n",
    "        msg += val_print + \"\\n\"\n",
    "        msg += \"\\n- Training info\"\n",
    "        msg += \"\\n-- Early stopping counting: {} max to stop is {}\".format(early_stop_count, epochs_early_stop)\n",
    "        msg += \"\\n-- Current LR: {}\".format(current_LR)\n",
    "        if new_best_print is not None:\n",
    "            msg += new_best_print\n",
    "        msg += \"\\n-- Best {} so far: {:.3f} on epoch {}\\n\".format(best_metric, best_metric_value, best_epoch)\n",
    "\n",
    "        # Checking the early stop\n",
    "        if epochs_early_stop is not None:\n",
    "            if early_stop_count >= epochs_early_stop:\n",
    "                logger.info(msg)\n",
    "                logger.info(\"The early stop trigger was activated. The validation {} \" .format(best_metric) +\n",
    "                            \"{:.3f} did not improved for {} epochs.\".format(best_metric_value,\n",
    "                                                                            epochs_early_stop) +\n",
    "                            \"The training phase was stopped.\")\n",
    "\n",
    "                break\n",
    "\n",
    "        # Checking the early stop\n",
    "        if metric_early_stop is not None:\n",
    "            stop = False\n",
    "            if best_metric == 'loss':\n",
    "                if metric_early_stop >= best_metric_value:\n",
    "                    stop = True\n",
    "            else:\n",
    "                if metric_early_stop <= best_metric_value:\n",
    "                    stop = True\n",
    "\n",
    "            if stop:\n",
    "                logger.info(msg)\n",
    "                logger.info(\"The early stop trigger was activated. The validation {} \".format(best_metric) +\n",
    "                            \"{:.3f} achieved the defined threshold {:.3f}.\".format(best_metric_value,\n",
    "                                                                            metric_early_stop) +\n",
    "                            \"The training phase was stopped.\")\n",
    "                break\n",
    "\n",
    "        # Sending all message to the logger\n",
    "        logger.info(msg)\n",
    "\n",
    "    if history_plot:\n",
    "        history.save_plot(save_folder)\n",
    "\n",
    "    history.save(save_folder)\n",
    "    print('\\n')\n",
    "\n",
    "    writer.close()"
   ]
  },
  {
   "cell_type": "code",
   "execution_count": 25,
   "metadata": {},
   "outputs": [],
   "source": [
    "def metrics_for_eval (model, data_loader, device, loss_fn, get_auc=False):\n",
    "\n",
    "    # setting the model to evaluation mode\n",
    "    model.eval()\n",
    "\n",
    "    print (\"\\nEvaluating...\")\n",
    "    # Setting tqdm to show some information on the screen\n",
    "    with tqdm(total=len(data_loader), ascii=True, ncols=100) as t:\n",
    "\n",
    "        # Setting require_grad=False in order to dimiss the gradient computation in the graph\n",
    "        with torch.no_grad():\n",
    "\n",
    "            loss_avg = AVGMetrics()\n",
    "            acc_avg = AVGMetrics()\n",
    "            topk_avg = AVGMetrics()\n",
    "\n",
    "            opt_metrics = list()\n",
    "            if not get_auc:\n",
    "                metrics = None\n",
    "            else:                \n",
    "                if get_auc:\n",
    "                    opt_metrics.append('auc')                    \n",
    "                metrics = Metrics(opt_metrics)                \n",
    "\n",
    "\n",
    "            for data in data_loader:\n",
    "                \n",
    "                images_batch, labels_batch, meta_data_batch, _  = data\n",
    "                images_batch, labels_batch = images_batch.to(device), labels_batch.to(device)\n",
    "                meta_data_batch = meta_data_batch.to(device)\n",
    "                meta_data_batch = meta_data_batch.float()\n",
    "\n",
    "                pred_batch = model(images_batch, meta_data_batch)\n",
    "                L = loss_fn(pred_batch, labels_batch)\n",
    "                # Computing the accuracy\n",
    "                acc = accuracy(pred_batch, labels_batch)\n",
    "\n",
    "                loss_avg.update(L.item())\n",
    "                acc_avg.update(acc.item())\n",
    "\n",
    "                if metrics is not None:\n",
    "                    # Moving the data to CPU and converting it to numpy in order to compute the metrics\n",
    "                    pred_batch_np = nnF.softmax(pred_batch, dim=1).cpu().numpy()\n",
    "                    labels_batch_np = labels_batch.cpu().numpy()\n",
    "                    # updating the scores\n",
    "                    metrics.update_scores(labels_batch_np, pred_batch_np)\n",
    "\n",
    "                # Updating tqdm\n",
    "                t.set_postfix(loss='{:05.3f}'.format(loss_avg()))\n",
    "                t.update()\n",
    "\n",
    "    auc = None\n",
    "    if metrics is not None:\n",
    "        # Getting the metrics\n",
    "        metrics.compute_metrics()\n",
    "        try:\n",
    "            auc =  metrics.metrics_values['auc']\n",
    "        except KeyError:\n",
    "            auc = None\n",
    "\n",
    "    return {\"loss\": loss_avg(), \"accuracy\": acc_avg(), 'auc': auc}\n",
    "\n",
    "\n",
    "# Testing the model\n",
    "def test_model (model, data_loader, checkpoint_path=None, loss_fn=None, device=None, save_pred=False,\n",
    "                    partition_name='Test', metrics_to_comp=('accuracy'), class_names=None, metrics_options=None,\n",
    "                    apply_softmax=True, verbose=True, full_path_pred=None):\n",
    "\n",
    "    # setting the model to evaluation mode\n",
    "    model.eval()\n",
    "\n",
    "    def _get_predictions (model, images_batch, meta_data_batch=None):        \n",
    "        with torch.no_grad():\n",
    "            pred_batch = model(images_batch, meta_data_batch)\n",
    "        return pred_batch\n",
    "\n",
    "    if checkpoint_path is not None:\n",
    "        model = load_model(checkpoint_path, model)\n",
    "\n",
    "    if device is None:\n",
    "        # Setting the device\n",
    "        if torch.cuda.is_available():\n",
    "            device = torch.device(\"cuda:\" + str(torch.cuda.current_device()))\n",
    "        else:\n",
    "            device = torch.device(\"cpu\")\n",
    "\n",
    "    # Moving the model to the given device\n",
    "    model.to(device)\n",
    "\n",
    "    if loss_fn is None:\n",
    "        loss_fn = nn.CrossEntropyLoss()\n",
    "\n",
    "    # Setting the metrics object\n",
    "    metrics = Metrics (metrics_to_comp, class_names, metrics_options)\n",
    "\n",
    "    print(\"Testing...\")\n",
    "    # Setting tqdm to show some information on the screen\n",
    "    with tqdm(total=len(data_loader), ascii=True, ncols=100) as t:\n",
    "\n",
    "        loss_avg = AVGMetrics()\n",
    "\n",
    "        for data in data_loader:\n",
    "                        \n",
    "            images_batch, labels_batch, meta_data_batch, _  = data\n",
    "            images_batch, labels_batch = images_batch.to(device), labels_batch.to(device)\n",
    "            meta_data_batch = meta_data_batch.to(device)\n",
    "            meta_data_batch = meta_data_batch.float()\n",
    "\n",
    "            pred_batch = _get_predictions (model, images_batch, meta_data_batch)\n",
    "            L = loss_fn(pred_batch, labels_batch)\n",
    "            loss_avg.update(L.item())\n",
    "            labels_batch_np = labels_batch.cpu().numpy()\n",
    "            if apply_softmax:\n",
    "                pred_batch_np = torch.softmax(pred_batch, dim=1).cpu().numpy()\n",
    "\n",
    "            metrics.update_scores(labels_batch_np, pred_batch_np)\n",
    "\n",
    "            # Updating tqdm\n",
    "            if metrics.metrics_names is None:\n",
    "                t.set_postfix(loss='{:05.3f}'.format(0.0))\n",
    "            else:\n",
    "                t.set_postfix(loss='{:05.3f}'.format(loss_avg()))\n",
    "\n",
    "            t.update()\n",
    "\n",
    "    # Adding loss into the metric values\n",
    "    metrics.add_metric_value(\"loss\", loss_avg())\n",
    "\n",
    "    # Getting the metrics\n",
    "    metrics.compute_metrics()\n",
    "\n",
    "    if save_pred or metrics.metrics_names is None:\n",
    "        if full_path_pred is None:\n",
    "            metrics.save_scores()\n",
    "        else:\n",
    "            _spt = full_path_pred.split('/')\n",
    "            _folder = \"/\".join(_spt[0:-1])\n",
    "            _p = _spt[-1]\n",
    "            metrics.save_scores(folder_path=_folder, pred_name=_p)\n",
    "\n",
    "    if verbose:\n",
    "        print('- {} metrics:'.format(partition_name))\n",
    "        metrics.print()\n",
    "\n",
    "\n",
    "    return metrics.metrics_values"
   ]
  },
  {
   "cell_type": "code",
   "execution_count": 26,
   "metadata": {},
   "outputs": [],
   "source": [
    "BASE_PATH = \"E:/Results/Concatinate/\"\n",
    "csv_path_train = os.path.join(BASE_PATH, \"train.csv\")\n",
    "imgs_folder_train = os.path.join(BASE_PATH, \"train\")\n",
    "\n",
    "csv_path_val = os.path.join(BASE_PATH, \"val.csv\")\n",
    "imgs_folder_val = os.path.join(BASE_PATH, \"val\")\n",
    "\n",
    "csv_path_test = os.path.join(BASE_PATH, \"test.csv\")\n",
    "imgs_folder_test = os.path.join(BASE_PATH, \"test\")\n",
    "\n",
    "batch_size =64\n",
    "epochs = 100\n",
    "\n",
    "best_metric = \"loss\"\n",
    "pretrained = True\n",
    "lr_init = 0.0001\n",
    "early_stop = 10\n",
    "weights = \"frequency\"\n",
    "\n",
    "model_name = 'mobilenet'\n",
    "save_folder = \"E:/Results/Concatinate/Results/\" + model_name"
   ]
  },
  {
   "cell_type": "code",
   "execution_count": 27,
   "metadata": {},
   "outputs": [],
   "source": [
    "def main (csv_path_train, imgs_folder_train, weights, csv_path_test, imgs_folder_test, lr_init, \n",
    "          batch_size, epochs, early_stop, model_name, pretrained, save_folder, best_metric):\n",
    "\n",
    "    meta_data_columns = ['Approximated_Age', 'F', 'M','Abdomain', 'Anterior_Torso','Armpit', 'Chin','Ear', \n",
    "                         'Forehead', 'Lateral_Face', 'Lower_Back', 'Lower_Extremity', 'Nail', 'Navel', 'Neck',\n",
    "                         'Nose', 'Perioribital', 'Posterior_Torso', 'Scalp', 'Upper_Extremity' ]\n",
    "\n",
    "    \n",
    "    metric_options = {\n",
    "        'save_all_path': os.path.join(save_folder, \"best_metrics\"),\n",
    "        'pred_name_scores': 'predictions_best_test.csv',\n",
    "        'normalize_conf_matrix': True}\n",
    "    checkpoint_best = os.path.join(save_folder, 'best-checkpoint/best-checkpoint.pth')\n",
    "\n",
    "    # Loading the csv file\n",
    "    val = pd.read_csv(csv_path_val)\n",
    "    tr = pd.read_csv(csv_path_train)\n",
    "\n",
    "    val_imgs_id = val['Image'].values\n",
    "    val_imgs_path = [\"{}/{}.jpg\".format(imgs_folder_val, Image) for Image in val_imgs_id]\n",
    "    val_labels = val['Diagnosis_number'].values\n",
    "    val_meta_data = val[meta_data_columns].values  \n",
    "    val_data_loader = get_data_loader (val_imgs_path, val_labels,val_meta_data, transform=ImgEvalTransform(), \n",
    "                                       batch_size=batch_size, shuf=True, num_workers=0, pin_memory=True)\n",
    "    train_imgs_id = tr['Image'].values\n",
    "    train_imgs_path = [\"{}/{}.jpg\".format(imgs_folder_train, Image) for Image in train_imgs_id]\n",
    "    train_labels = tr['Diagnosis_number'].values\n",
    "    train_meta_data = tr[meta_data_columns].values\n",
    "    train_data_loader = get_data_loader (train_imgs_path, train_labels, train_meta_data, transform=ImgTrainTransform(), \n",
    "                                         batch_size=batch_size, shuf=True, num_workers=0, pin_memory=True)\n",
    "    print(\"=\"*30)\n",
    "    print(\"- Loading\", model_name)\n",
    "    \n",
    "    ser_lab_freq = get_labels_frequency(tr, \"Diagnosis\", \"Image\")\n",
    "    labels_name = ser_lab_freq.index.values\n",
    "    freq = ser_lab_freq.values\n",
    "\n",
    "    model = set_model(model_name, len(labels_name), pretrained=pretrained)\n",
    "    if weights == 'frequency':\n",
    "        weights = (freq.sum() / freq).round(3)\n",
    "    loss_fn = nn.CrossEntropyLoss(weight=torch.Tensor(weights))\n",
    "    optimizer = optim.Adam(model.parameters(), lr=lr_init)\n",
    "\n",
    "    print(\"- Starting the training phase...\")\n",
    "    print(\"=\" * 30)\n",
    "    fit_model (model, train_data_loader, val_data_loader, optimizer=optimizer, loss_fn=loss_fn, epochs=epochs,\n",
    "               epochs_early_stop=early_stop, save_folder=save_folder, initial_model=None, device=None, \n",
    "               model_name=\"CNN\", resume_train=False, history_plot=True, val_metrics=[\"accuracy\"],\n",
    "               best_metric=best_metric)\n",
    "    print(\"- Evaluating the validation partition...\")\n",
    "    test_model (model, val_data_loader, checkpoint_path=checkpoint_best, loss_fn=loss_fn, save_pred=True,\n",
    "                partition_name='eval', metrics_to_comp=['accuracy'], class_names=labels_name, metrics_options=metric_options,\n",
    "                apply_softmax=True, verbose=False)\n",
    "\n",
    "    if csv_path_test is not None:\n",
    "        print(\"- Loading test data...\")\n",
    "        csv_test = pd.read_csv(csv_path_test)\n",
    "        \n",
    "        test_imgs_id = csv_test['Image'].values\n",
    "        test_imgs_path = [\"{}/{}.jpg\".format(imgs_folder_test, Image) for Image in test_imgs_id]\n",
    "        test_labels = csv_test['Diagnosis_number'].values\n",
    "        test_meta_data = csv_test[meta_data_columns].values\n",
    "        metric_options = {\n",
    "            'save_all_path': os.path.join(save_folder, \"best_metrics\"),\n",
    "            'pred_name_scores': 'predictions.csv',\n",
    "            'plot_conf_matrix': True,\n",
    "            'normalize_conf_matrix': True\n",
    "        }\n",
    "        test_data_loader = get_data_loader(test_imgs_path, test_labels,test_meta_data, transform=ImgEvalTransform(), \n",
    "                                           batch_size=batch_size, shuf=False, num_workers=0, pin_memory=True) \n",
    "        print(\"-\" * 50)\n",
    "        print(\"\\n- Evaluating the testing partition...\")\n",
    "        test_model(model, test_data_loader, checkpoint_path=None, metrics_to_comp='all', class_names=labels_name,\n",
    "                   metrics_options=metric_options, save_pred=True, verbose=False)"
   ]
  },
  {
   "cell_type": "code",
   "execution_count": 28,
   "metadata": {},
   "outputs": [
    {
     "name": "stdout",
     "output_type": "stream",
     "text": [
      "==============================\n",
      "- Loading mobilenet\n",
      "- Starting the training phase...\n",
      "==============================\n"
     ]
    },
    {
     "name": "stderr",
     "output_type": "stream",
     "text": [
      "\r",
      "Epoch 1/100:   0%|                                                           | 0/20 [00:00<?, ?it/s]"
     ]
    },
    {
     "name": "stdout",
     "output_type": "stream",
     "text": [
      "Training...\n"
     ]
    },
    {
     "name": "stderr",
     "output_type": "stream",
     "text": [
      "Epoch 1/100: 100%|######################################| 20/20 [04:39<00:00, 13.98s/it, loss=1.637]\n"
     ]
    },
    {
     "name": "stdout",
     "output_type": "stream",
     "text": [
      "\n",
      "Evaluating...\n"
     ]
    },
    {
     "name": "stderr",
     "output_type": "stream",
     "text": [
      "100%|#####################################################| 3/3 [00:13<00:00,  4.37s/it, loss=1.168]\n",
      "INFO:Train-Logger:Metrics for epoch 1 out of 100\n",
      "- Train\n",
      "-- Loss: 1.637\n",
      "-- Acc: 0.366\n",
      "\n",
      "- Validation\n",
      "-- Loss: 1.168\n",
      "-- Acc: 0.473\n",
      "\n",
      "- Training info\n",
      "-- Early stopping counting: 0 max to stop is 10\n",
      "-- Current LR: 0.0001\n",
      "-- New best loss: 1.168\n",
      "-- Best loss so far: 1.168 on epoch 1\n",
      "\n",
      "Epoch 2/100:   0%|                                                           | 0/20 [00:00<?, ?it/s]"
     ]
    },
    {
     "name": "stdout",
     "output_type": "stream",
     "text": [
      "Training...\n"
     ]
    },
    {
     "name": "stderr",
     "output_type": "stream",
     "text": [
      "Epoch 2/100: 100%|######################################| 20/20 [04:04<00:00, 12.23s/it, loss=1.004]\n",
      "  0%|                                                                         | 0/3 [00:00<?, ?it/s]"
     ]
    },
    {
     "name": "stdout",
     "output_type": "stream",
     "text": [
      "\n",
      "Evaluating...\n"
     ]
    },
    {
     "name": "stderr",
     "output_type": "stream",
     "text": [
      "100%|#####################################################| 3/3 [00:11<00:00,  3.79s/it, loss=0.779]\n",
      "INFO:Train-Logger:Metrics for epoch 2 out of 100\n",
      "- Train\n",
      "-- Loss: 1.004\n",
      "-- Acc: 0.627\n",
      "\n",
      "- Validation\n",
      "-- Loss: 0.779\n",
      "-- Acc: 0.724\n",
      "\n",
      "- Training info\n",
      "-- Early stopping counting: 0 max to stop is 10\n",
      "-- Current LR: 0.0001\n",
      "-- New best loss: 0.779\n",
      "-- Best loss so far: 0.779 on epoch 2\n",
      "\n",
      "Epoch 3/100:   0%|                                                           | 0/20 [00:00<?, ?it/s]"
     ]
    },
    {
     "name": "stdout",
     "output_type": "stream",
     "text": [
      "Training...\n"
     ]
    },
    {
     "name": "stderr",
     "output_type": "stream",
     "text": [
      "Epoch 3/100: 100%|######################################| 20/20 [04:03<00:00, 12.20s/it, loss=0.747]\n",
      "  0%|                                                                         | 0/3 [00:00<?, ?it/s]"
     ]
    },
    {
     "name": "stdout",
     "output_type": "stream",
     "text": [
      "\n",
      "Evaluating...\n"
     ]
    },
    {
     "name": "stderr",
     "output_type": "stream",
     "text": [
      "100%|#####################################################| 3/3 [00:11<00:00,  3.92s/it, loss=0.588]\n",
      "INFO:Train-Logger:Metrics for epoch 3 out of 100\n",
      "- Train\n",
      "-- Loss: 0.747\n",
      "-- Acc: 0.761\n",
      "\n",
      "- Validation\n",
      "-- Loss: 0.588\n",
      "-- Acc: 0.842\n",
      "\n",
      "- Training info\n",
      "-- Early stopping counting: 0 max to stop is 10\n",
      "-- Current LR: 0.0001\n",
      "-- New best loss: 0.588\n",
      "-- Best loss so far: 0.588 on epoch 3\n",
      "\n",
      "Epoch 4/100:   0%|                                                           | 0/20 [00:00<?, ?it/s]"
     ]
    },
    {
     "name": "stdout",
     "output_type": "stream",
     "text": [
      "Training...\n"
     ]
    },
    {
     "name": "stderr",
     "output_type": "stream",
     "text": [
      "Epoch 4/100: 100%|######################################| 20/20 [04:08<00:00, 12.41s/it, loss=0.623]\n",
      "  0%|                                                                         | 0/3 [00:00<?, ?it/s]"
     ]
    },
    {
     "name": "stdout",
     "output_type": "stream",
     "text": [
      "\n",
      "Evaluating...\n"
     ]
    },
    {
     "name": "stderr",
     "output_type": "stream",
     "text": [
      "100%|#####################################################| 3/3 [00:11<00:00,  3.75s/it, loss=0.571]\n",
      "INFO:Train-Logger:Metrics for epoch 4 out of 100\n",
      "- Train\n",
      "-- Loss: 0.623\n",
      "-- Acc: 0.814\n",
      "\n",
      "- Validation\n",
      "-- Loss: 0.571\n",
      "-- Acc: 0.860\n",
      "\n",
      "- Training info\n",
      "-- Early stopping counting: 0 max to stop is 10\n",
      "-- Current LR: 0.0001\n",
      "-- New best loss: 0.571\n",
      "-- Best loss so far: 0.571 on epoch 4\n",
      "\n",
      "Epoch 5/100:   0%|                                                           | 0/20 [00:00<?, ?it/s]"
     ]
    },
    {
     "name": "stdout",
     "output_type": "stream",
     "text": [
      "Training...\n"
     ]
    },
    {
     "name": "stderr",
     "output_type": "stream",
     "text": [
      "Epoch 5/100: 100%|######################################| 20/20 [04:08<00:00, 12.42s/it, loss=0.515]\n",
      "  0%|                                                                         | 0/3 [00:00<?, ?it/s]"
     ]
    },
    {
     "name": "stdout",
     "output_type": "stream",
     "text": [
      "\n",
      "Evaluating...\n"
     ]
    },
    {
     "name": "stderr",
     "output_type": "stream",
     "text": [
      "100%|#####################################################| 3/3 [00:09<00:00,  3.11s/it, loss=0.481]\n",
      "INFO:Train-Logger:Metrics for epoch 5 out of 100\n",
      "- Train\n",
      "-- Loss: 0.515\n",
      "-- Acc: 0.873\n",
      "\n",
      "- Validation\n",
      "-- Loss: 0.481\n",
      "-- Acc: 0.885\n",
      "\n",
      "- Training info\n",
      "-- Early stopping counting: 0 max to stop is 10\n",
      "-- Current LR: 0.0001\n",
      "-- New best loss: 0.481\n",
      "-- Best loss so far: 0.481 on epoch 5\n",
      "\n",
      "Epoch 6/100:   0%|                                                           | 0/20 [00:00<?, ?it/s]"
     ]
    },
    {
     "name": "stdout",
     "output_type": "stream",
     "text": [
      "Training...\n"
     ]
    },
    {
     "name": "stderr",
     "output_type": "stream",
     "text": [
      "Epoch 6/100: 100%|######################################| 20/20 [03:28<00:00, 10.41s/it, loss=0.470]\n",
      "  0%|                                                                         | 0/3 [00:00<?, ?it/s]"
     ]
    },
    {
     "name": "stdout",
     "output_type": "stream",
     "text": [
      "\n",
      "Evaluating...\n"
     ]
    },
    {
     "name": "stderr",
     "output_type": "stream",
     "text": [
      "100%|#####################################################| 3/3 [00:09<00:00,  3.20s/it, loss=0.426]\n",
      "INFO:Train-Logger:Metrics for epoch 6 out of 100\n",
      "- Train\n",
      "-- Loss: 0.470\n",
      "-- Acc: 0.883\n",
      "\n",
      "- Validation\n",
      "-- Loss: 0.426\n",
      "-- Acc: 0.900\n",
      "\n",
      "- Training info\n",
      "-- Early stopping counting: 0 max to stop is 10\n",
      "-- Current LR: 0.0001\n",
      "-- New best loss: 0.426\n",
      "-- Best loss so far: 0.426 on epoch 6\n",
      "\n",
      "Epoch 7/100:   0%|                                                           | 0/20 [00:00<?, ?it/s]"
     ]
    },
    {
     "name": "stdout",
     "output_type": "stream",
     "text": [
      "Training...\n"
     ]
    },
    {
     "name": "stderr",
     "output_type": "stream",
     "text": [
      "Epoch 7/100: 100%|######################################| 20/20 [03:29<00:00, 10.45s/it, loss=0.376]\n",
      "  0%|                                                                         | 0/3 [00:00<?, ?it/s]"
     ]
    },
    {
     "name": "stdout",
     "output_type": "stream",
     "text": [
      "\n",
      "Evaluating...\n"
     ]
    },
    {
     "name": "stderr",
     "output_type": "stream",
     "text": [
      "100%|#####################################################| 3/3 [00:09<00:00,  3.14s/it, loss=0.374]\n",
      "INFO:Train-Logger:Metrics for epoch 7 out of 100\n",
      "- Train\n",
      "-- Loss: 0.376\n",
      "-- Acc: 0.931\n",
      "\n",
      "- Validation\n",
      "-- Loss: 0.374\n",
      "-- Acc: 0.916\n",
      "\n",
      "- Training info\n",
      "-- Early stopping counting: 0 max to stop is 10\n",
      "-- Current LR: 0.0001\n",
      "-- New best loss: 0.374\n",
      "-- Best loss so far: 0.374 on epoch 7\n",
      "\n",
      "Epoch 8/100:   0%|                                                           | 0/20 [00:00<?, ?it/s]"
     ]
    },
    {
     "name": "stdout",
     "output_type": "stream",
     "text": [
      "Training...\n"
     ]
    },
    {
     "name": "stderr",
     "output_type": "stream",
     "text": [
      "Epoch 8/100: 100%|######################################| 20/20 [03:28<00:00, 10.43s/it, loss=0.330]\n",
      "  0%|                                                                         | 0/3 [00:00<?, ?it/s]"
     ]
    },
    {
     "name": "stdout",
     "output_type": "stream",
     "text": [
      "\n",
      "Evaluating...\n"
     ]
    },
    {
     "name": "stderr",
     "output_type": "stream",
     "text": [
      "100%|#####################################################| 3/3 [00:09<00:00,  3.07s/it, loss=0.384]\n",
      "INFO:Train-Logger:Metrics for epoch 8 out of 100\n",
      "- Train\n",
      "-- Loss: 0.330\n",
      "-- Acc: 0.944\n",
      "\n",
      "- Validation\n",
      "-- Loss: 0.384\n",
      "-- Acc: 0.899\n",
      "\n",
      "- Training info\n",
      "-- Early stopping counting: 1 max to stop is 10\n",
      "-- Current LR: 0.0001\n",
      "-- Best loss so far: 0.374 on epoch 7\n",
      "\n",
      "Epoch 9/100:   0%|                                                           | 0/20 [00:00<?, ?it/s]"
     ]
    },
    {
     "name": "stdout",
     "output_type": "stream",
     "text": [
      "Training...\n"
     ]
    },
    {
     "name": "stderr",
     "output_type": "stream",
     "text": [
      "Epoch 9/100: 100%|######################################| 20/20 [03:29<00:00, 10.46s/it, loss=0.316]\n",
      "  0%|                                                                         | 0/3 [00:00<?, ?it/s]"
     ]
    },
    {
     "name": "stdout",
     "output_type": "stream",
     "text": [
      "\n",
      "Evaluating...\n"
     ]
    },
    {
     "name": "stderr",
     "output_type": "stream",
     "text": [
      "100%|#####################################################| 3/3 [00:09<00:00,  3.15s/it, loss=0.391]\n",
      "INFO:Train-Logger:Metrics for epoch 9 out of 100\n",
      "- Train\n",
      "-- Loss: 0.316\n",
      "-- Acc: 0.934\n",
      "\n",
      "- Validation\n",
      "-- Loss: 0.391\n",
      "-- Acc: 0.909\n",
      "\n",
      "- Training info\n",
      "-- Early stopping counting: 2 max to stop is 10\n",
      "-- Current LR: 0.0001\n",
      "-- Best loss so far: 0.374 on epoch 7\n",
      "\n",
      "Epoch 10/100:   0%|                                                          | 0/20 [00:00<?, ?it/s]"
     ]
    },
    {
     "name": "stdout",
     "output_type": "stream",
     "text": [
      "Training...\n"
     ]
    },
    {
     "name": "stderr",
     "output_type": "stream",
     "text": [
      "Epoch 10/100: 100%|#####################################| 20/20 [03:27<00:00, 10.38s/it, loss=0.274]\n",
      "  0%|                                                                         | 0/3 [00:00<?, ?it/s]"
     ]
    },
    {
     "name": "stdout",
     "output_type": "stream",
     "text": [
      "\n",
      "Evaluating...\n"
     ]
    },
    {
     "name": "stderr",
     "output_type": "stream",
     "text": [
      "100%|#####################################################| 3/3 [00:09<00:00,  3.16s/it, loss=0.342]\n",
      "INFO:Train-Logger:Metrics for epoch 10 out of 100\n",
      "- Train\n",
      "-- Loss: 0.274\n",
      "-- Acc: 0.953\n",
      "\n",
      "- Validation\n",
      "-- Loss: 0.342\n",
      "-- Acc: 0.915\n",
      "\n",
      "- Training info\n",
      "-- Early stopping counting: 0 max to stop is 10\n",
      "-- Current LR: 0.0001\n",
      "-- New best loss: 0.342\n",
      "-- Best loss so far: 0.342 on epoch 10\n",
      "\n",
      "Epoch 11/100:   0%|                                                          | 0/20 [00:00<?, ?it/s]"
     ]
    },
    {
     "name": "stdout",
     "output_type": "stream",
     "text": [
      "Training...\n"
     ]
    },
    {
     "name": "stderr",
     "output_type": "stream",
     "text": [
      "Epoch 11/100: 100%|#####################################| 20/20 [03:28<00:00, 10.43s/it, loss=0.253]\n",
      "  0%|                                                                         | 0/3 [00:00<?, ?it/s]"
     ]
    },
    {
     "name": "stdout",
     "output_type": "stream",
     "text": [
      "\n",
      "Evaluating...\n"
     ]
    },
    {
     "name": "stderr",
     "output_type": "stream",
     "text": [
      "100%|#####################################################| 3/3 [00:09<00:00,  3.10s/it, loss=0.330]\n",
      "INFO:Train-Logger:Metrics for epoch 11 out of 100\n",
      "- Train\n",
      "-- Loss: 0.253\n",
      "-- Acc: 0.959\n",
      "\n",
      "- Validation\n",
      "-- Loss: 0.330\n",
      "-- Acc: 0.920\n",
      "\n",
      "- Training info\n",
      "-- Early stopping counting: 0 max to stop is 10\n",
      "-- Current LR: 0.0001\n",
      "-- New best loss: 0.330\n",
      "-- Best loss so far: 0.330 on epoch 11\n",
      "\n",
      "Epoch 12/100:   0%|                                                          | 0/20 [00:00<?, ?it/s]"
     ]
    },
    {
     "name": "stdout",
     "output_type": "stream",
     "text": [
      "Training...\n"
     ]
    },
    {
     "name": "stderr",
     "output_type": "stream",
     "text": [
      "Epoch 12/100: 100%|#####################################| 20/20 [03:28<00:00, 10.41s/it, loss=0.223]\n",
      "  0%|                                                                         | 0/3 [00:00<?, ?it/s]"
     ]
    },
    {
     "name": "stdout",
     "output_type": "stream",
     "text": [
      "\n",
      "Evaluating...\n"
     ]
    },
    {
     "name": "stderr",
     "output_type": "stream",
     "text": [
      "100%|#####################################################| 3/3 [00:09<00:00,  3.12s/it, loss=0.310]\n",
      "INFO:Train-Logger:Metrics for epoch 12 out of 100\n",
      "- Train\n",
      "-- Loss: 0.223\n",
      "-- Acc: 0.970\n",
      "\n",
      "- Validation\n",
      "-- Loss: 0.310\n",
      "-- Acc: 0.920\n",
      "\n",
      "- Training info\n",
      "-- Early stopping counting: 0 max to stop is 10\n",
      "-- Current LR: 0.0001\n",
      "-- New best loss: 0.310\n",
      "-- Best loss so far: 0.310 on epoch 12\n",
      "\n",
      "Epoch 13/100:   0%|                                                          | 0/20 [00:00<?, ?it/s]"
     ]
    },
    {
     "name": "stdout",
     "output_type": "stream",
     "text": [
      "Training...\n"
     ]
    },
    {
     "name": "stderr",
     "output_type": "stream",
     "text": [
      "Epoch 13/100: 100%|#####################################| 20/20 [03:30<00:00, 10.51s/it, loss=0.199]\n",
      "  0%|                                                                         | 0/3 [00:00<?, ?it/s]"
     ]
    },
    {
     "name": "stdout",
     "output_type": "stream",
     "text": [
      "\n",
      "Evaluating...\n"
     ]
    },
    {
     "name": "stderr",
     "output_type": "stream",
     "text": [
      "100%|#####################################################| 3/3 [00:09<00:00,  3.10s/it, loss=0.299]\n",
      "INFO:Train-Logger:Metrics for epoch 13 out of 100\n",
      "- Train\n",
      "-- Loss: 0.199\n",
      "-- Acc: 0.971\n",
      "\n",
      "- Validation\n",
      "-- Loss: 0.299\n",
      "-- Acc: 0.937\n",
      "\n",
      "- Training info\n",
      "-- Early stopping counting: 0 max to stop is 10\n",
      "-- Current LR: 0.0001\n",
      "-- New best loss: 0.299\n",
      "-- Best loss so far: 0.299 on epoch 13\n",
      "\n",
      "Epoch 14/100:   0%|                                                          | 0/20 [00:00<?, ?it/s]"
     ]
    },
    {
     "name": "stdout",
     "output_type": "stream",
     "text": [
      "Training...\n"
     ]
    },
    {
     "name": "stderr",
     "output_type": "stream",
     "text": [
      "Epoch 14/100: 100%|#####################################| 20/20 [03:30<00:00, 10.52s/it, loss=0.194]\n",
      "  0%|                                                                         | 0/3 [00:00<?, ?it/s]"
     ]
    },
    {
     "name": "stdout",
     "output_type": "stream",
     "text": [
      "\n",
      "Evaluating...\n"
     ]
    },
    {
     "name": "stderr",
     "output_type": "stream",
     "text": [
      "100%|#####################################################| 3/3 [00:09<00:00,  3.20s/it, loss=0.259]\n",
      "INFO:Train-Logger:Metrics for epoch 14 out of 100\n",
      "- Train\n",
      "-- Loss: 0.194\n",
      "-- Acc: 0.981\n",
      "\n",
      "- Validation\n",
      "-- Loss: 0.259\n",
      "-- Acc: 0.942\n",
      "\n",
      "- Training info\n",
      "-- Early stopping counting: 0 max to stop is 10\n",
      "-- Current LR: 0.0001\n",
      "-- New best loss: 0.259\n",
      "-- Best loss so far: 0.259 on epoch 14\n",
      "\n",
      "Epoch 15/100:   0%|                                                          | 0/20 [00:00<?, ?it/s]"
     ]
    },
    {
     "name": "stdout",
     "output_type": "stream",
     "text": [
      "Training...\n"
     ]
    },
    {
     "name": "stderr",
     "output_type": "stream",
     "text": [
      "Epoch 15/100: 100%|#####################################| 20/20 [03:28<00:00, 10.44s/it, loss=0.180]\n",
      "  0%|                                                                         | 0/3 [00:00<?, ?it/s]"
     ]
    },
    {
     "name": "stdout",
     "output_type": "stream",
     "text": [
      "\n",
      "Evaluating...\n"
     ]
    },
    {
     "name": "stderr",
     "output_type": "stream",
     "text": [
      "100%|#####################################################| 3/3 [00:09<00:00,  3.08s/it, loss=0.272]\n",
      "INFO:Train-Logger:Metrics for epoch 15 out of 100\n",
      "- Train\n",
      "-- Loss: 0.180\n",
      "-- Acc: 0.977\n",
      "\n",
      "- Validation\n",
      "-- Loss: 0.272\n",
      "-- Acc: 0.937\n",
      "\n",
      "- Training info\n",
      "-- Early stopping counting: 1 max to stop is 10\n",
      "-- Current LR: 0.0001\n",
      "-- Best loss so far: 0.259 on epoch 14\n",
      "\n",
      "Epoch 16/100:   0%|                                                          | 0/20 [00:00<?, ?it/s]"
     ]
    },
    {
     "name": "stdout",
     "output_type": "stream",
     "text": [
      "Training...\n"
     ]
    },
    {
     "name": "stderr",
     "output_type": "stream",
     "text": [
      "Epoch 16/100: 100%|#####################################| 20/20 [03:29<00:00, 10.46s/it, loss=0.173]\n",
      "  0%|                                                                         | 0/3 [00:00<?, ?it/s]"
     ]
    },
    {
     "name": "stdout",
     "output_type": "stream",
     "text": [
      "\n",
      "Evaluating...\n"
     ]
    },
    {
     "name": "stderr",
     "output_type": "stream",
     "text": [
      "100%|#####################################################| 3/3 [00:09<00:00,  3.18s/it, loss=0.259]\n",
      "INFO:Train-Logger:Metrics for epoch 16 out of 100\n",
      "- Train\n",
      "-- Loss: 0.173\n",
      "-- Acc: 0.977\n",
      "\n",
      "- Validation\n",
      "-- Loss: 0.259\n",
      "-- Acc: 0.937\n",
      "\n",
      "- Training info\n",
      "-- Early stopping counting: 0 max to stop is 10\n",
      "-- Current LR: 0.0001\n",
      "-- New best loss: 0.259\n",
      "-- Best loss so far: 0.259 on epoch 16\n",
      "\n",
      "Epoch 17/100:   0%|                                                          | 0/20 [00:00<?, ?it/s]"
     ]
    },
    {
     "name": "stdout",
     "output_type": "stream",
     "text": [
      "Training...\n"
     ]
    },
    {
     "name": "stderr",
     "output_type": "stream",
     "text": [
      "Epoch 17/100: 100%|#####################################| 20/20 [03:27<00:00, 10.39s/it, loss=0.156]\n",
      "  0%|                                                                         | 0/3 [00:00<?, ?it/s]"
     ]
    },
    {
     "name": "stdout",
     "output_type": "stream",
     "text": [
      "\n",
      "Evaluating...\n"
     ]
    },
    {
     "name": "stderr",
     "output_type": "stream",
     "text": [
      "100%|#####################################################| 3/3 [00:09<00:00,  3.16s/it, loss=0.261]\n",
      "INFO:Train-Logger:Metrics for epoch 17 out of 100\n",
      "- Train\n",
      "-- Loss: 0.156\n",
      "-- Acc: 0.982\n",
      "\n",
      "- Validation\n",
      "-- Loss: 0.261\n",
      "-- Acc: 0.925\n",
      "\n",
      "- Training info\n",
      "-- Early stopping counting: 1 max to stop is 10\n",
      "-- Current LR: 0.0001\n",
      "-- Best loss so far: 0.259 on epoch 16\n",
      "\n",
      "Epoch 18/100:   0%|                                                          | 0/20 [00:00<?, ?it/s]"
     ]
    },
    {
     "name": "stdout",
     "output_type": "stream",
     "text": [
      "Training...\n"
     ]
    },
    {
     "name": "stderr",
     "output_type": "stream",
     "text": [
      "Epoch 18/100: 100%|#####################################| 20/20 [03:27<00:00, 10.37s/it, loss=0.132]\n",
      "  0%|                                                                         | 0/3 [00:00<?, ?it/s]"
     ]
    },
    {
     "name": "stdout",
     "output_type": "stream",
     "text": [
      "\n",
      "Evaluating...\n"
     ]
    },
    {
     "name": "stderr",
     "output_type": "stream",
     "text": [
      "100%|#####################################################| 3/3 [00:09<00:00,  3.12s/it, loss=0.244]\n",
      "INFO:Train-Logger:Metrics for epoch 18 out of 100\n",
      "- Train\n",
      "-- Loss: 0.132\n",
      "-- Acc: 0.987\n",
      "\n",
      "- Validation\n",
      "-- Loss: 0.244\n",
      "-- Acc: 0.941\n",
      "\n",
      "- Training info\n",
      "-- Early stopping counting: 0 max to stop is 10\n",
      "-- Current LR: 0.0001\n",
      "-- New best loss: 0.244\n",
      "-- Best loss so far: 0.244 on epoch 18\n",
      "\n",
      "Epoch 19/100:   0%|                                                          | 0/20 [00:00<?, ?it/s]"
     ]
    },
    {
     "name": "stdout",
     "output_type": "stream",
     "text": [
      "Training...\n"
     ]
    },
    {
     "name": "stderr",
     "output_type": "stream",
     "text": [
      "Epoch 19/100: 100%|#####################################| 20/20 [03:29<00:00, 10.50s/it, loss=0.123]\n",
      "  0%|                                                                         | 0/3 [00:00<?, ?it/s]"
     ]
    },
    {
     "name": "stdout",
     "output_type": "stream",
     "text": [
      "\n",
      "Evaluating...\n"
     ]
    },
    {
     "name": "stderr",
     "output_type": "stream",
     "text": [
      "100%|#####################################################| 3/3 [00:09<00:00,  3.28s/it, loss=0.274]\n",
      "INFO:Train-Logger:Metrics for epoch 19 out of 100\n",
      "- Train\n",
      "-- Loss: 0.123\n",
      "-- Acc: 0.987\n",
      "\n",
      "- Validation\n",
      "-- Loss: 0.274\n",
      "-- Acc: 0.924\n",
      "\n",
      "- Training info\n",
      "-- Early stopping counting: 1 max to stop is 10\n",
      "-- Current LR: 0.0001\n",
      "-- Best loss so far: 0.244 on epoch 18\n",
      "\n",
      "Epoch 20/100:   0%|                                                          | 0/20 [00:00<?, ?it/s]"
     ]
    },
    {
     "name": "stdout",
     "output_type": "stream",
     "text": [
      "Training...\n"
     ]
    },
    {
     "name": "stderr",
     "output_type": "stream",
     "text": [
      "Epoch 20/100: 100%|#####################################| 20/20 [03:27<00:00, 10.37s/it, loss=0.131]\n",
      "  0%|                                                                         | 0/3 [00:00<?, ?it/s]"
     ]
    },
    {
     "name": "stdout",
     "output_type": "stream",
     "text": [
      "\n",
      "Evaluating...\n"
     ]
    },
    {
     "name": "stderr",
     "output_type": "stream",
     "text": [
      "100%|#####################################################| 3/3 [00:09<00:00,  3.14s/it, loss=0.243]\n",
      "INFO:Train-Logger:Metrics for epoch 20 out of 100\n",
      "- Train\n",
      "-- Loss: 0.131\n",
      "-- Acc: 0.984\n",
      "\n",
      "- Validation\n",
      "-- Loss: 0.243\n",
      "-- Acc: 0.931\n",
      "\n",
      "- Training info\n",
      "-- Early stopping counting: 0 max to stop is 10\n",
      "-- Current LR: 0.0001\n",
      "-- New best loss: 0.243\n",
      "-- Best loss so far: 0.243 on epoch 20\n",
      "\n",
      "Epoch 21/100:   0%|                                                          | 0/20 [00:00<?, ?it/s]"
     ]
    },
    {
     "name": "stdout",
     "output_type": "stream",
     "text": [
      "Training...\n"
     ]
    },
    {
     "name": "stderr",
     "output_type": "stream",
     "text": [
      "Epoch 21/100: 100%|#####################################| 20/20 [03:26<00:00, 10.34s/it, loss=0.116]\n",
      "  0%|                                                                         | 0/3 [00:00<?, ?it/s]"
     ]
    },
    {
     "name": "stdout",
     "output_type": "stream",
     "text": [
      "\n",
      "Evaluating...\n"
     ]
    },
    {
     "name": "stderr",
     "output_type": "stream",
     "text": [
      "100%|#####################################################| 3/3 [00:09<00:00,  3.13s/it, loss=0.230]\n",
      "INFO:Train-Logger:Metrics for epoch 21 out of 100\n",
      "- Train\n",
      "-- Loss: 0.116\n",
      "-- Acc: 0.989\n",
      "\n",
      "- Validation\n",
      "-- Loss: 0.230\n",
      "-- Acc: 0.936\n",
      "\n",
      "- Training info\n",
      "-- Early stopping counting: 0 max to stop is 10\n",
      "-- Current LR: 0.0001\n",
      "-- New best loss: 0.230\n",
      "-- Best loss so far: 0.230 on epoch 21\n",
      "\n",
      "Epoch 22/100:   0%|                                                          | 0/20 [00:00<?, ?it/s]"
     ]
    },
    {
     "name": "stdout",
     "output_type": "stream",
     "text": [
      "Training...\n"
     ]
    },
    {
     "name": "stderr",
     "output_type": "stream",
     "text": [
      "Epoch 22/100: 100%|#####################################| 20/20 [03:26<00:00, 10.30s/it, loss=0.109]\n",
      "  0%|                                                                         | 0/3 [00:00<?, ?it/s]"
     ]
    },
    {
     "name": "stdout",
     "output_type": "stream",
     "text": [
      "\n",
      "Evaluating...\n"
     ]
    },
    {
     "name": "stderr",
     "output_type": "stream",
     "text": [
      "100%|#####################################################| 3/3 [00:09<00:00,  3.11s/it, loss=0.214]\n",
      "INFO:Train-Logger:Metrics for epoch 22 out of 100\n",
      "- Train\n",
      "-- Loss: 0.109\n",
      "-- Acc: 0.993\n",
      "\n",
      "- Validation\n",
      "-- Loss: 0.214\n",
      "-- Acc: 0.925\n",
      "\n",
      "- Training info\n",
      "-- Early stopping counting: 0 max to stop is 10\n",
      "-- Current LR: 0.0001\n",
      "-- New best loss: 0.214\n",
      "-- Best loss so far: 0.214 on epoch 22\n",
      "\n",
      "Epoch 23/100:   0%|                                                          | 0/20 [00:00<?, ?it/s]"
     ]
    },
    {
     "name": "stdout",
     "output_type": "stream",
     "text": [
      "Training...\n"
     ]
    },
    {
     "name": "stderr",
     "output_type": "stream",
     "text": [
      "Epoch 23/100: 100%|#####################################| 20/20 [03:28<00:00, 10.43s/it, loss=0.093]\n",
      "  0%|                                                                         | 0/3 [00:00<?, ?it/s]"
     ]
    },
    {
     "name": "stdout",
     "output_type": "stream",
     "text": [
      "\n",
      "Evaluating...\n"
     ]
    },
    {
     "name": "stderr",
     "output_type": "stream",
     "text": [
      "100%|#####################################################| 3/3 [00:09<00:00,  3.12s/it, loss=0.213]\n",
      "INFO:Train-Logger:Metrics for epoch 23 out of 100\n",
      "- Train\n",
      "-- Loss: 0.093\n",
      "-- Acc: 0.993\n",
      "\n",
      "- Validation\n",
      "-- Loss: 0.213\n",
      "-- Acc: 0.937\n",
      "\n",
      "- Training info\n",
      "-- Early stopping counting: 0 max to stop is 10\n",
      "-- Current LR: 0.0001\n",
      "-- New best loss: 0.213\n",
      "-- Best loss so far: 0.213 on epoch 23\n",
      "\n",
      "Epoch 24/100:   0%|                                                          | 0/20 [00:00<?, ?it/s]"
     ]
    },
    {
     "name": "stdout",
     "output_type": "stream",
     "text": [
      "Training...\n"
     ]
    },
    {
     "name": "stderr",
     "output_type": "stream",
     "text": [
      "Epoch 24/100: 100%|#####################################| 20/20 [03:28<00:00, 10.40s/it, loss=0.098]\n",
      "  0%|                                                                         | 0/3 [00:00<?, ?it/s]"
     ]
    },
    {
     "name": "stdout",
     "output_type": "stream",
     "text": [
      "\n",
      "Evaluating...\n"
     ]
    },
    {
     "name": "stderr",
     "output_type": "stream",
     "text": [
      "100%|#####################################################| 3/3 [00:09<00:00,  3.17s/it, loss=0.213]\n",
      "INFO:Train-Logger:Metrics for epoch 24 out of 100\n",
      "- Train\n",
      "-- Loss: 0.098\n",
      "-- Acc: 0.991\n",
      "\n",
      "- Validation\n",
      "-- Loss: 0.213\n",
      "-- Acc: 0.937\n",
      "\n",
      "- Training info\n",
      "-- Early stopping counting: 1 max to stop is 10\n",
      "-- Current LR: 0.0001\n",
      "-- Best loss so far: 0.213 on epoch 23\n",
      "\n",
      "Epoch 25/100:   0%|                                                          | 0/20 [00:00<?, ?it/s]"
     ]
    },
    {
     "name": "stdout",
     "output_type": "stream",
     "text": [
      "Training...\n"
     ]
    },
    {
     "name": "stderr",
     "output_type": "stream",
     "text": [
      "Epoch 25/100: 100%|#####################################| 20/20 [03:29<00:00, 10.46s/it, loss=0.083]\n",
      "  0%|                                                                         | 0/3 [00:00<?, ?it/s]"
     ]
    },
    {
     "name": "stdout",
     "output_type": "stream",
     "text": [
      "\n",
      "Evaluating...\n"
     ]
    },
    {
     "name": "stderr",
     "output_type": "stream",
     "text": [
      "100%|#####################################################| 3/3 [00:09<00:00,  3.17s/it, loss=0.231]\n",
      "INFO:Train-Logger:Metrics for epoch 25 out of 100\n",
      "- Train\n",
      "-- Loss: 0.083\n",
      "-- Acc: 0.995\n",
      "\n",
      "- Validation\n",
      "-- Loss: 0.231\n",
      "-- Acc: 0.952\n",
      "\n",
      "- Training info\n",
      "-- Early stopping counting: 2 max to stop is 10\n",
      "-- Current LR: 0.0001\n",
      "-- Best loss so far: 0.213 on epoch 23\n",
      "\n",
      "Epoch 26/100:   0%|                                                          | 0/20 [00:00<?, ?it/s]"
     ]
    },
    {
     "name": "stdout",
     "output_type": "stream",
     "text": [
      "Training...\n"
     ]
    },
    {
     "name": "stderr",
     "output_type": "stream",
     "text": [
      "Epoch 26/100: 100%|#####################################| 20/20 [03:28<00:00, 10.42s/it, loss=0.087]\n",
      "  0%|                                                                         | 0/3 [00:00<?, ?it/s]"
     ]
    },
    {
     "name": "stdout",
     "output_type": "stream",
     "text": [
      "\n",
      "Evaluating...\n"
     ]
    },
    {
     "name": "stderr",
     "output_type": "stream",
     "text": [
      "100%|#####################################################| 3/3 [00:09<00:00,  3.08s/it, loss=0.218]\n",
      "INFO:Train-Logger:Metrics for epoch 26 out of 100\n",
      "- Train\n",
      "-- Loss: 0.087\n",
      "-- Acc: 0.992\n",
      "\n",
      "- Validation\n",
      "-- Loss: 0.218\n",
      "-- Acc: 0.947\n",
      "\n",
      "- Training info\n",
      "-- Early stopping counting: 3 max to stop is 10\n",
      "-- Current LR: 0.0001\n",
      "-- Best loss so far: 0.213 on epoch 23\n",
      "\n",
      "Epoch 27/100:   0%|                                                          | 0/20 [00:00<?, ?it/s]"
     ]
    },
    {
     "name": "stdout",
     "output_type": "stream",
     "text": [
      "Training...\n"
     ]
    },
    {
     "name": "stderr",
     "output_type": "stream",
     "text": [
      "Epoch 27/100: 100%|#####################################| 20/20 [03:26<00:00, 10.33s/it, loss=0.081]\n",
      "  0%|                                                                         | 0/3 [00:00<?, ?it/s]"
     ]
    },
    {
     "name": "stdout",
     "output_type": "stream",
     "text": [
      "\n",
      "Evaluating...\n"
     ]
    },
    {
     "name": "stderr",
     "output_type": "stream",
     "text": [
      "100%|#####################################################| 3/3 [00:09<00:00,  3.33s/it, loss=0.239]\n",
      "INFO:Train-Logger:Metrics for epoch 27 out of 100\n",
      "- Train\n",
      "-- Loss: 0.081\n",
      "-- Acc: 0.995\n",
      "\n",
      "- Validation\n",
      "-- Loss: 0.239\n",
      "-- Acc: 0.935\n",
      "\n",
      "- Training info\n",
      "-- Early stopping counting: 4 max to stop is 10\n",
      "-- Current LR: 0.0001\n",
      "-- Best loss so far: 0.213 on epoch 23\n",
      "\n",
      "Epoch 28/100:   0%|                                                          | 0/20 [00:00<?, ?it/s]"
     ]
    },
    {
     "name": "stdout",
     "output_type": "stream",
     "text": [
      "Training...\n"
     ]
    },
    {
     "name": "stderr",
     "output_type": "stream",
     "text": [
      "Epoch 28/100: 100%|#####################################| 20/20 [03:26<00:00, 10.31s/it, loss=0.078]\n",
      "  0%|                                                                         | 0/3 [00:00<?, ?it/s]"
     ]
    },
    {
     "name": "stdout",
     "output_type": "stream",
     "text": [
      "\n",
      "Evaluating...\n"
     ]
    },
    {
     "name": "stderr",
     "output_type": "stream",
     "text": [
      "100%|#####################################################| 3/3 [00:09<00:00,  3.10s/it, loss=0.204]\n",
      "INFO:Train-Logger:Metrics for epoch 28 out of 100\n",
      "- Train\n",
      "-- Loss: 0.078\n",
      "-- Acc: 0.993\n",
      "\n",
      "- Validation\n",
      "-- Loss: 0.204\n",
      "-- Acc: 0.947\n",
      "\n",
      "- Training info\n",
      "-- Early stopping counting: 0 max to stop is 10\n",
      "-- Current LR: 0.0001\n",
      "-- New best loss: 0.204\n",
      "-- Best loss so far: 0.204 on epoch 28\n",
      "\n",
      "Epoch 29/100:   0%|                                                          | 0/20 [00:00<?, ?it/s]"
     ]
    },
    {
     "name": "stdout",
     "output_type": "stream",
     "text": [
      "Training...\n"
     ]
    },
    {
     "name": "stderr",
     "output_type": "stream",
     "text": [
      "Epoch 29/100: 100%|#####################################| 20/20 [03:28<00:00, 10.40s/it, loss=0.066]\n",
      "  0%|                                                                         | 0/3 [00:00<?, ?it/s]"
     ]
    },
    {
     "name": "stdout",
     "output_type": "stream",
     "text": [
      "\n",
      "Evaluating...\n"
     ]
    },
    {
     "name": "stderr",
     "output_type": "stream",
     "text": [
      "100%|#####################################################| 3/3 [00:09<00:00,  3.07s/it, loss=0.203]\n",
      "INFO:Train-Logger:Metrics for epoch 29 out of 100\n",
      "- Train\n",
      "-- Loss: 0.066\n",
      "-- Acc: 0.998\n",
      "\n",
      "- Validation\n",
      "-- Loss: 0.203\n",
      "-- Acc: 0.952\n",
      "\n",
      "- Training info\n",
      "-- Early stopping counting: 0 max to stop is 10\n",
      "-- Current LR: 0.0001\n",
      "-- New best loss: 0.203\n",
      "-- Best loss so far: 0.203 on epoch 29\n",
      "\n",
      "Epoch 30/100:   0%|                                                          | 0/20 [00:00<?, ?it/s]"
     ]
    },
    {
     "name": "stdout",
     "output_type": "stream",
     "text": [
      "Training...\n"
     ]
    },
    {
     "name": "stderr",
     "output_type": "stream",
     "text": [
      "Epoch 30/100: 100%|#####################################| 20/20 [03:27<00:00, 10.38s/it, loss=0.066]\n",
      "  0%|                                                                         | 0/3 [00:00<?, ?it/s]"
     ]
    },
    {
     "name": "stdout",
     "output_type": "stream",
     "text": [
      "\n",
      "Evaluating...\n"
     ]
    },
    {
     "name": "stderr",
     "output_type": "stream",
     "text": [
      "100%|#####################################################| 3/3 [00:09<00:00,  3.06s/it, loss=0.179]\n",
      "INFO:Train-Logger:Metrics for epoch 30 out of 100\n",
      "- Train\n",
      "-- Loss: 0.066\n",
      "-- Acc: 0.998\n",
      "\n",
      "- Validation\n",
      "-- Loss: 0.179\n",
      "-- Acc: 0.947\n",
      "\n",
      "- Training info\n",
      "-- Early stopping counting: 0 max to stop is 10\n",
      "-- Current LR: 0.0001\n",
      "-- New best loss: 0.179\n",
      "-- Best loss so far: 0.179 on epoch 30\n",
      "\n",
      "Epoch 31/100:   0%|                                                          | 0/20 [00:00<?, ?it/s]"
     ]
    },
    {
     "name": "stdout",
     "output_type": "stream",
     "text": [
      "Training...\n"
     ]
    },
    {
     "name": "stderr",
     "output_type": "stream",
     "text": [
      "Epoch 31/100: 100%|#####################################| 20/20 [03:35<00:00, 10.80s/it, loss=0.058]\n",
      "  0%|                                                                         | 0/3 [00:00<?, ?it/s]"
     ]
    },
    {
     "name": "stdout",
     "output_type": "stream",
     "text": [
      "\n",
      "Evaluating...\n"
     ]
    },
    {
     "name": "stderr",
     "output_type": "stream",
     "text": [
      "100%|#####################################################| 3/3 [00:10<00:00,  3.44s/it, loss=0.145]\n",
      "INFO:Train-Logger:Metrics for epoch 31 out of 100\n",
      "- Train\n",
      "-- Loss: 0.058\n",
      "-- Acc: 0.998\n",
      "\n",
      "- Validation\n",
      "-- Loss: 0.145\n",
      "-- Acc: 0.969\n",
      "\n",
      "- Training info\n",
      "-- Early stopping counting: 0 max to stop is 10\n",
      "-- Current LR: 0.0001\n",
      "-- New best loss: 0.145\n",
      "-- Best loss so far: 0.145 on epoch 31\n",
      "\n",
      "Epoch 32/100:   0%|                                                          | 0/20 [00:00<?, ?it/s]"
     ]
    },
    {
     "name": "stdout",
     "output_type": "stream",
     "text": [
      "Training...\n"
     ]
    },
    {
     "name": "stderr",
     "output_type": "stream",
     "text": [
      "Epoch 32/100: 100%|#####################################| 20/20 [03:25<00:00, 10.28s/it, loss=0.059]\n",
      "  0%|                                                                         | 0/3 [00:00<?, ?it/s]"
     ]
    },
    {
     "name": "stdout",
     "output_type": "stream",
     "text": [
      "\n",
      "Evaluating...\n"
     ]
    },
    {
     "name": "stderr",
     "output_type": "stream",
     "text": [
      "100%|#####################################################| 3/3 [00:09<00:00,  3.17s/it, loss=0.235]\n",
      "INFO:Train-Logger:Metrics for epoch 32 out of 100\n",
      "- Train\n",
      "-- Loss: 0.059\n",
      "-- Acc: 0.996\n",
      "\n",
      "- Validation\n",
      "-- Loss: 0.235\n",
      "-- Acc: 0.924\n",
      "\n",
      "- Training info\n",
      "-- Early stopping counting: 1 max to stop is 10\n",
      "-- Current LR: 0.0001\n",
      "-- Best loss so far: 0.145 on epoch 31\n",
      "\n",
      "Epoch 33/100:   0%|                                                          | 0/20 [00:00<?, ?it/s]"
     ]
    },
    {
     "name": "stdout",
     "output_type": "stream",
     "text": [
      "Training...\n"
     ]
    },
    {
     "name": "stderr",
     "output_type": "stream",
     "text": [
      "Epoch 33/100: 100%|#####################################| 20/20 [03:22<00:00, 10.12s/it, loss=0.062]\n",
      "  0%|                                                                         | 0/3 [00:00<?, ?it/s]"
     ]
    },
    {
     "name": "stdout",
     "output_type": "stream",
     "text": [
      "\n",
      "Evaluating...\n"
     ]
    },
    {
     "name": "stderr",
     "output_type": "stream",
     "text": [
      "100%|#####################################################| 3/3 [00:09<00:00,  3.11s/it, loss=0.162]\n",
      "INFO:Train-Logger:Metrics for epoch 33 out of 100\n",
      "- Train\n",
      "-- Loss: 0.062\n",
      "-- Acc: 0.995\n",
      "\n",
      "- Validation\n",
      "-- Loss: 0.162\n",
      "-- Acc: 0.964\n",
      "\n",
      "- Training info\n",
      "-- Early stopping counting: 2 max to stop is 10\n",
      "-- Current LR: 0.0001\n",
      "-- Best loss so far: 0.145 on epoch 31\n",
      "\n",
      "Epoch 34/100:   0%|                                                          | 0/20 [00:00<?, ?it/s]"
     ]
    },
    {
     "name": "stdout",
     "output_type": "stream",
     "text": [
      "Training...\n"
     ]
    },
    {
     "name": "stderr",
     "output_type": "stream",
     "text": [
      "Epoch 34/100: 100%|#####################################| 20/20 [03:22<00:00, 10.14s/it, loss=0.050]\n",
      "  0%|                                                                         | 0/3 [00:00<?, ?it/s]"
     ]
    },
    {
     "name": "stdout",
     "output_type": "stream",
     "text": [
      "\n",
      "Evaluating...\n"
     ]
    },
    {
     "name": "stderr",
     "output_type": "stream",
     "text": [
      "100%|#####################################################| 3/3 [00:09<00:00,  3.12s/it, loss=0.198]\n",
      "INFO:Train-Logger:Metrics for epoch 34 out of 100\n",
      "- Train\n",
      "-- Loss: 0.050\n",
      "-- Acc: 1.000\n",
      "\n",
      "- Validation\n",
      "-- Loss: 0.198\n",
      "-- Acc: 0.947\n",
      "\n",
      "- Training info\n",
      "-- Early stopping counting: 3 max to stop is 10\n",
      "-- Current LR: 0.0001\n",
      "-- Best loss so far: 0.145 on epoch 31\n",
      "\n",
      "Epoch 35/100:   0%|                                                          | 0/20 [00:00<?, ?it/s]"
     ]
    },
    {
     "name": "stdout",
     "output_type": "stream",
     "text": [
      "Training...\n"
     ]
    },
    {
     "name": "stderr",
     "output_type": "stream",
     "text": [
      "Epoch 35/100: 100%|#####################################| 20/20 [03:21<00:00, 10.09s/it, loss=0.053]\n",
      "  0%|                                                                         | 0/3 [00:00<?, ?it/s]"
     ]
    },
    {
     "name": "stdout",
     "output_type": "stream",
     "text": [
      "\n",
      "Evaluating...\n"
     ]
    },
    {
     "name": "stderr",
     "output_type": "stream",
     "text": [
      "100%|#####################################################| 3/3 [00:09<00:00,  3.05s/it, loss=0.191]\n",
      "INFO:Train-Logger:Metrics for epoch 35 out of 100\n",
      "- Train\n",
      "-- Loss: 0.053\n",
      "-- Acc: 0.996\n",
      "\n",
      "- Validation\n",
      "-- Loss: 0.191\n",
      "-- Acc: 0.947\n",
      "\n",
      "- Training info\n",
      "-- Early stopping counting: 4 max to stop is 10\n",
      "-- Current LR: 0.0001\n",
      "-- Best loss so far: 0.145 on epoch 31\n",
      "\n",
      "Epoch 36/100:   0%|                                                          | 0/20 [00:00<?, ?it/s]"
     ]
    },
    {
     "name": "stdout",
     "output_type": "stream",
     "text": [
      "Training...\n"
     ]
    },
    {
     "name": "stderr",
     "output_type": "stream",
     "text": [
      "Epoch 36/100: 100%|#####################################| 20/20 [03:29<00:00, 10.48s/it, loss=0.047]\n",
      "  0%|                                                                         | 0/3 [00:00<?, ?it/s]"
     ]
    },
    {
     "name": "stdout",
     "output_type": "stream",
     "text": [
      "\n",
      "Evaluating...\n"
     ]
    },
    {
     "name": "stderr",
     "output_type": "stream",
     "text": [
      "100%|#####################################################| 3/3 [00:09<00:00,  3.12s/it, loss=0.133]\n",
      "INFO:Train-Logger:Metrics for epoch 36 out of 100\n",
      "- Train\n",
      "-- Loss: 0.047\n",
      "-- Acc: 0.998\n",
      "\n",
      "- Validation\n",
      "-- Loss: 0.133\n",
      "-- Acc: 0.969\n",
      "\n",
      "- Training info\n",
      "-- Early stopping counting: 0 max to stop is 10\n",
      "-- Current LR: 0.0001\n",
      "-- New best loss: 0.133\n",
      "-- Best loss so far: 0.133 on epoch 36\n",
      "\n",
      "Epoch 37/100:   0%|                                                          | 0/20 [00:00<?, ?it/s]"
     ]
    },
    {
     "name": "stdout",
     "output_type": "stream",
     "text": [
      "Training...\n"
     ]
    },
    {
     "name": "stderr",
     "output_type": "stream",
     "text": [
      "Epoch 37/100: 100%|#####################################| 20/20 [03:26<00:00, 10.34s/it, loss=0.055]\n",
      "  0%|                                                                         | 0/3 [00:00<?, ?it/s]"
     ]
    },
    {
     "name": "stdout",
     "output_type": "stream",
     "text": [
      "\n",
      "Evaluating...\n"
     ]
    },
    {
     "name": "stderr",
     "output_type": "stream",
     "text": [
      "100%|#####################################################| 3/3 [00:09<00:00,  3.07s/it, loss=0.180]\n",
      "INFO:Train-Logger:Metrics for epoch 37 out of 100\n",
      "- Train\n",
      "-- Loss: 0.055\n",
      "-- Acc: 0.997\n",
      "\n",
      "- Validation\n",
      "-- Loss: 0.180\n",
      "-- Acc: 0.947\n",
      "\n",
      "- Training info\n",
      "-- Early stopping counting: 1 max to stop is 10\n",
      "-- Current LR: 0.0001\n",
      "-- Best loss so far: 0.133 on epoch 36\n",
      "\n",
      "Epoch 38/100:   0%|                                                          | 0/20 [00:00<?, ?it/s]"
     ]
    },
    {
     "name": "stdout",
     "output_type": "stream",
     "text": [
      "Training...\n"
     ]
    },
    {
     "name": "stderr",
     "output_type": "stream",
     "text": [
      "Epoch 38/100: 100%|#####################################| 20/20 [03:21<00:00, 10.09s/it, loss=0.048]\n",
      "  0%|                                                                         | 0/3 [00:00<?, ?it/s]"
     ]
    },
    {
     "name": "stdout",
     "output_type": "stream",
     "text": [
      "\n",
      "Evaluating...\n"
     ]
    },
    {
     "name": "stderr",
     "output_type": "stream",
     "text": [
      "100%|#####################################################| 3/3 [00:09<00:00,  3.10s/it, loss=0.193]\n",
      "INFO:Train-Logger:Metrics for epoch 38 out of 100\n",
      "- Train\n",
      "-- Loss: 0.048\n",
      "-- Acc: 0.995\n",
      "\n",
      "- Validation\n",
      "-- Loss: 0.193\n",
      "-- Acc: 0.957\n",
      "\n",
      "- Training info\n",
      "-- Early stopping counting: 2 max to stop is 10\n",
      "-- Current LR: 0.0001\n",
      "-- Best loss so far: 0.133 on epoch 36\n",
      "\n",
      "Epoch 39/100:   0%|                                                          | 0/20 [00:00<?, ?it/s]"
     ]
    },
    {
     "name": "stdout",
     "output_type": "stream",
     "text": [
      "Training...\n"
     ]
    },
    {
     "name": "stderr",
     "output_type": "stream",
     "text": [
      "Epoch 39/100: 100%|#####################################| 20/20 [03:25<00:00, 10.25s/it, loss=0.047]\n",
      "  0%|                                                                         | 0/3 [00:00<?, ?it/s]"
     ]
    },
    {
     "name": "stdout",
     "output_type": "stream",
     "text": [
      "\n",
      "Evaluating...\n"
     ]
    },
    {
     "name": "stderr",
     "output_type": "stream",
     "text": [
      "100%|#####################################################| 3/3 [00:09<00:00,  3.20s/it, loss=0.155]\n",
      "INFO:Train-Logger:Metrics for epoch 39 out of 100\n",
      "- Train\n",
      "-- Loss: 0.047\n",
      "-- Acc: 0.995\n",
      "\n",
      "- Validation\n",
      "-- Loss: 0.155\n",
      "-- Acc: 0.957\n",
      "\n",
      "- Training info\n",
      "-- Early stopping counting: 3 max to stop is 10\n",
      "-- Current LR: 0.0001\n",
      "-- Best loss so far: 0.133 on epoch 36\n",
      "\n",
      "Epoch 40/100:   0%|                                                          | 0/20 [00:00<?, ?it/s]"
     ]
    },
    {
     "name": "stdout",
     "output_type": "stream",
     "text": [
      "Training...\n"
     ]
    },
    {
     "name": "stderr",
     "output_type": "stream",
     "text": [
      "Epoch 40/100: 100%|#####################################| 20/20 [03:21<00:00, 10.08s/it, loss=0.048]\n",
      "  0%|                                                                         | 0/3 [00:00<?, ?it/s]"
     ]
    },
    {
     "name": "stdout",
     "output_type": "stream",
     "text": [
      "\n",
      "Evaluating...\n"
     ]
    },
    {
     "name": "stderr",
     "output_type": "stream",
     "text": [
      "100%|#####################################################| 3/3 [00:09<00:00,  3.17s/it, loss=0.187]\n",
      "INFO:Train-Logger:Metrics for epoch 40 out of 100\n",
      "- Train\n",
      "-- Loss: 0.048\n",
      "-- Acc: 0.995\n",
      "\n",
      "- Validation\n",
      "-- Loss: 0.187\n",
      "-- Acc: 0.936\n",
      "\n",
      "- Training info\n",
      "-- Early stopping counting: 4 max to stop is 10\n",
      "-- Current LR: 0.0001\n",
      "-- Best loss so far: 0.133 on epoch 36\n",
      "\n",
      "Epoch 41/100:   0%|                                                          | 0/20 [00:00<?, ?it/s]"
     ]
    },
    {
     "name": "stdout",
     "output_type": "stream",
     "text": [
      "Training...\n"
     ]
    },
    {
     "name": "stderr",
     "output_type": "stream",
     "text": [
      "Epoch 41/100: 100%|#####################################| 20/20 [03:23<00:00, 10.17s/it, loss=0.054]\n",
      "  0%|                                                                         | 0/3 [00:00<?, ?it/s]"
     ]
    },
    {
     "name": "stdout",
     "output_type": "stream",
     "text": [
      "\n",
      "Evaluating...\n"
     ]
    },
    {
     "name": "stderr",
     "output_type": "stream",
     "text": [
      "100%|#####################################################| 3/3 [00:09<00:00,  3.16s/it, loss=0.182]\n",
      "INFO:Train-Logger:Metrics for epoch 41 out of 100\n",
      "- Train\n",
      "-- Loss: 0.054\n",
      "-- Acc: 0.995\n",
      "\n",
      "- Validation\n",
      "-- Loss: 0.182\n",
      "-- Acc: 0.947\n",
      "\n",
      "- Training info\n",
      "-- Early stopping counting: 5 max to stop is 10\n",
      "-- Current LR: 0.0001\n",
      "-- Best loss so far: 0.133 on epoch 36\n",
      "\n",
      "Epoch 42/100:   0%|                                                          | 0/20 [00:00<?, ?it/s]"
     ]
    },
    {
     "name": "stdout",
     "output_type": "stream",
     "text": [
      "Training...\n"
     ]
    },
    {
     "name": "stderr",
     "output_type": "stream",
     "text": [
      "Epoch 42/100: 100%|#####################################| 20/20 [03:23<00:00, 10.15s/it, loss=0.041]\n",
      "  0%|                                                                         | 0/3 [00:00<?, ?it/s]"
     ]
    },
    {
     "name": "stdout",
     "output_type": "stream",
     "text": [
      "\n",
      "Evaluating...\n"
     ]
    },
    {
     "name": "stderr",
     "output_type": "stream",
     "text": [
      "100%|#####################################################| 3/3 [00:09<00:00,  3.04s/it, loss=0.148]\n",
      "INFO:Train-Logger:Metrics for epoch 42 out of 100\n",
      "- Train\n",
      "-- Loss: 0.041\n",
      "-- Acc: 0.998\n",
      "\n",
      "- Validation\n",
      "-- Loss: 0.148\n",
      "-- Acc: 0.964\n",
      "\n",
      "- Training info\n",
      "-- Early stopping counting: 6 max to stop is 10\n",
      "-- Current LR: 0.0001\n",
      "-- Best loss so far: 0.133 on epoch 36\n",
      "\n",
      "Epoch 43/100:   0%|                                                          | 0/20 [00:00<?, ?it/s]"
     ]
    },
    {
     "name": "stdout",
     "output_type": "stream",
     "text": [
      "Training...\n"
     ]
    },
    {
     "name": "stderr",
     "output_type": "stream",
     "text": [
      "Epoch 43/100: 100%|#####################################| 20/20 [03:22<00:00, 10.12s/it, loss=0.038]\n",
      "  0%|                                                                         | 0/3 [00:00<?, ?it/s]"
     ]
    },
    {
     "name": "stdout",
     "output_type": "stream",
     "text": [
      "\n",
      "Evaluating...\n"
     ]
    },
    {
     "name": "stderr",
     "output_type": "stream",
     "text": [
      "100%|#####################################################| 3/3 [00:09<00:00,  3.05s/it, loss=0.231]\n",
      "INFO:Train-Logger:Metrics for epoch 43 out of 100\n",
      "- Train\n",
      "-- Loss: 0.038\n",
      "-- Acc: 0.996\n",
      "\n",
      "- Validation\n",
      "-- Loss: 0.231\n",
      "-- Acc: 0.925\n",
      "\n",
      "- Training info\n",
      "-- Early stopping counting: 7 max to stop is 10\n",
      "-- Current LR: 0.0001\n",
      "-- Best loss so far: 0.133 on epoch 36\n",
      "\n",
      "Epoch 44/100:   0%|                                                          | 0/20 [00:00<?, ?it/s]"
     ]
    },
    {
     "name": "stdout",
     "output_type": "stream",
     "text": [
      "Training...\n"
     ]
    },
    {
     "name": "stderr",
     "output_type": "stream",
     "text": [
      "Epoch 44/100: 100%|#####################################| 20/20 [03:46<00:00, 11.30s/it, loss=0.041]\n",
      "  0%|                                                                         | 0/3 [00:00<?, ?it/s]"
     ]
    },
    {
     "name": "stdout",
     "output_type": "stream",
     "text": [
      "\n",
      "Evaluating...\n"
     ]
    },
    {
     "name": "stderr",
     "output_type": "stream",
     "text": [
      "100%|#####################################################| 3/3 [00:11<00:00,  3.76s/it, loss=0.184]\n",
      "INFO:Train-Logger:Metrics for epoch 44 out of 100\n",
      "- Train\n",
      "-- Loss: 0.041\n",
      "-- Acc: 0.998\n",
      "\n",
      "- Validation\n",
      "-- Loss: 0.184\n",
      "-- Acc: 0.942\n",
      "\n",
      "- Training info\n",
      "-- Early stopping counting: 8 max to stop is 10\n",
      "-- Current LR: 0.0001\n",
      "-- Best loss so far: 0.133 on epoch 36\n",
      "\n",
      "Epoch 45/100:   0%|                                                          | 0/20 [00:00<?, ?it/s]"
     ]
    },
    {
     "name": "stdout",
     "output_type": "stream",
     "text": [
      "Training...\n"
     ]
    },
    {
     "name": "stderr",
     "output_type": "stream",
     "text": [
      "Epoch 45/100: 100%|#####################################| 20/20 [04:03<00:00, 12.19s/it, loss=0.040]\n",
      "  0%|                                                                         | 0/3 [00:00<?, ?it/s]"
     ]
    },
    {
     "name": "stdout",
     "output_type": "stream",
     "text": [
      "\n",
      "Evaluating...\n"
     ]
    },
    {
     "name": "stderr",
     "output_type": "stream",
     "text": [
      "100%|#####################################################| 3/3 [00:11<00:00,  3.82s/it, loss=0.171]\n",
      "INFO:Train-Logger:Metrics for epoch 45 out of 100\n",
      "- Train\n",
      "-- Loss: 0.040\n",
      "-- Acc: 0.997\n",
      "\n",
      "- Validation\n",
      "-- Loss: 0.171\n",
      "-- Acc: 0.946\n",
      "\n",
      "- Training info\n",
      "-- Early stopping counting: 9 max to stop is 10\n",
      "-- Current LR: 0.0001\n",
      "-- Best loss so far: 0.133 on epoch 36\n",
      "\n",
      "Epoch 46/100:   0%|                                                          | 0/20 [00:00<?, ?it/s]"
     ]
    },
    {
     "name": "stdout",
     "output_type": "stream",
     "text": [
      "Training...\n"
     ]
    },
    {
     "name": "stderr",
     "output_type": "stream",
     "text": [
      "Epoch 46/100: 100%|#####################################| 20/20 [04:03<00:00, 12.15s/it, loss=0.043]\n",
      "  0%|                                                                         | 0/3 [00:00<?, ?it/s]"
     ]
    },
    {
     "name": "stdout",
     "output_type": "stream",
     "text": [
      "\n",
      "Evaluating...\n"
     ]
    },
    {
     "name": "stderr",
     "output_type": "stream",
     "text": [
      "100%|#####################################################| 3/3 [00:11<00:00,  3.90s/it, loss=0.153]\n",
      "INFO:Train-Logger:Metrics for epoch 46 out of 100\n",
      "- Train\n",
      "-- Loss: 0.043\n",
      "-- Acc: 0.995\n",
      "\n",
      "- Validation\n",
      "-- Loss: 0.153\n",
      "-- Acc: 0.947\n",
      "\n",
      "- Training info\n",
      "-- Early stopping counting: 10 max to stop is 10\n",
      "-- Current LR: 0.0001\n",
      "-- Best loss so far: 0.133 on epoch 36\n",
      "\n",
      "INFO:Train-Logger:The early stop trigger was activated. The validation loss 0.133 did not improved for 10 epochs.The training phase was stopped.\n"
     ]
    },
    {
     "name": "stdout",
     "output_type": "stream",
     "text": [
      "Saving history plots in E:/Results/Concatinate/Results/mobilenet\\history\n",
      "Saving history CSVs in E:/Results/Concatinate/Results/mobilenet\\history\n",
      "\n",
      "\n",
      "- Evaluating the validation partition...\n"
     ]
    },
    {
     "name": "stderr",
     "output_type": "stream",
     "text": [
      "\r",
      "  0%|                                                                         | 0/3 [00:00<?, ?it/s]"
     ]
    },
    {
     "name": "stdout",
     "output_type": "stream",
     "text": [
      "Testing...\n"
     ]
    },
    {
     "name": "stderr",
     "output_type": "stream",
     "text": [
      "100%|#####################################################| 3/3 [00:12<00:00,  4.13s/it, loss=0.138]\n"
     ]
    },
    {
     "name": "stdout",
     "output_type": "stream",
     "text": [
      "Saving the scores in E:/Results/Concatinate/Results/mobilenet\\best_metrics\n",
      "- Loading test data...\n"
     ]
    },
    {
     "name": "stderr",
     "output_type": "stream",
     "text": [
      "\r",
      "  0%|                                                                         | 0/3 [00:00<?, ?it/s]"
     ]
    },
    {
     "name": "stdout",
     "output_type": "stream",
     "text": [
      "--------------------------------------------------\n",
      "\n",
      "- Evaluating the testing partition...\n",
      "Testing...\n"
     ]
    },
    {
     "name": "stderr",
     "output_type": "stream",
     "text": [
      "100%|#####################################################| 3/3 [00:13<00:00,  4.59s/it, loss=0.169]\n"
     ]
    },
    {
     "name": "stdout",
     "output_type": "stream",
     "text": [
      "Saving the scores in E:/Results/Concatinate/Results/mobilenet\\best_metrics\n"
     ]
    },
    {
     "data": {
      "image/png": "[encoded data removed]",
      "text/plain": [
       "<Figure size 432x288 with 1 Axes>"
      ]
     },
     "metadata": {
      "needs_background": "light"
     },
     "output_type": "display_data"
    },
    {
     "data": {
      "image/png": "[encoded data removed]",
      "text/plain": [
       "<Figure size 432x288 with 1 Axes>"
      ]
     },
     "metadata": {
      "needs_background": "light"
     },
     "output_type": "display_data"
    },
    {
     "data": {
      "text/plain": [
       "<Figure size 432x288 with 0 Axes>"
      ]
     },
     "metadata": {},
     "output_type": "display_data"
    },
    {
     "data": {
      "text/plain": [
       "<Figure size 432x288 with 0 Axes>"
      ]
     },
     "metadata": {},
     "output_type": "display_data"
    }
   ],
   "source": [
    "k = main(csv_path_train = csv_path_train, imgs_folder_train = imgs_folder_train, csv_path_test = csv_path_test,\n",
    "         imgs_folder_test = imgs_folder_test, lr_init = lr_init , batch_size = batch_size, epochs = epochs, \n",
    "         early_stop = early_stop, model_name = model_name, weights = weights, pretrained= pretrained, save_folder = save_folder, \n",
    "         best_metric = best_metric)"
   ]
  },
  {
   "cell_type": "code",
   "execution_count": null,
   "metadata": {},
   "outputs": [],
   "source": []
  },
  {
   "cell_type": "code",
   "execution_count": null,
   "metadata": {},
   "outputs": [],
   "source": []
  }
 ],
 "metadata": {
  "kernelspec": {
   "display_name": "Python 3",
   "language": "python",
   "name": "python3"
  },
  "language_info": {
   "codemirror_mode": {
    "name": "ipython",
    "version": 3
   },
   "file_extension": ".py",
   "mimetype": "text/x-python",
   "name": "python",
   "nbconvert_exporter": "python",
   "pygments_lexer": "ipython3",
   "version": "3.7.6"
  }
 },
 "nbformat": 4,
 "nbformat_minor": 4
}
